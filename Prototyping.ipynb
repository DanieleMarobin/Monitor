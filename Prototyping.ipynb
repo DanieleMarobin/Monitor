{
 "cells": [
  {
   "cell_type": "code",
   "execution_count": null,
   "metadata": {},
   "outputs": [],
   "source": [
    "%load_ext autoreload\n",
    "%autoreload 2"
   ]
  },
  {
   "cell_type": "code",
   "execution_count": null,
   "metadata": {},
   "outputs": [],
   "source": [
    "import sys;\n",
    "sys.path.append(r'C:\\Monitor\\\\')\n",
    "sys.path.append(r'\\\\ac-geneva-24\\E\\grains trading\\Streamlit\\Monitor\\\\')\n",
    "\n",
    "from datetime import datetime as dt\n",
    "\n",
    "import numpy as np\n",
    "import pandas as pd\n",
    "\n",
    "import Utilities.Modeling as um\n",
    "import Utilities.Weather as uw\n",
    "import Utilities.GLOBAL as GV\n",
    "import Utilities.Utilities as uu\n",
    "\n",
    "import plotly.express as px\n",
    "\n",
    "import Models.Soybean_USA_Yield_GA as sy\n",
    "\n",
    "import warnings # supress warnings\n",
    "warnings.filterwarnings('ignore')\n",
    "pd.options.mode.chained_assignment = None"
   ]
  },
  {
   "cell_type": "code",
   "execution_count": null,
   "metadata": {},
   "outputs": [],
   "source": [
    "scope = sy.Define_Scope()\n",
    "w_df_all=uw.build_w_df_all(scope['geo_df'], scope['w_vars'], scope['geo_input_file'], scope['geo_output_column'])\n",
    "w_df_all.keys()"
   ]
  },
  {
   "cell_type": "code",
   "execution_count": null,
   "metadata": {},
   "outputs": [],
   "source": [
    "test_df=w_df_all['hist'][['IL_Prec']]\n",
    "dt_s=dt(2022,5,1)\n",
    "dt_e=dt(2022,10,1)\n",
    "\n",
    "ref_year_s=dt(2022,11,4)\n",
    "\n",
    "massive_df=um.generate_weather_windows_df(test_df, date_start=dt_s, date_end=dt_e, ref_year_start=ref_year_s)\n",
    "\n",
    "# test_df.head(15)\n",
    "# test_df.tail(15)\n",
    "\n",
    "# uu.show_excel_index(test_df)\n",
    "massive_df"
   ]
  },
  {
   "cell_type": "code",
   "execution_count": null,
   "metadata": {},
   "outputs": [],
   "source": []
  },
  {
   "cell_type": "code",
   "execution_count": null,
   "metadata": {},
   "outputs": [],
   "source": []
  },
  {
   "cell_type": "code",
   "execution_count": null,
   "metadata": {},
   "outputs": [],
   "source": []
  },
  {
   "cell_type": "code",
   "execution_count": null,
   "metadata": {},
   "outputs": [],
   "source": []
  },
  {
   "cell_type": "code",
   "execution_count": null,
   "metadata": {},
   "outputs": [],
   "source": []
  }
 ],
 "metadata": {
  "kernelspec": {
   "display_name": "Python 3.9.7 ('base')",
   "language": "python",
   "name": "python3"
  },
  "language_info": {
   "codemirror_mode": {
    "name": "ipython",
    "version": 3
   },
   "file_extension": ".py",
   "mimetype": "text/x-python",
   "name": "python",
   "nbconvert_exporter": "python",
   "pygments_lexer": "ipython3",
   "version": "3.9.7"
  },
  "orig_nbformat": 4,
  "vscode": {
   "interpreter": {
    "hash": "81806929c4ea32b87193d389f5f734f17a32767e49f2b419faebda3ef5b9cfb7"
   }
  }
 },
 "nbformat": 4,
 "nbformat_minor": 2
}
