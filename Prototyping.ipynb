{
 "cells": [
  {
   "cell_type": "code",
   "execution_count": 1,
   "metadata": {},
   "outputs": [],
   "source": [
    "%load_ext autoreload\n",
    "%autoreload 2"
   ]
  },
  {
   "cell_type": "code",
   "execution_count": 13,
   "metadata": {},
   "outputs": [],
   "source": [
    "import sys;\n",
    "sys.path.append(r'C:\\Monitor\\\\')\n",
    "sys.path.append(r'\\\\ac-geneva-24\\E\\grains trading\\Streamlit\\Monitor\\\\')\n",
    "\n",
    "from datetime import datetime as dt\n",
    "\n",
    "import numpy as np\n",
    "import pandas as pd; pd.options.mode.chained_assignment = None\n",
    "\n",
    "import APIs.Bloomberg as ba\n",
    "import Weather.W_USA as wu\n",
    "\n",
    "import Utilities.Weather as uw\n",
    "import Utilities.GLOBAL as GV\n",
    "import plotly.express as px"
   ]
  },
  {
   "cell_type": "code",
   "execution_count": 3,
   "metadata": {},
   "outputs": [],
   "source": [
    "blp = ba.BLPInterface('//blp/exrsvc')"
   ]
  },
  {
   "cell_type": "code",
   "execution_count": 21,
   "metadata": {},
   "outputs": [
    {
     "name": "stdout",
     "output_type": "stream",
     "text": [
      "2022-07-04T12:00:00\n"
     ]
    },
    {
     "data": {
      "text/html": [
       "<div>\n",
       "<style scoped>\n",
       "    .dataframe tbody tr th:only-of-type {\n",
       "        vertical-align: middle;\n",
       "    }\n",
       "\n",
       "    .dataframe tbody tr th {\n",
       "        vertical-align: top;\n",
       "    }\n",
       "\n",
       "    .dataframe thead th {\n",
       "        text-align: right;\n",
       "    }\n",
       "</style>\n",
       "<table border=\"1\" class=\"dataframe\">\n",
       "  <thead>\n",
       "    <tr style=\"text-align: right;\">\n",
       "      <th></th>\n",
       "      <th>Reported Time</th>\n",
       "      <th>Location Time</th>\n",
       "      <th>Temperature (°C)</th>\n",
       "      <th>Precipitation (mm)</th>\n",
       "      <th>date</th>\n",
       "    </tr>\n",
       "  </thead>\n",
       "  <tbody>\n",
       "    <tr>\n",
       "      <th>0</th>\n",
       "      <td>2022-07-04 12:00:00+00:00</td>\n",
       "      <td>2022-07-04 07:00:00-05:00</td>\n",
       "      <td>21.92</td>\n",
       "      <td>0</td>\n",
       "      <td>2022-07-04</td>\n",
       "    </tr>\n",
       "    <tr>\n",
       "      <th>1</th>\n",
       "      <td>2022-07-04 15:00:00+00:00</td>\n",
       "      <td>2022-07-04 10:00:00-05:00</td>\n",
       "      <td>25.45</td>\n",
       "      <td>3.12</td>\n",
       "      <td>2022-07-04</td>\n",
       "    </tr>\n",
       "    <tr>\n",
       "      <th>2</th>\n",
       "      <td>2022-07-04 18:00:00+00:00</td>\n",
       "      <td>2022-07-04 13:00:00-05:00</td>\n",
       "      <td>29.22</td>\n",
       "      <td>1.25</td>\n",
       "      <td>2022-07-04</td>\n",
       "    </tr>\n",
       "    <tr>\n",
       "      <th>3</th>\n",
       "      <td>2022-07-04 21:00:00+00:00</td>\n",
       "      <td>2022-07-04 16:00:00-05:00</td>\n",
       "      <td>32.83</td>\n",
       "      <td>0.37</td>\n",
       "      <td>2022-07-04</td>\n",
       "    </tr>\n",
       "    <tr>\n",
       "      <th>4</th>\n",
       "      <td>2022-07-05 00:00:00+00:00</td>\n",
       "      <td>2022-07-04 19:00:00-05:00</td>\n",
       "      <td>32.45</td>\n",
       "      <td>1.14</td>\n",
       "      <td>2022-07-04</td>\n",
       "    </tr>\n",
       "    <tr>\n",
       "      <th>...</th>\n",
       "      <td>...</td>\n",
       "      <td>...</td>\n",
       "      <td>...</td>\n",
       "      <td>...</td>\n",
       "      <td>...</td>\n",
       "    </tr>\n",
       "    <tr>\n",
       "      <th>124</th>\n",
       "      <td>2022-07-20 00:00:00+00:00</td>\n",
       "      <td>2022-07-19 19:00:00-05:00</td>\n",
       "      <td>29.48</td>\n",
       "      <td>0.06</td>\n",
       "      <td>2022-07-19</td>\n",
       "    </tr>\n",
       "    <tr>\n",
       "      <th>125</th>\n",
       "      <td>2022-07-20 03:00:00+00:00</td>\n",
       "      <td>2022-07-19 22:00:00-05:00</td>\n",
       "      <td>23.67</td>\n",
       "      <td>0.02</td>\n",
       "      <td>2022-07-19</td>\n",
       "    </tr>\n",
       "    <tr>\n",
       "      <th>126</th>\n",
       "      <td>2022-07-20 06:00:00+00:00</td>\n",
       "      <td>2022-07-20 01:00:00-05:00</td>\n",
       "      <td>20.83</td>\n",
       "      <td>0.02</td>\n",
       "      <td>2022-07-20</td>\n",
       "    </tr>\n",
       "    <tr>\n",
       "      <th>127</th>\n",
       "      <td>2022-07-20 09:00:00+00:00</td>\n",
       "      <td>2022-07-20 04:00:00-05:00</td>\n",
       "      <td>19.22</td>\n",
       "      <td>0.0</td>\n",
       "      <td>2022-07-20</td>\n",
       "    </tr>\n",
       "    <tr>\n",
       "      <th>128</th>\n",
       "      <td>2022-07-20 12:00:00+00:00</td>\n",
       "      <td>2022-07-20 07:00:00-05:00</td>\n",
       "      <td>19.80</td>\n",
       "      <td>0.0</td>\n",
       "      <td>2022-07-20</td>\n",
       "    </tr>\n",
       "  </tbody>\n",
       "</table>\n",
       "<p>129 rows × 5 columns</p>\n",
       "</div>"
      ],
      "text/plain": [
       "                Reported Time             Location Time  Temperature (°C)  \\\n",
       "0   2022-07-04 12:00:00+00:00 2022-07-04 07:00:00-05:00             21.92   \n",
       "1   2022-07-04 15:00:00+00:00 2022-07-04 10:00:00-05:00             25.45   \n",
       "2   2022-07-04 18:00:00+00:00 2022-07-04 13:00:00-05:00             29.22   \n",
       "3   2022-07-04 21:00:00+00:00 2022-07-04 16:00:00-05:00             32.83   \n",
       "4   2022-07-05 00:00:00+00:00 2022-07-04 19:00:00-05:00             32.45   \n",
       "..                        ...                       ...               ...   \n",
       "124 2022-07-20 00:00:00+00:00 2022-07-19 19:00:00-05:00             29.48   \n",
       "125 2022-07-20 03:00:00+00:00 2022-07-19 22:00:00-05:00             23.67   \n",
       "126 2022-07-20 06:00:00+00:00 2022-07-20 01:00:00-05:00             20.83   \n",
       "127 2022-07-20 09:00:00+00:00 2022-07-20 04:00:00-05:00             19.22   \n",
       "128 2022-07-20 12:00:00+00:00 2022-07-20 07:00:00-05:00             19.80   \n",
       "\n",
       "    Precipitation (mm)        date  \n",
       "0                    0  2022-07-04  \n",
       "1                 3.12  2022-07-04  \n",
       "2                 1.25  2022-07-04  \n",
       "3                 0.37  2022-07-04  \n",
       "4                 1.14  2022-07-04  \n",
       "..                 ...         ...  \n",
       "124               0.06  2022-07-19  \n",
       "125               0.02  2022-07-19  \n",
       "126               0.02  2022-07-20  \n",
       "127                0.0  2022-07-20  \n",
       "128                0.0  2022-07-20  \n",
       "\n",
       "[129 rows x 5 columns]"
      ]
     },
     "execution_count": 21,
     "metadata": {},
     "output_type": "execute_result"
    }
   ],
   "source": [
    "run = dt(2022,7,4,12,0,0)\n",
    "run_str = run.strftime(\"%Y-%m-%dT%H:%M:%S\")\n",
    "\n",
    "print(run_str)\n",
    "\n",
    "location = 'US_IA'\n",
    "forecast = 'GFS'\n",
    "\n",
    "# overrides = {'location': location, 'fields':'TEMPERATURE|PRECIPITATION', 'model':forecast,'publication_date':'2022-07-04T00:00:00','location_time':True}\n",
    "overrides = {'location': location, 'fields':'TEMPERATURE|PRECIPITATION', 'model':forecast,'publication_date':run_str,'location_time':True}\n",
    "\n",
    "df_GFS = blp.bsrch('comdty:weather', overrides)\n",
    "df_GFS['Location Time'] =  pd.to_datetime(df_GFS['Location Time'])\n",
    "df_GFS['date']=df_GFS['Location Time'].dt.date\n",
    "df_GFS['Precipitation (mm)'].iloc[0]=0\n",
    "df_GFS"
   ]
  },
  {
   "cell_type": "code",
   "execution_count": 10,
   "metadata": {},
   "outputs": [
    {
     "data": {
      "text/plain": [
       "pandas.core.frame.DataFrame"
      ]
     },
     "execution_count": 10,
     "metadata": {},
     "output_type": "execute_result"
    }
   ],
   "source": [
    "prec_df = df_GFS.groupby('date')[['Precipitation (mm)']].sum()\n",
    "type(prec_df)"
   ]
  },
  {
   "cell_type": "code",
   "execution_count": 19,
   "metadata": {},
   "outputs": [
    {
     "name": "stdout",
     "output_type": "stream",
     "text": [
      "2022-07-04T00:00:00\n",
      "Saved Data/Weather/IA_Prec_gfs.csv\n",
      "Saved Data/Weather/IL_Prec_gfs.csv\n"
     ]
    }
   ],
   "source": [
    "corn_states=['IA','IL']\n",
    "run=dt(2022,7,4,12,0,0)\n",
    "wu.udpate_USA_Bloomberg(run, corn_states, forecast='GFS')"
   ]
  },
  {
   "cell_type": "code",
   "execution_count": 16,
   "metadata": {},
   "outputs": [
    {
     "data": {
      "text/plain": [
       "datetime.datetime(2022, 7, 4, 19, 32, 18, 674376)"
      ]
     },
     "execution_count": 16,
     "metadata": {},
     "output_type": "execute_result"
    }
   ],
   "source": [
    "dt.now()"
   ]
  }
 ],
 "metadata": {
  "kernelspec": {
   "display_name": "Python 3.9.7 ('base')",
   "language": "python",
   "name": "python3"
  },
  "language_info": {
   "codemirror_mode": {
    "name": "ipython",
    "version": 3
   },
   "file_extension": ".py",
   "mimetype": "text/x-python",
   "name": "python",
   "nbconvert_exporter": "python",
   "pygments_lexer": "ipython3",
   "version": "3.9.7"
  },
  "orig_nbformat": 4,
  "vscode": {
   "interpreter": {
    "hash": "81806929c4ea32b87193d389f5f734f17a32767e49f2b419faebda3ef5b9cfb7"
   }
  }
 },
 "nbformat": 4,
 "nbformat_minor": 2
}
