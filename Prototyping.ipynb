{
 "cells": [
  {
   "cell_type": "code",
   "execution_count": null,
   "metadata": {},
   "outputs": [],
   "source": [
    "%load_ext autoreload\n",
    "%autoreload 2"
   ]
  },
  {
   "cell_type": "code",
   "execution_count": null,
   "metadata": {},
   "outputs": [],
   "source": [
    "import sys;\n",
    "sys.path.append(r'C:\\Monitor\\\\')\n",
    "sys.path.append(r'\\\\ac-geneva-24\\E\\grains trading\\Streamlit\\Monitor\\\\')\n",
    "\n",
    "from datetime import datetime as dt\n",
    "\n",
    "import numpy as np\n",
    "import pandas as pd; pd.options.mode.chained_assignment = None\n",
    "\n",
    "import APIs.Bloomberg as ba\n",
    "import Weather.W_USA as wu\n",
    "\n",
    "import Utilities.Weather as uw\n",
    "import Utilities.GLOBAL as GV\n",
    "import plotly.express as px"
   ]
  },
  {
   "cell_type": "code",
   "execution_count": 63,
   "metadata": {},
   "outputs": [
    {
     "name": "stdout",
     "output_type": "stream",
     "text": [
      "Invalid parameter passed: CID: {[ valueType=AUTOGEN classId=0 value=420 ]}\n",
      "RequestId: 281c7fa6-126a-475f-8e5a-ca4d5a3bd173\n",
      "GridResponse = {\n",
      "    NumOfFields = 0\n",
      "    NumOfRecords = 0\n",
      "    ColumnTitles[] = {\n",
      "    }\n",
      "    DataRecords[] = {\n",
      "        DataRecords = {\n",
      "            DataFields[] = {\n",
      "            }\n",
      "        }\n",
      "    }\n",
      "    ReachMax = true\n",
      "    Error = \"No weather data points found.\"\n",
      "    SequenceNumber = 0\n",
      "}\n",
      "\n",
      "Invalid parameter passed: CID: {[ valueType=AUTOGEN classId=0 value=421 ]}\n",
      "RequestId: d17b1a80-7c7d-4995-a3a7-bf5d8c673c85\n",
      "GridResponse = {\n",
      "    NumOfFields = 0\n",
      "    NumOfRecords = 0\n",
      "    ColumnTitles[] = {\n",
      "    }\n",
      "    DataRecords[] = {\n",
      "        DataRecords = {\n",
      "            DataFields[] = {\n",
      "            }\n",
      "        }\n",
      "    }\n",
      "    ReachMax = true\n",
      "    Error = \"No weather data points found.\"\n",
      "    SequenceNumber = 0\n",
      "}\n",
      "\n",
      "Invalid parameter passed: CID: {[ valueType=AUTOGEN classId=0 value=422 ]}\n",
      "RequestId: 28541ee4-d6dc-4763-b05d-447c2431ba93\n",
      "GridResponse = {\n",
      "    NumOfFields = 0\n",
      "    NumOfRecords = 0\n",
      "    ColumnTitles[] = {\n",
      "    }\n",
      "    DataRecords[] = {\n",
      "        DataRecords = {\n",
      "            DataFields[] = {\n",
      "            }\n",
      "        }\n",
      "    }\n",
      "    ReachMax = true\n",
      "    Error = \"No weather data points found.\"\n",
      "    SequenceNumber = 0\n",
      "}\n",
      "\n",
      "Invalid parameter passed: CID: {[ valueType=AUTOGEN classId=0 value=423 ]}\n",
      "RequestId: 23a8d65f-9143-4966-85a4-4a321359a3b5\n",
      "GridResponse = {\n",
      "    NumOfFields = 0\n",
      "    NumOfRecords = 0\n",
      "    ColumnTitles[] = {\n",
      "    }\n",
      "    DataRecords[] = {\n",
      "        DataRecords = {\n",
      "            DataFields[] = {\n",
      "            }\n",
      "        }\n",
      "    }\n",
      "    ReachMax = true\n",
      "    Error = \"No weather data points found.\"\n",
      "    SequenceNumber = 0\n",
      "}\n",
      "\n",
      "Invalid parameter passed: CID: {[ valueType=AUTOGEN classId=0 value=424 ]}\n",
      "RequestId: 2600b7f9-ee52-45b0-a970-ba33ae867d2f\n",
      "GridResponse = {\n",
      "    NumOfFields = 0\n",
      "    NumOfRecords = 0\n",
      "    ColumnTitles[] = {\n",
      "    }\n",
      "    DataRecords[] = {\n",
      "        DataRecords = {\n",
      "            DataFields[] = {\n",
      "            }\n",
      "        }\n",
      "    }\n",
      "    ReachMax = true\n",
      "    Error = \"No weather data points found.\"\n",
      "    SequenceNumber = 0\n",
      "}\n",
      "\n",
      "Invalid parameter passed: CID: {[ valueType=AUTOGEN classId=0 value=425 ]}\n",
      "RequestId: 71acb05a-542d-4ad1-9ab8-2448543bec95\n",
      "GridResponse = {\n",
      "    NumOfFields = 0\n",
      "    NumOfRecords = 0\n",
      "    ColumnTitles[] = {\n",
      "    }\n",
      "    DataRecords[] = {\n",
      "        DataRecords = {\n",
      "            DataFields[] = {\n",
      "            }\n",
      "        }\n",
      "    }\n",
      "    ReachMax = true\n",
      "    Error = \"No weather data points found.\"\n",
      "    SequenceNumber = 0\n",
      "}\n",
      "\n"
     ]
    }
   ],
   "source": [
    "blp = ba.BLPInterface('//blp/exrsvc')\n",
    "\n",
    "# latest = ba.latest_weather_run()\n",
    "\n",
    "# ENSEMBLE_MEAN\n",
    "# DETERMINISTIC\n",
    "\n",
    "latest, rows = ba.latest_weather_run(blp=blp,finished=False,model='GFS',model_type='ENSEMBLE_MEAN')"
   ]
  },
  {
   "cell_type": "code",
   "execution_count": 64,
   "metadata": {},
   "outputs": [
    {
     "name": "stdout",
     "output_type": "stream",
     "text": [
      "2022-07-06 12:00:00\n",
      "25\n"
     ]
    }
   ],
   "source": [
    "print(latest)\n",
    "print(rows)"
   ]
  },
  {
   "cell_type": "code",
   "execution_count": null,
   "metadata": {},
   "outputs": [],
   "source": []
  },
  {
   "cell_type": "code",
   "execution_count": null,
   "metadata": {},
   "outputs": [],
   "source": []
  },
  {
   "cell_type": "code",
   "execution_count": null,
   "metadata": {},
   "outputs": [],
   "source": []
  },
  {
   "cell_type": "code",
   "execution_count": null,
   "metadata": {},
   "outputs": [],
   "source": []
  },
  {
   "cell_type": "code",
   "execution_count": null,
   "metadata": {},
   "outputs": [],
   "source": []
  },
  {
   "cell_type": "code",
   "execution_count": null,
   "metadata": {},
   "outputs": [],
   "source": []
  },
  {
   "cell_type": "code",
   "execution_count": null,
   "metadata": {},
   "outputs": [],
   "source": []
  },
  {
   "cell_type": "code",
   "execution_count": null,
   "metadata": {},
   "outputs": [],
   "source": []
  },
  {
   "cell_type": "code",
   "execution_count": null,
   "metadata": {},
   "outputs": [],
   "source": []
  },
  {
   "cell_type": "code",
   "execution_count": null,
   "metadata": {},
   "outputs": [],
   "source": []
  },
  {
   "cell_type": "code",
   "execution_count": null,
   "metadata": {},
   "outputs": [],
   "source": [
    "blp = ba.BLPInterface('//blp/exrsvc')\n",
    "\n",
    "run = dt(2022,7,6,0,0,0)\n",
    "\n",
    "runs=[]\n",
    "offset=0\n",
    "runs.append(run+pd.DateOffset(hours=offset)); offset=offset-6\n",
    "runs.append(run+pd.DateOffset(hours=offset)); offset=offset-6\n",
    "runs.append(run+pd.DateOffset(hours=offset)); offset=offset-6\n",
    "runs.append(run+pd.DateOffset(hours=offset)); offset=offset-6\n",
    "\n",
    "runs.append(run+pd.DateOffset(hours=offset)); offset=offset-6\n",
    "runs.append(run+pd.DateOffset(hours=offset)); offset=offset-6\n",
    "runs.append(run+pd.DateOffset(hours=offset)); offset=offset-6\n",
    "runs.append(run+pd.DateOffset(hours=offset)); offset=offset-6\n",
    "runs.append(run+pd.DateOffset(hours=offset)); offset=offset-6\n",
    "\n",
    "models=['GFS','ECMWF']\n",
    "model_types=['DETERMINISTIC','ENSEMBLE_MEAN']\n",
    "\n",
    "location = 'US_IA'\n",
    "\n",
    "for m in models:\n",
    "    for mt in model_types:\n",
    "        print('')\n",
    "        print(m,mt)\n",
    "        for run in runs:\n",
    "            run_str = run.strftime(\"%Y-%m-%dT%H:%M:%S\")\n",
    "            overrides = {'location': location, 'fields':'TEMPERATURE|PRECIPITATION', 'model':m,'publication_date':run_str,'location_time':True, 'type':mt}\n",
    "            df = blp.bsrch('comdty:weather', overrides)\n",
    "            print(run,len(df))"
   ]
  },
  {
   "cell_type": "code",
   "execution_count": null,
   "metadata": {},
   "outputs": [],
   "source": []
  }
 ],
 "metadata": {
  "kernelspec": {
   "display_name": "Python 3.9.7 ('base')",
   "language": "python",
   "name": "python3"
  },
  "language_info": {
   "codemirror_mode": {
    "name": "ipython",
    "version": 3
   },
   "file_extension": ".py",
   "mimetype": "text/x-python",
   "name": "python",
   "nbconvert_exporter": "python",
   "pygments_lexer": "ipython3",
   "version": "3.9.7"
  },
  "orig_nbformat": 4,
  "vscode": {
   "interpreter": {
    "hash": "81806929c4ea32b87193d389f5f734f17a32767e49f2b419faebda3ef5b9cfb7"
   }
  }
 },
 "nbformat": 4,
 "nbformat_minor": 2
}
