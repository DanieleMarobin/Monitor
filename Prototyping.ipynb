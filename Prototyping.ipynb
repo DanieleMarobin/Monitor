{
 "cells": [
  {
   "cell_type": "code",
   "execution_count": null,
   "metadata": {},
   "outputs": [],
   "source": [
    "%load_ext autoreload\n",
    "%autoreload 2"
   ]
  },
  {
   "cell_type": "code",
   "execution_count": null,
   "metadata": {},
   "outputs": [],
   "source": [
    "import sys;\n",
    "sys.path.append(r'C:\\Monitor\\\\')\n",
    "sys.path.append(r'\\\\ac-geneva-24\\E\\grains trading\\Streamlit\\Monitor\\\\')\n",
    "\n",
    "from datetime import datetime as dt\n",
    "\n",
    "import numpy as np\n",
    "import pandas as pd; pd.options.mode.chained_assignment = None\n",
    "\n",
    "import APIs.Bloomberg as ba\n",
    "import Weather.W_USA as wu\n",
    "\n",
    "import Utilities.Weather as uw\n",
    "import Utilities.GLOBAL as GV\n",
    "import plotly.express as px"
   ]
  },
  {
   "cell_type": "code",
   "execution_count": null,
   "metadata": {},
   "outputs": [],
   "source": [
    "blp = ba.BLPInterface('//blp/exrsvc')"
   ]
  },
  {
   "cell_type": "code",
   "execution_count": null,
   "metadata": {},
   "outputs": [],
   "source": [
    "run = dt(2022,7,4,12,0,0)\n",
    "run_str = run.strftime(\"%Y-%m-%dT%H:%M:%S\")\n",
    "\n",
    "print(run_str)\n",
    "\n",
    "location = 'US_IA'\n",
    "forecast = 'GFS'\n",
    "\n",
    "# overrides = {'location': location, 'fields':'TEMPERATURE|PRECIPITATION', 'model':forecast,'publication_date':'2022-07-04T00:00:00','location_time':True}\n",
    "overrides = {'location': location, 'fields':'TEMPERATURE|PRECIPITATION', 'model':forecast,'publication_date':run_str,'location_time':True}\n",
    "\n",
    "df_GFS = blp.bsrch('comdty:weather', overrides)\n",
    "df_GFS['Location Time'] =  pd.to_datetime(df_GFS['Location Time'])\n",
    "df_GFS['date']=df_GFS['Location Time'].dt.date\n",
    "df_GFS['Precipitation (mm)'].iloc[0]=0\n",
    "df_GFS"
   ]
  },
  {
   "cell_type": "code",
   "execution_count": null,
   "metadata": {},
   "outputs": [],
   "source": [
    "prec_df = df_GFS.groupby('date')[['Precipitation (mm)']].sum()\n",
    "type(prec_df)"
   ]
  },
  {
   "cell_type": "code",
   "execution_count": null,
   "metadata": {},
   "outputs": [],
   "source": [
    "corn_states=['IA','IL']\n",
    "run=dt(2022,7,4,12,0,0)\n",
    "wu.udpate_USA_Bloomberg(run, corn_states, forecast='GFS')"
   ]
  }
 ],
 "metadata": {
  "kernelspec": {
   "display_name": "Python 3.9.7 ('base')",
   "language": "python",
   "name": "python3"
  },
  "language_info": {
   "codemirror_mode": {
    "name": "ipython",
    "version": 3
   },
   "file_extension": ".py",
   "mimetype": "text/x-python",
   "name": "python",
   "nbconvert_exporter": "python",
   "pygments_lexer": "ipython3",
   "version": "3.9.7"
  },
  "orig_nbformat": 4,
  "vscode": {
   "interpreter": {
    "hash": "81806929c4ea32b87193d389f5f734f17a32767e49f2b419faebda3ef5b9cfb7"
   }
  }
 },
 "nbformat": 4,
 "nbformat_minor": 2
}
