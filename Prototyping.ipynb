{
 "cells": [
  {
   "cell_type": "code",
   "execution_count": 1,
   "metadata": {},
   "outputs": [],
   "source": [
    "%load_ext autoreload\n",
    "%autoreload 2"
   ]
  },
  {
   "cell_type": "code",
   "execution_count": 7,
   "metadata": {},
   "outputs": [],
   "source": [
    "import sys;\n",
    "sys.path.append(r'C:\\Monitor\\\\')\n",
    "sys.path.append(r'\\\\ac-geneva-24\\E\\grains trading\\Streamlit\\Monitor\\\\')\n",
    "\n",
    "from datetime import datetime as dt\n",
    "\n",
    "import numpy as np\n",
    "import pandas as pd\n",
    "\n",
    "import Utilities.Modeling as um\n",
    "import Utilities.Weather as uw\n",
    "import Utilities.GLOBAL as GV\n",
    "import plotly.express as px\n",
    "\n",
    "import Models.Soybean_USA_Yield_GA as sy\n",
    "\n",
    "import warnings # supress warnings\n",
    "warnings.filterwarnings('ignore')\n",
    "pd.options.mode.chained_assignment = None"
   ]
  },
  {
   "cell_type": "code",
   "execution_count": 3,
   "metadata": {},
   "outputs": [
    {
     "data": {
      "text/plain": [
       "dict_keys(['hist', 'gfs', 'ecmwf', 'gfsEn', 'ecmwfEn', 'hist_gfs', 'hist_ecmwf', 'hist_gfsEn', 'hist_ecmwfEn'])"
      ]
     },
     "execution_count": 3,
     "metadata": {},
     "output_type": "execute_result"
    }
   ],
   "source": [
    "scope = sy.Define_Scope()\n",
    "w_df_all=uw.build_w_df_all(scope['geo_df'], scope['w_vars'], scope['geo_input_file'], scope['geo_output_column'])\n",
    "w_df_all.keys()"
   ]
  },
  {
   "cell_type": "code",
   "execution_count": 8,
   "metadata": {},
   "outputs": [
    {
     "name": "stderr",
     "output_type": "stream",
     "text": [
      "100%|██████████| 1/1 [00:00<00:00, 334.18it/s]\n"
     ]
    },
    {
     "data": {
      "text/plain": [
       "(38, 24)"
      ]
     },
     "execution_count": 8,
     "metadata": {},
     "output_type": "execute_result"
    }
   ],
   "source": [
    "date_start=dt(2022,5,1)\n",
    "date_end=dt(2022,5,1)\n",
    "\n",
    "massive_df = um.get_massive_df(w_df_all['hist'], date_start=date_start, date_end=date_end)\n",
    "massive_df.shape"
   ]
  },
  {
   "cell_type": "code",
   "execution_count": null,
   "metadata": {},
   "outputs": [],
   "source": []
  }
 ],
 "metadata": {
  "kernelspec": {
   "display_name": "Python 3.9.7 ('base')",
   "language": "python",
   "name": "python3"
  },
  "language_info": {
   "codemirror_mode": {
    "name": "ipython",
    "version": 3
   },
   "file_extension": ".py",
   "mimetype": "text/x-python",
   "name": "python",
   "nbconvert_exporter": "python",
   "pygments_lexer": "ipython3",
   "version": "3.9.7"
  },
  "orig_nbformat": 4,
  "vscode": {
   "interpreter": {
    "hash": "81806929c4ea32b87193d389f5f734f17a32767e49f2b419faebda3ef5b9cfb7"
   }
  }
 },
 "nbformat": 4,
 "nbformat_minor": 2
}
