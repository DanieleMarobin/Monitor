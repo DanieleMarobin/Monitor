{
 "cells": [
  {
   "cell_type": "code",
   "execution_count": 316,
   "metadata": {},
   "outputs": [
    {
     "name": "stdout",
     "output_type": "stream",
     "text": [
      "The autoreload extension is already loaded. To reload it, use:\n",
      "  %reload_ext autoreload\n"
     ]
    }
   ],
   "source": [
    "%load_ext autoreload\n",
    "%autoreload 2"
   ]
  },
  {
   "cell_type": "code",
   "execution_count": 319,
   "metadata": {},
   "outputs": [],
   "source": [
    "import sys;\n",
    "sys.path.append(r'C:\\Monitor\\\\')\n",
    "sys.path.append(r'\\\\ac-geneva-24\\E\\grains trading\\Streamlit\\Monitor\\\\')\n",
    "\n",
    "from datetime import datetime as dt\n",
    "from copy import deepcopy\n",
    "\n",
    "import numpy as np\n",
    "import pandas as pd; pd.options.mode.chained_assignment = None\n",
    "import Utilities.Modeling as um\n",
    "import Utilities.Weather as uw\n",
    "import Utilities.GLOBAL as GV\n",
    "import Utilities.Modeling as um\n",
    "import Models.Corn_USA_Yield as cy\n",
    "import Utilities.SnD as us\n",
    "\n",
    "import plotly.express as px"
   ]
  },
  {
   "cell_type": "code",
   "execution_count": 328,
   "metadata": {},
   "outputs": [
    {
     "data": {
      "text/plain": [
       "{'hist':             USA_Sdd30  USA_TempMax   USA_Prec\n",
       " time                                         \n",
       " 1985-01-01   0.000000    -1.383573  11.863999\n",
       " 1985-01-02   0.000000    -3.520978   0.568994\n",
       " 1985-01-03   0.000000    -4.898498   0.047351\n",
       " 1985-01-04   0.000000    -1.346037   0.973402\n",
       " 1985-01-05   0.000000     2.471312   0.224217\n",
       " ...               ...          ...        ...\n",
       " 2022-06-24   1.664973    31.575519   1.084581\n",
       " 2022-06-25   0.996314    30.731462   8.365321\n",
       " 2022-06-26   0.282337    28.017786   6.009647\n",
       " 2022-06-27   0.000000    25.487994   1.139391\n",
       " 2022-06-28   0.000000    27.379394   0.202332\n",
       " \n",
       " [13693 rows x 3 columns],\n",
       " 'gfs':             USA_Sdd30  USA_TempMax  USA_Prec\n",
       " time                                        \n",
       " 2022-06-29   1.637770    30.070637  0.049771\n",
       " 2022-06-30   0.824638    29.877877  0.130165\n",
       " 2022-07-01   0.496204    28.607603  3.364279\n",
       " 2022-07-02   0.000000    25.821741  1.935233\n",
       " 2022-07-03   0.102118    26.758895  0.097654\n",
       " 2022-07-04   1.164850    29.958780  0.104862\n",
       " 2022-07-05   2.652172    32.110424  2.453254\n",
       " 2022-07-06   1.281386    30.342432  2.465087\n",
       " 2022-07-07   1.075867    28.184698  0.350144\n",
       " 2022-07-08   0.965284    29.661904  0.030366\n",
       " 2022-07-09   2.138783    30.970986  0.003686\n",
       " 2022-07-10   3.537059    33.154209  0.000000\n",
       " 2022-07-11   3.590898    33.453300  0.061268\n",
       " 2022-07-12   1.708903    29.196183  0.147747,\n",
       " 'ecmwf':             USA_Sdd30  USA_TempMax  USA_Prec\n",
       " time                                        \n",
       " 2022-06-29   2.175736    31.915575  0.011513\n",
       " 2022-06-30   3.145590    33.005729  0.099177\n",
       " 2022-07-01   2.002625    31.417820  0.772998\n",
       " 2022-07-02   0.793263    29.901232  1.983940\n",
       " 2022-07-03   0.696135    29.965443  1.567401\n",
       " 2022-07-04   1.526927    30.963550  0.711322\n",
       " 2022-07-05   2.454553    31.976690  1.045732\n",
       " 2022-07-06   2.114637    31.628023  0.539449\n",
       " 2022-07-07   1.481279    31.189594  0.248428\n",
       " 2022-07-08   1.245282    30.992121  0.077547\n",
       " 2022-07-09   1.477724    31.281870  0.057985\n",
       " 2022-07-10   1.681796    31.465876  0.108895\n",
       " 2022-07-11   1.322515    31.003147  0.137950\n",
       " 2022-07-12   1.403025    31.055677  0.115290,\n",
       " 'hist_gfs':             USA_Sdd30  USA_TempMax   USA_Prec\n",
       " time                                         \n",
       " 1985-01-01   0.000000    -1.383573  11.863999\n",
       " 1985-01-02   0.000000    -3.520978   0.568994\n",
       " 1985-01-03   0.000000    -4.898498   0.047351\n",
       " 1985-01-04   0.000000    -1.346037   0.973402\n",
       " 1985-01-05   0.000000     2.471312   0.224217\n",
       " ...               ...          ...        ...\n",
       " 2022-07-08   0.965284    29.661904   0.030366\n",
       " 2022-07-09   2.138783    30.970986   0.003686\n",
       " 2022-07-10   3.537059    33.154209   0.000000\n",
       " 2022-07-11   3.590898    33.453300   0.061268\n",
       " 2022-07-12   1.708903    29.196183   0.147747\n",
       " \n",
       " [13707 rows x 3 columns],\n",
       " 'hist_ecmwf':             USA_Sdd30  USA_TempMax   USA_Prec\n",
       " time                                         \n",
       " 1985-01-01   0.000000    -1.383573  11.863999\n",
       " 1985-01-02   0.000000    -3.520978   0.568994\n",
       " 1985-01-03   0.000000    -4.898498   0.047351\n",
       " 1985-01-04   0.000000    -1.346037   0.973402\n",
       " 1985-01-05   0.000000     2.471312   0.224217\n",
       " ...               ...          ...        ...\n",
       " 2022-07-08   1.245282    30.992121   0.077547\n",
       " 2022-07-09   1.477724    31.281870   0.057985\n",
       " 2022-07-10   1.681796    31.465876   0.108895\n",
       " 2022-07-11   1.322515    31.003147   0.137950\n",
       " 2022-07-12   1.403025    31.055677   0.115290\n",
       " \n",
       " [13707 rows x 3 columns]}"
      ]
     },
     "execution_count": 328,
     "metadata": {},
     "output_type": "execute_result"
    }
   ],
   "source": [
    "prec_units='mm'\n",
    "temp_units='C'\n",
    "\n",
    "scope = cy.Define_Scope()\n",
    "# raw_data = cy.Get_Data_All_Parallel(scope)\n",
    "# raw_data.keys()\n",
    "\n",
    "w_df_all=uw.build_w_df_all(scope['geo_df'], scope['w_vars'], scope['geo_input_file'], scope['geo_output_column'])\n",
    "weights=us.get_USA_prod_weights('CORN', 'STATE', scope['years'], scope['geo_df'][GV.WS_STATE_ALPHA])\n",
    "\n",
    "uw.weighted_w_df_all(w_df_all, weights, output_column='USA')\n"
   ]
  },
  {
   "cell_type": "code",
   "execution_count": null,
   "metadata": {},
   "outputs": [],
   "source": [
    "milestones =cy.Milestone_from_Progress(raw_data)\n",
    "intervals = cy.Intervals_from_Milestones(milestones)\n",
    "\n",
    "train_DF_instr = um.Build_DF_Instructions('weighted',GV.WD_HIST, prec_units=prec_units, temp_units=temp_units, ext_mode = GV.EXT_DICT)\n",
    "train_df = cy.Build_DF(raw_data, milestones, intervals, train_DF_instr)\n",
    "\n",
    "model = um.Fit_Model(train_df,'Yield',GV.CUR_YEAR)\n",
    "# print(model.summary())"
   ]
  },
  {
   "cell_type": "code",
   "execution_count": null,
   "metadata": {},
   "outputs": [],
   "source": [
    "train_df.columns"
   ]
  },
  {
   "cell_type": "code",
   "execution_count": null,
   "metadata": {},
   "outputs": [],
   "source": [
    "model.params"
   ]
  },
  {
   "cell_type": "code",
   "execution_count": null,
   "metadata": {},
   "outputs": [],
   "source": [
    "step=2.0\n",
    "\n",
    "col=['Planting Prec']\n",
    "min_x = train_df[col].min()\n",
    "max_x = train_df[col].max()\n",
    "\n",
    "pp_x = np.arange(0,1.0*max_x.values,step)\n",
    "pp_y = model.params['Planting Prec']*pp_x+ model.params['Planting Prec Squared']*pp_x*pp_x\n",
    "fig=px.line(x=pp_x, y=pp_y)\n",
    "# fig.show('browser')\n",
    "print(pp_x.max())\n",
    "print(pp_x.shape)\n",
    "\n",
    "\n",
    "col=['Jul Aug Prec']\n",
    "min_x = train_df[col].min()\n",
    "max_x = train_df[col].max()\n",
    "\n",
    "jp_x = np.arange(0,1.0*max_x.values,step)\n",
    "jp_y = model.params['Jul Aug Prec']*jp_x+ model.params['Jul Aug Prec Squared']*jp_x*jp_x\n",
    "fig=px.line(x=jp_x, y=jp_y)\n",
    "# fig.show('browser')\n",
    "print(jp_x.max())\n",
    "print(jp_x.shape)\n",
    "\n",
    "\n",
    "interaction = np.matrix(pp_x).T * np.matrix(jp_x) * model.params['Prec Interaction']\n",
    "prec = np.matrix(pp_y).T + np.matrix(jp_y)\n",
    "all_prec = prec+interaction\n",
    "\n",
    "\n",
    "fig=px.imshow(all_prec,x=jp_x,y=pp_x)\n",
    "fig.update_yaxes(autorange=True) \n",
    "# fig=px.imshow(all_prec)\n",
    "fig.show('browser')\n",
    "print(np.max(all_prec))"
   ]
  },
  {
   "cell_type": "code",
   "execution_count": null,
   "metadata": {},
   "outputs": [],
   "source": []
  },
  {
   "cell_type": "code",
   "execution_count": 331,
   "metadata": {},
   "outputs": [
    {
     "data": {
      "text/plain": [
       "dict_keys(['hist', 'gfs', 'ecmwf', 'hist_gfs', 'hist_ecmwf'])"
      ]
     },
     "execution_count": 331,
     "metadata": {},
     "output_type": "execute_result"
    }
   ],
   "source": [
    "just_weather=uw.build_w_df_all(scope['geo_df'], scope['w_vars'], scope['geo_input_file'], scope['geo_output_column'])\n",
    "# weighted= uw.weighted_w_df_all(just_weather, raw_data['weights'], output_column='USA')\n",
    "just_weather.keys()"
   ]
  },
  {
   "cell_type": "code",
   "execution_count": 332,
   "metadata": {},
   "outputs": [],
   "source": [
    "just_weather['gfs'].to_csv('dm_GFS.csv')"
   ]
  },
  {
   "cell_type": "code",
   "execution_count": 313,
   "metadata": {},
   "outputs": [],
   "source": []
  },
  {
   "cell_type": "code",
   "execution_count": null,
   "metadata": {},
   "outputs": [],
   "source": []
  },
  {
   "cell_type": "code",
   "execution_count": null,
   "metadata": {},
   "outputs": [],
   "source": []
  },
  {
   "cell_type": "code",
   "execution_count": null,
   "metadata": {},
   "outputs": [],
   "source": []
  },
  {
   "cell_type": "code",
   "execution_count": null,
   "metadata": {},
   "outputs": [],
   "source": []
  },
  {
   "cell_type": "code",
   "execution_count": 285,
   "metadata": {},
   "outputs": [],
   "source": []
  }
 ],
 "metadata": {
  "kernelspec": {
   "display_name": "Python 3.9.7 64-bit",
   "language": "python",
   "name": "python3"
  },
  "language_info": {
   "codemirror_mode": {
    "name": "ipython",
    "version": 3
   },
   "file_extension": ".py",
   "mimetype": "text/x-python",
   "name": "python",
   "nbconvert_exporter": "python",
   "pygments_lexer": "ipython3",
   "version": "3.9.7"
  },
  "orig_nbformat": 4,
  "vscode": {
   "interpreter": {
    "hash": "a9960baf88259386db57c734c8604c8e4ab789688672644b3cf73fda24b112c6"
   }
  }
 },
 "nbformat": 4,
 "nbformat_minor": 2
}
