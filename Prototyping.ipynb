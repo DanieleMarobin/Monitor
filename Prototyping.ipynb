{
 "cells": [
  {
   "cell_type": "code",
   "execution_count": 7,
   "metadata": {},
   "outputs": [
    {
     "name": "stdout",
     "output_type": "stream",
     "text": [
      "The autoreload extension is already loaded. To reload it, use:\n",
      "  %reload_ext autoreload\n"
     ]
    }
   ],
   "source": [
    "%load_ext autoreload\n",
    "%autoreload 2"
   ]
  },
  {
   "cell_type": "code",
   "execution_count": 8,
   "metadata": {},
   "outputs": [],
   "source": [
    "import sys;\n",
    "sys.path.append(r'C:\\Monitor\\\\')\n",
    "sys.path.append(r'\\\\ac-geneva-24\\E\\grains trading\\Streamlit\\Monitor\\\\')\n",
    "\n",
    "from datetime import datetime as dt\n",
    "\n",
    "import numpy as np\n",
    "import pandas as pd; pd.options.mode.chained_assignment = None\n",
    "\n",
    "import APIs.Bloomberg as ba\n",
    "import Weather.W_USA as wu\n",
    "\n",
    "import Utilities.Weather as uw\n",
    "import Utilities.GLOBAL as GV\n",
    "import plotly.express as px"
   ]
  },
  {
   "cell_type": "code",
   "execution_count": null,
   "metadata": {},
   "outputs": [],
   "source": [
    "blp = ba.BLPInterface('//blp/exrsvc')\n",
    "\n",
    "run = dt(2022,7,6,18,0,0)\n",
    "\n",
    "location = 'US_IA'\n",
    "forecast = 'GFS'\n",
    "# forecast = 'ECMWF'\n",
    "\n",
    "# model = 'ENSEMBLE_MEAN'\n",
    "model = 'DETERMINISTIC'\n",
    "\n",
    "df={}\n",
    "attempts = 0\n",
    "while (len(df)==0 and attempts<10):\n",
    "    try:\n",
    "        print('1',run)\n",
    "        print('2',len(df))\n",
    "        print('3',attempts)\n",
    "\n",
    "        run_str = run.strftime(\"%Y-%m-%dT%H:%M:%S\")\n",
    "        overrides = {'location': location, 'fields':'TEMPERATURE|PRECIPITATION', 'model':forecast,'publication_date':run_str,'location_time':True, 'type':model}\n",
    "        df = blp.bsrch('comdty:weather', overrides)\n",
    "    finally:\n",
    "        print('4',run)\n",
    "        print('5',len(df))\n",
    "        print('6',attempts)\n",
    "\n",
    "        attempts=attempts+1\n",
    "        run=run+pd.DateOffset(hours=-6)\n",
    "\n",
    "print('Last Run', run)"
   ]
  },
  {
   "cell_type": "code",
   "execution_count": 12,
   "metadata": {},
   "outputs": [
    {
     "name": "stdout",
     "output_type": "stream",
     "text": [
      "GFS DETERMINISTIC\n",
      "2022-07-05 00:00:00 129\n",
      "2022-07-04 18:00:00 129\n",
      "2022-07-04 12:00:00 129\n",
      "2022-07-04 06:00:00 129\n"
     ]
    }
   ],
   "source": [
    "blp = ba.BLPInterface('//blp/exrsvc')\n",
    "\n",
    "run = dt(2022,7,5    ,0,0,0)\n",
    "\n",
    "runs=[]\n",
    "offset=0\n",
    "runs.append(run+pd.DateOffset(hours=offset)); offset=offset-6\n",
    "runs.append(run+pd.DateOffset(hours=offset)); offset=offset-6\n",
    "runs.append(run+pd.DateOffset(hours=offset)); offset=offset-6\n",
    "runs.append(run+pd.DateOffset(hours=offset)); offset=offset-6\n",
    "\n",
    "location = 'US_IA'\n",
    "\n",
    "model = 'GFS'\n",
    "# model = 'ECMWF'\n",
    "\n",
    "# model_type = 'ENSEMBLE_MEAN'\n",
    "model_type = 'DETERMINISTIC'\n",
    "\n",
    "\n",
    "print(model,model_type)\n",
    "for run in runs:\n",
    "    run_str = run.strftime(\"%Y-%m-%dT%H:%M:%S\")\n",
    "    overrides = {'location': location, 'fields':'TEMPERATURE|PRECIPITATION', 'model':model,'publication_date':run_str,'location_time':True, 'type':model_type}\n",
    "    df = blp.bsrch('comdty:weather', overrides)\n",
    "    print(run,len(df))"
   ]
  },
  {
   "cell_type": "code",
   "execution_count": 11,
   "metadata": {},
   "outputs": [
    {
     "data": {
      "text/plain": [
       "[Timestamp('2022-07-05 00:00:00'),\n",
       " Timestamp('2022-07-05 06:00:00'),\n",
       " Timestamp('2022-07-05 12:00:00'),\n",
       " Timestamp('2022-07-05 18:00:00')]"
      ]
     },
     "execution_count": 11,
     "metadata": {},
     "output_type": "execute_result"
    }
   ],
   "source": [
    "runs"
   ]
  }
 ],
 "metadata": {
  "kernelspec": {
   "display_name": "Python 3.9.7 ('base')",
   "language": "python",
   "name": "python3"
  },
  "language_info": {
   "codemirror_mode": {
    "name": "ipython",
    "version": 3
   },
   "file_extension": ".py",
   "mimetype": "text/x-python",
   "name": "python",
   "nbconvert_exporter": "python",
   "pygments_lexer": "ipython3",
   "version": "3.9.7"
  },
  "orig_nbformat": 4,
  "vscode": {
   "interpreter": {
    "hash": "81806929c4ea32b87193d389f5f734f17a32767e49f2b419faebda3ef5b9cfb7"
   }
  }
 },
 "nbformat": 4,
 "nbformat_minor": 2
}
