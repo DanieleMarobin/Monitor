{
 "cells": [
  {
   "cell_type": "code",
   "execution_count": null,
   "metadata": {},
   "outputs": [],
   "source": [
    "%load_ext autoreload\n",
    "%autoreload 2"
   ]
  },
  {
   "cell_type": "code",
   "execution_count": 47,
   "metadata": {},
   "outputs": [],
   "source": [
    "import sys;\n",
    "sys.path.append(r'C:\\Monitor\\\\')\n",
    "sys.path.append(r'\\\\ac-geneva-24\\E\\grains trading\\Streamlit\\Monitor\\\\')\n",
    "\n",
    "from datetime import datetime as dt\n",
    "from copy import deepcopy\n",
    "\n",
    "import pandas as pd; pd.options.mode.chained_assignment = None\n",
    "import Utilities.Modeling as um\n",
    "\n",
    "import Utilities.GLOBAL as GV\n",
    "import Utilities.Modeling as um\n",
    "import Models.Corn_USA_Yield as cy\n",
    "\n",
    "import plotly.express as px"
   ]
  },
  {
   "cell_type": "code",
   "execution_count": null,
   "metadata": {},
   "outputs": [],
   "source": [
    "prec_units='in'\n",
    "temp_units='F'\n",
    "\n",
    "scope = cy.Define_Scope()\n",
    "raw_data = cy.Get_Data_All_Parallel(scope)"
   ]
  },
  {
   "cell_type": "code",
   "execution_count": null,
   "metadata": {},
   "outputs": [],
   "source": [
    "milestones =cy.Milestone_from_Progress(raw_data)\n",
    "intervals = cy.Intervals_from_Milestones(milestones)\n",
    "\n",
    "train_DF_instr = um.Build_DF_Instructions('weighted',GV.WD_HIST, prec_units=prec_units, temp_units=temp_units, ext_mode = GV.EXT_DICT)\n",
    "train_df = cy.Build_DF(raw_data, milestones, intervals, train_DF_instr)\n",
    "model = um.Fit_Model(train_df,'Yield',GV.CUR_YEAR)\n",
    "# print(model.summary())"
   ]
  },
  {
   "cell_type": "code",
   "execution_count": 33,
   "metadata": {},
   "outputs": [
    {
     "name": "stdout",
     "output_type": "stream",
     "text": [
      "1369\n"
     ]
    }
   ],
   "source": [
    "# Scenarios Creation\n",
    "year_start = 1985\n",
    "year_end = 2022\n",
    "\n",
    "scenarios_EXT_dict = {}\n",
    "for p in range(year_start,year_end):\n",
    "    for t in range(year_start,year_end):\n",
    "        scenarios_EXT_dict[str(p)+'_'+str(t)]={GV.WV_PREC:GV.EXT_ANALOG+'_'+str(p),GV.WV_SDD_30:GV.EXT_ANALOG+'_'+str(t)}\n",
    "\n",
    "print(len(scenarios_EXT_dict))\n",
    "# print(scenarios_EXT_dict)"
   ]
  },
  {
   "cell_type": "code",
   "execution_count": null,
   "metadata": {},
   "outputs": [],
   "source": [
    "raw_data['w_w_df_all'][GV.WD_GFS].last_valid_index()"
   ]
  },
  {
   "cell_type": "code",
   "execution_count": null,
   "metadata": {},
   "outputs": [],
   "source": [
    "%%time\n",
    "results = {}\n",
    "sce_date = raw_data['w_w_df_all'][GV.WD_GFS].last_valid_index()\n",
    "i=0\n",
    "for sce_name, sce_dict in scenarios_EXT_dict.items():\n",
    "    i+=1; print(i)\n",
    "    pred_DF_instr=um.Build_DF_Instructions('weighted',GV.WD_H_GFS, prec_units=prec_units, temp_units=temp_units, ext_mode = sce_dict)\n",
    "    pred_df = cy.Build_Pred_DF(raw_data,milestones,pred_DF_instr,GV.CUR_YEAR,date_start=sce_date, date_end=sce_date)\n",
    "    yields = model.predict(pred_df[model.params.index]).values\n",
    "\n",
    "    results[sce_name]=yields[0]\n",
    "\n",
    "[print(k,'->',v) for k,v in results.items()]\n",
    "# print(results)\n",
    "print('All Done')"
   ]
  },
  {
   "cell_type": "code",
   "execution_count": 21,
   "metadata": {},
   "outputs": [
    {
     "name": "stdout",
     "output_type": "stream",
     "text": [
      "Scenarios to compute: 1369\n",
      "All Done\n",
      "Wall time: 1min 11s\n"
     ]
    }
   ],
   "source": [
    "%%time\n",
    "sce_results = cy.Analog_scenarios()"
   ]
  },
  {
   "cell_type": "code",
   "execution_count": 22,
   "metadata": {},
   "outputs": [
    {
     "data": {
      "text/plain": [
       "144.1662324890548"
      ]
     },
     "execution_count": 22,
     "metadata": {},
     "output_type": "execute_result"
    }
   ],
   "source": [
    "min(results.values())"
   ]
  },
  {
   "cell_type": "code",
   "execution_count": 23,
   "metadata": {},
   "outputs": [
    {
     "data": {
      "text/plain": [
       "'2013_2012'"
      ]
     },
     "execution_count": 23,
     "metadata": {},
     "output_type": "execute_result"
    }
   ],
   "source": [
    "min(results, key=results.get)"
   ]
  },
  {
   "cell_type": "code",
   "execution_count": 36,
   "metadata": {},
   "outputs": [
    {
     "data": {
      "text/plain": [
       "1369"
      ]
     },
     "execution_count": 36,
     "metadata": {},
     "output_type": "execute_result"
    }
   ],
   "source": [
    "len(sce_results)"
   ]
  },
  {
   "cell_type": "code",
   "execution_count": 28,
   "metadata": {},
   "outputs": [],
   "source": [
    "sce_date = raw_data['w_w_df_all'][GV.WD_GFS].last_valid_index()"
   ]
  },
  {
   "cell_type": "code",
   "execution_count": 29,
   "metadata": {},
   "outputs": [
    {
     "data": {
      "text/html": [
       "<div>\n",
       "<style scoped>\n",
       "    .dataframe tbody tr th:only-of-type {\n",
       "        vertical-align: middle;\n",
       "    }\n",
       "\n",
       "    .dataframe tbody tr th {\n",
       "        vertical-align: top;\n",
       "    }\n",
       "\n",
       "    .dataframe thead th {\n",
       "        text-align: right;\n",
       "    }\n",
       "</style>\n",
       "<table border=\"1\" class=\"dataframe\">\n",
       "  <thead>\n",
       "    <tr style=\"text-align: right;\">\n",
       "      <th></th>\n",
       "      <th>const</th>\n",
       "      <th>Trend</th>\n",
       "      <th>Yield</th>\n",
       "      <th>Planted pct on May 15th</th>\n",
       "      <th>Planting Prec</th>\n",
       "      <th>Planting Prec Squared</th>\n",
       "      <th>Jul Aug Prec</th>\n",
       "      <th>Jul Aug Prec Squared</th>\n",
       "      <th>Prec Interaction</th>\n",
       "      <th>Pollination SDD</th>\n",
       "      <th>Regular SDD</th>\n",
       "    </tr>\n",
       "  </thead>\n",
       "  <tbody>\n",
       "    <tr>\n",
       "      <th>2022-07-06</th>\n",
       "      <td>1.0</td>\n",
       "      <td>2022</td>\n",
       "      <td>NaN</td>\n",
       "      <td>49.0</td>\n",
       "      <td>8.354471</td>\n",
       "      <td>69.797188</td>\n",
       "      <td>5.84194</td>\n",
       "      <td>34.128267</td>\n",
       "      <td>48.806322</td>\n",
       "      <td>169.86734</td>\n",
       "      <td>108.004738</td>\n",
       "    </tr>\n",
       "  </tbody>\n",
       "</table>\n",
       "</div>"
      ],
      "text/plain": [
       "            const  Trend  Yield  Planted pct on May 15th  Planting Prec  \\\n",
       "2022-07-06    1.0   2022    NaN                     49.0       8.354471   \n",
       "\n",
       "            Planting Prec Squared  Jul Aug Prec  Jul Aug Prec Squared  \\\n",
       "2022-07-06              69.797188       5.84194             34.128267   \n",
       "\n",
       "            Prec Interaction  Pollination SDD  Regular SDD  \n",
       "2022-07-06         48.806322        169.86734   108.004738  "
      ]
     },
     "execution_count": 29,
     "metadata": {},
     "output_type": "execute_result"
    }
   ],
   "source": [
    "sce_dict=scenarios_EXT_dict['2013_2012']\n",
    "pred_DF_instr=um.Build_DF_Instructions('weighted',GV.WD_H_GFS, prec_units=prec_units, temp_units=temp_units, ext_mode = sce_dict)\n",
    "pred_df = cy.Build_Pred_DF(raw_data,milestones,pred_DF_instr,GV.CUR_YEAR,date_start=sce_date, date_end=sce_date)\n",
    "pred_df"
   ]
  },
  {
   "cell_type": "code",
   "execution_count": 30,
   "metadata": {},
   "outputs": [
    {
     "data": {
      "text/html": [
       "<div>\n",
       "<style scoped>\n",
       "    .dataframe tbody tr th:only-of-type {\n",
       "        vertical-align: middle;\n",
       "    }\n",
       "\n",
       "    .dataframe tbody tr th {\n",
       "        vertical-align: top;\n",
       "    }\n",
       "\n",
       "    .dataframe thead th {\n",
       "        text-align: right;\n",
       "    }\n",
       "</style>\n",
       "<table border=\"1\" class=\"dataframe\">\n",
       "  <thead>\n",
       "    <tr style=\"text-align: right;\">\n",
       "      <th></th>\n",
       "      <th>const</th>\n",
       "      <th>Trend</th>\n",
       "      <th>Yield</th>\n",
       "      <th>Planted pct on May 15th</th>\n",
       "      <th>Planting Prec</th>\n",
       "      <th>Planting Prec Squared</th>\n",
       "      <th>Jul Aug Prec</th>\n",
       "      <th>Jul Aug Prec Squared</th>\n",
       "      <th>Prec Interaction</th>\n",
       "      <th>Pollination SDD</th>\n",
       "      <th>Regular SDD</th>\n",
       "    </tr>\n",
       "  </thead>\n",
       "  <tbody>\n",
       "    <tr>\n",
       "      <th>2022-07-06</th>\n",
       "      <td>1.0</td>\n",
       "      <td>2022</td>\n",
       "      <td>NaN</td>\n",
       "      <td>49.0</td>\n",
       "      <td>8.354471</td>\n",
       "      <td>69.797188</td>\n",
       "      <td>5.84194</td>\n",
       "      <td>34.128267</td>\n",
       "      <td>48.806322</td>\n",
       "      <td>49.108649</td>\n",
       "      <td>80.058674</td>\n",
       "    </tr>\n",
       "  </tbody>\n",
       "</table>\n",
       "</div>"
      ],
      "text/plain": [
       "            const  Trend  Yield  Planted pct on May 15th  Planting Prec  \\\n",
       "2022-07-06    1.0   2022    NaN                     49.0       8.354471   \n",
       "\n",
       "            Planting Prec Squared  Jul Aug Prec  Jul Aug Prec Squared  \\\n",
       "2022-07-06              69.797188       5.84194             34.128267   \n",
       "\n",
       "            Prec Interaction  Pollination SDD  Regular SDD  \n",
       "2022-07-06         48.806322        49.108649    80.058674  "
      ]
     },
     "execution_count": 30,
     "metadata": {},
     "output_type": "execute_result"
    }
   ],
   "source": [
    "sce_dict=scenarios_EXT_dict['2013_2020']\n",
    "pred_DF_instr=um.Build_DF_Instructions('weighted',GV.WD_H_GFS, prec_units=prec_units, temp_units=temp_units, ext_mode = sce_dict)\n",
    "pred_df = cy.Build_Pred_DF(raw_data,milestones,pred_DF_instr,GV.CUR_YEAR,date_start=sce_date, date_end=sce_date)\n",
    "pred_df"
   ]
  },
  {
   "cell_type": "code",
   "execution_count": 34,
   "metadata": {},
   "outputs": [
    {
     "data": {
      "text/html": [
       "<div>\n",
       "<style scoped>\n",
       "    .dataframe tbody tr th:only-of-type {\n",
       "        vertical-align: middle;\n",
       "    }\n",
       "\n",
       "    .dataframe tbody tr th {\n",
       "        vertical-align: top;\n",
       "    }\n",
       "\n",
       "    .dataframe thead th {\n",
       "        text-align: right;\n",
       "    }\n",
       "</style>\n",
       "<table border=\"1\" class=\"dataframe\">\n",
       "  <thead>\n",
       "    <tr style=\"text-align: right;\">\n",
       "      <th></th>\n",
       "      <th>const</th>\n",
       "      <th>Trend</th>\n",
       "      <th>Yield</th>\n",
       "      <th>Planted pct on May 15th</th>\n",
       "      <th>Planting Prec</th>\n",
       "      <th>Planting Prec Squared</th>\n",
       "      <th>Jul Aug Prec</th>\n",
       "      <th>Jul Aug Prec Squared</th>\n",
       "      <th>Prec Interaction</th>\n",
       "      <th>Pollination SDD</th>\n",
       "      <th>Regular SDD</th>\n",
       "    </tr>\n",
       "  </thead>\n",
       "  <tbody>\n",
       "    <tr>\n",
       "      <th>2022-07-06</th>\n",
       "      <td>1.0</td>\n",
       "      <td>2022</td>\n",
       "      <td>NaN</td>\n",
       "      <td>49.0</td>\n",
       "      <td>8.354471</td>\n",
       "      <td>69.797188</td>\n",
       "      <td>9.704058</td>\n",
       "      <td>94.168745</td>\n",
       "      <td>81.072274</td>\n",
       "      <td>169.86734</td>\n",
       "      <td>108.004738</td>\n",
       "    </tr>\n",
       "  </tbody>\n",
       "</table>\n",
       "</div>"
      ],
      "text/plain": [
       "            const  Trend  Yield  Planted pct on May 15th  Planting Prec  \\\n",
       "2022-07-06    1.0   2022    NaN                     49.0       8.354471   \n",
       "\n",
       "            Planting Prec Squared  Jul Aug Prec  Jul Aug Prec Squared  \\\n",
       "2022-07-06              69.797188      9.704058             94.168745   \n",
       "\n",
       "            Prec Interaction  Pollination SDD  Regular SDD  \n",
       "2022-07-06         81.072274        169.86734   108.004738  "
      ]
     },
     "execution_count": 34,
     "metadata": {},
     "output_type": "execute_result"
    }
   ],
   "source": [
    "sce_dict=scenarios_EXT_dict['1987_2012']\n",
    "pred_DF_instr=um.Build_DF_Instructions('weighted',GV.WD_H_GFS, prec_units=prec_units, temp_units=temp_units, ext_mode = sce_dict)\n",
    "pred_df = cy.Build_Pred_DF(raw_data,milestones,pred_DF_instr,GV.CUR_YEAR,date_start=sce_date, date_end=sce_date)\n",
    "pred_df"
   ]
  },
  {
   "cell_type": "code",
   "execution_count": 66,
   "metadata": {},
   "outputs": [],
   "source": [
    "heat_map={}\n",
    "\n",
    "prec = [k.split('_')[0] for k in sce_results.keys()]\n",
    "temp = [k.split('_')[1] for k in sce_results.keys()]\n",
    "yield_value = list(sce_results.values())\n",
    "\n",
    "# print(x[0])\n",
    "# print(y[0])\n",
    "# print(z[0])\n",
    "\n",
    "heat_map_df = pd.DataFrame({'Precipitation':prec,'Max Temperature':temp,'Yield':yield_value})\n",
    "heat_map_df.to_csv('Results\\Analog_Scenarios.csv')\n",
    "\n",
    "heat_map_df = heat_map_df.pivot_table(index=['Precipitation'], columns=['Max Temperature'], values=['Yield'], aggfunc='mean')\n",
    "heat_map_df.columns = heat_map_df.columns.droplevel(level=0)\n",
    "fig = px.imshow(heat_map_df,color_continuous_scale='RdBu')\n",
    "fig.show('browser')"
   ]
  },
  {
   "cell_type": "code",
   "execution_count": 64,
   "metadata": {},
   "outputs": [],
   "source": [
    "\n"
   ]
  },
  {
   "cell_type": "code",
   "execution_count": null,
   "metadata": {},
   "outputs": [],
   "source": []
  }
 ],
 "metadata": {
  "kernelspec": {
   "display_name": "Python 3.9.7 ('base')",
   "language": "python",
   "name": "python3"
  },
  "language_info": {
   "codemirror_mode": {
    "name": "ipython",
    "version": 3
   },
   "file_extension": ".py",
   "mimetype": "text/x-python",
   "name": "python",
   "nbconvert_exporter": "python",
   "pygments_lexer": "ipython3",
   "version": "3.9.7"
  },
  "orig_nbformat": 4,
  "vscode": {
   "interpreter": {
    "hash": "81806929c4ea32b87193d389f5f734f17a32767e49f2b419faebda3ef5b9cfb7"
   }
  }
 },
 "nbformat": 4,
 "nbformat_minor": 2
}
