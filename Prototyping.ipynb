{
 "cells": [
  {
   "cell_type": "code",
   "execution_count": 48,
   "metadata": {},
   "outputs": [
    {
     "name": "stdout",
     "output_type": "stream",
     "text": [
      "The autoreload extension is already loaded. To reload it, use:\n",
      "  %reload_ext autoreload\n"
     ]
    }
   ],
   "source": [
    "%load_ext autoreload\n",
    "%autoreload 2"
   ]
  },
  {
   "cell_type": "code",
   "execution_count": 49,
   "metadata": {},
   "outputs": [],
   "source": [
    "import sys;\n",
    "sys.path.append(r'C:\\Monitor\\\\')\n",
    "sys.path.append(r'\\\\ac-geneva-24\\E\\grains trading\\Streamlit\\Monitor\\\\')\n",
    "\n",
    "from datetime import datetime as dt\n",
    "from copy import deepcopy\n",
    "import numpy as np\n",
    "import pandas as pd\n",
    "\n",
    "import Utilities.Modeling as um\n",
    "import Utilities.Weather as uw\n",
    "import Utilities.GLOBAL as GV\n",
    "import Utilities.Utilities as uu\n",
    "import statsmodels.api as sm\n",
    "\n",
    "import Models.Soybean_USA_Yield_GA as sy\n",
    "\n",
    "import APIs.Bloomberg as ba\n",
    "from sklearn.model_selection import TimeSeriesSplit\n",
    "\n",
    "import warnings # supress warnings\n",
    "warnings.filterwarnings('ignore')\n",
    "pd.options.mode.chained_assignment = None"
   ]
  },
  {
   "cell_type": "code",
   "execution_count": 65,
   "metadata": {},
   "outputs": [
    {
     "name": "stderr",
     "output_type": "stream",
     "text": [
      "100%|██████████| 124/124 [00:19<00:00,  6.21it/s]\n"
     ]
    }
   ],
   "source": [
    "scope = sy.Define_Scope()\n",
    "raw_data = sy.Get_Data_All_Parallel(scope) \n",
    "\n",
    "multi_ww_dt_s=dt(2022,5,1)\n",
    "multi_ww_dt_e=dt(2022,9,1)\n",
    "\n",
    "multi_ww_freq_start='1D'\n",
    "multi_ww_freq_end='1D'\n",
    "\n",
    "multi_ww_ref_year_s=dt(2022,1,1)\n",
    "    \n",
    "raw_data['multi_ww_df']=um.generate_weather_windows_df(raw_data['w_w_df_all']['hist'], date_start=multi_ww_dt_s, date_end=multi_ww_dt_e, ref_year_start=multi_ww_ref_year_s, freq_start=multi_ww_freq_start, freq_end=multi_ww_freq_end)\n"
   ]
  },
  {
   "cell_type": "code",
   "execution_count": 66,
   "metadata": {},
   "outputs": [],
   "source": [
    "model_df = pd.concat([raw_data['yield'],raw_data['multi_ww_df']], sort=True, axis=1, join='inner')\n",
    "model_df=model_df.dropna() # Needed because (maybe) the current year has some windows that have not started yet\n",
    "\n",
    "# Train Test Splits \n",
    "min_train_size= min(10,len(model_df)-3)\n",
    "folds_expanding = TimeSeriesSplit(n_splits=len(model_df)-min_train_size, max_train_size=0, test_size=1)\n",
    "folds = []\n",
    "folds = folds + list(folds_expanding.split(model_df))"
   ]
  },
  {
   "cell_type": "code",
   "execution_count": 67,
   "metadata": {},
   "outputs": [],
   "source": [
    "y_col  ='Yield'\n",
    "y_df = model_df[[y_col]]"
   ]
  },
  {
   "cell_type": "code",
   "execution_count": 68,
   "metadata": {},
   "outputs": [],
   "source": [
    "X_df = deepcopy(model_df)\n",
    "\n",
    "cols=list(m.params.index)\n",
    "cols.remove('const')\n",
    "X_df=X_df[cols]\n",
    "\n",
    "\n",
    "cv_score = um.stats_model_cross_validate(X_df, y_df, folds)"
   ]
  },
  {
   "cell_type": "code",
   "execution_count": 69,
   "metadata": {},
   "outputs": [
    {
     "data": {
      "text/plain": [
       "0.18645578887790115"
      ]
     },
     "execution_count": 69,
     "metadata": {},
     "output_type": "execute_result"
    }
   ],
   "source": [
    "np.mean(cv_score['cv_p'])"
   ]
  },
  {
   "cell_type": "code",
   "execution_count": 70,
   "metadata": {},
   "outputs": [
    {
     "data": {
      "text/html": [
       "<div>\n",
       "<style scoped>\n",
       "    .dataframe tbody tr th:only-of-type {\n",
       "        vertical-align: middle;\n",
       "    }\n",
       "\n",
       "    .dataframe tbody tr th {\n",
       "        vertical-align: top;\n",
       "    }\n",
       "\n",
       "    .dataframe thead th {\n",
       "        text-align: right;\n",
       "    }\n",
       "</style>\n",
       "<table border=\"1\" class=\"dataframe\">\n",
       "  <thead>\n",
       "    <tr style=\"text-align: right;\">\n",
       "      <th></th>\n",
       "      <th>year</th>\n",
       "      <th>USA_TempMax_Aug21-Aug28</th>\n",
       "      <th>USA_Sdd30_Jun17-Aug19</th>\n",
       "      <th>USA_TempMax_Aug16-Aug19</th>\n",
       "      <th>USA_Sdd30_Jul04-Aug20</th>\n",
       "      <th>USA_Sdd30_Jun27-Jul15</th>\n",
       "    </tr>\n",
       "    <tr>\n",
       "      <th>year</th>\n",
       "      <th></th>\n",
       "      <th></th>\n",
       "      <th></th>\n",
       "      <th></th>\n",
       "      <th></th>\n",
       "      <th></th>\n",
       "    </tr>\n",
       "  </thead>\n",
       "  <tbody>\n",
       "    <tr>\n",
       "      <th>1985</th>\n",
       "      <td>1985</td>\n",
       "      <td>24.624972</td>\n",
       "      <td>0.535132</td>\n",
       "      <td>26.473488</td>\n",
       "      <td>0.628962</td>\n",
       "      <td>1.012893</td>\n",
       "    </tr>\n",
       "    <tr>\n",
       "      <th>1986</th>\n",
       "      <td>1986</td>\n",
       "      <td>26.659765</td>\n",
       "      <td>0.921108</td>\n",
       "      <td>29.105613</td>\n",
       "      <td>0.923356</td>\n",
       "      <td>0.865736</td>\n",
       "    </tr>\n",
       "    <tr>\n",
       "      <th>1987</th>\n",
       "      <td>1987</td>\n",
       "      <td>24.709041</td>\n",
       "      <td>1.342054</td>\n",
       "      <td>30.206546</td>\n",
       "      <td>1.565715</td>\n",
       "      <td>0.324604</td>\n",
       "    </tr>\n",
       "    <tr>\n",
       "      <th>1988</th>\n",
       "      <td>1988</td>\n",
       "      <td>27.760942</td>\n",
       "      <td>2.973521</td>\n",
       "      <td>35.356721</td>\n",
       "      <td>3.018119</td>\n",
       "      <td>2.246986</td>\n",
       "    </tr>\n",
       "    <tr>\n",
       "      <th>1989</th>\n",
       "      <td>1989</td>\n",
       "      <td>28.301939</td>\n",
       "      <td>0.903515</td>\n",
       "      <td>26.984517</td>\n",
       "      <td>0.970026</td>\n",
       "      <td>1.707921</td>\n",
       "    </tr>\n",
       "  </tbody>\n",
       "</table>\n",
       "</div>"
      ],
      "text/plain": [
       "      year  USA_TempMax_Aug21-Aug28  USA_Sdd30_Jun17-Aug19  \\\n",
       "year                                                         \n",
       "1985  1985                24.624972               0.535132   \n",
       "1986  1986                26.659765               0.921108   \n",
       "1987  1987                24.709041               1.342054   \n",
       "1988  1988                27.760942               2.973521   \n",
       "1989  1989                28.301939               0.903515   \n",
       "\n",
       "      USA_TempMax_Aug16-Aug19  USA_Sdd30_Jul04-Aug20  USA_Sdd30_Jun27-Jul15  \n",
       "year                                                                         \n",
       "1985                26.473488               0.628962               1.012893  \n",
       "1986                29.105613               0.923356               0.865736  \n",
       "1987                30.206546               1.565715               0.324604  \n",
       "1988                35.356721               3.018119               2.246986  \n",
       "1989                26.984517               0.970026               1.707921  "
      ]
     },
     "execution_count": 70,
     "metadata": {},
     "output_type": "execute_result"
    }
   ],
   "source": [
    "X_df.head()"
   ]
  },
  {
   "cell_type": "code",
   "execution_count": 40,
   "metadata": {},
   "outputs": [
    {
     "data": {
      "text/plain": [
       "USA_TempMax    24.134947\n",
       "dtype: float64"
      ]
     },
     "execution_count": 40,
     "metadata": {},
     "output_type": "execute_result"
    }
   ],
   "source": [
    "np.mean(raw_data['w_w_df_all']['hist'][['USA_TempMax']].loc['1985-08-20':'1985-08-27'])"
   ]
  },
  {
   "cell_type": "code",
   "execution_count": 31,
   "metadata": {},
   "outputs": [
    {
     "data": {
      "text/html": [
       "<div>\n",
       "<style scoped>\n",
       "    .dataframe tbody tr th:only-of-type {\n",
       "        vertical-align: middle;\n",
       "    }\n",
       "\n",
       "    .dataframe tbody tr th {\n",
       "        vertical-align: top;\n",
       "    }\n",
       "\n",
       "    .dataframe thead th {\n",
       "        text-align: right;\n",
       "    }\n",
       "</style>\n",
       "<table border=\"1\" class=\"dataframe\">\n",
       "  <thead>\n",
       "    <tr style=\"text-align: right;\">\n",
       "      <th></th>\n",
       "      <th>USA_TempMax_Aug21-Aug28</th>\n",
       "      <th>USA_Sdd30_Jun17-Aug19</th>\n",
       "      <th>USA_TempMax_Aug16-Aug19</th>\n",
       "      <th>USA_Sdd30_Jul04-Aug20</th>\n",
       "      <th>USA_Sdd30_Jun27-Jul15</th>\n",
       "      <th>year</th>\n",
       "    </tr>\n",
       "    <tr>\n",
       "      <th>year</th>\n",
       "      <th></th>\n",
       "      <th></th>\n",
       "      <th></th>\n",
       "      <th></th>\n",
       "      <th></th>\n",
       "      <th></th>\n",
       "    </tr>\n",
       "  </thead>\n",
       "  <tbody>\n",
       "    <tr>\n",
       "      <th>1985</th>\n",
       "      <td>24.624972</td>\n",
       "      <td>0.535132</td>\n",
       "      <td>26.473488</td>\n",
       "      <td>0.628962</td>\n",
       "      <td>1.012893</td>\n",
       "      <td>1985</td>\n",
       "    </tr>\n",
       "    <tr>\n",
       "      <th>1986</th>\n",
       "      <td>26.659765</td>\n",
       "      <td>0.921108</td>\n",
       "      <td>29.105613</td>\n",
       "      <td>0.923356</td>\n",
       "      <td>0.865736</td>\n",
       "      <td>1986</td>\n",
       "    </tr>\n",
       "    <tr>\n",
       "      <th>1987</th>\n",
       "      <td>24.709041</td>\n",
       "      <td>1.342054</td>\n",
       "      <td>30.206546</td>\n",
       "      <td>1.565715</td>\n",
       "      <td>0.324604</td>\n",
       "      <td>1987</td>\n",
       "    </tr>\n",
       "    <tr>\n",
       "      <th>1988</th>\n",
       "      <td>27.760942</td>\n",
       "      <td>2.973521</td>\n",
       "      <td>35.356721</td>\n",
       "      <td>3.018119</td>\n",
       "      <td>2.246986</td>\n",
       "      <td>1988</td>\n",
       "    </tr>\n",
       "    <tr>\n",
       "      <th>1989</th>\n",
       "      <td>28.301939</td>\n",
       "      <td>0.903515</td>\n",
       "      <td>26.984517</td>\n",
       "      <td>0.970026</td>\n",
       "      <td>1.707921</td>\n",
       "      <td>1989</td>\n",
       "    </tr>\n",
       "  </tbody>\n",
       "</table>\n",
       "</div>"
      ],
      "text/plain": [
       "      USA_TempMax_Aug21-Aug28  USA_Sdd30_Jun17-Aug19  USA_TempMax_Aug16-Aug19  \\\n",
       "year                                                                            \n",
       "1985                24.624972               0.535132                26.473488   \n",
       "1986                26.659765               0.921108                29.105613   \n",
       "1987                24.709041               1.342054                30.206546   \n",
       "1988                27.760942               2.973521                35.356721   \n",
       "1989                28.301939               0.903515                26.984517   \n",
       "\n",
       "      USA_Sdd30_Jul04-Aug20  USA_Sdd30_Jun27-Jul15  year  \n",
       "year                                                      \n",
       "1985               0.628962               1.012893  1985  \n",
       "1986               0.923356               0.865736  1986  \n",
       "1987               1.565715               0.324604  1987  \n",
       "1988               3.018119               2.246986  1988  \n",
       "1989               0.970026               1.707921  1989  "
      ]
     },
     "execution_count": 31,
     "metadata": {},
     "output_type": "execute_result"
    }
   ],
   "source": [
    "model_df.head()"
   ]
  },
  {
   "cell_type": "code",
   "execution_count": 25,
   "metadata": {},
   "outputs": [
    {
     "name": "stdout",
     "output_type": "stream",
     "text": [
      "Start Deserializing: GA_soy\n",
      "Done Deserializing: GA_soy\n"
     ]
    }
   ],
   "source": [
    "m = um.pick_model('GA_soy',72)\n",
    "ww = um.from_cols_to_var_windows(m.params.index)"
   ]
  },
  {
   "cell_type": "code",
   "execution_count": 30,
   "metadata": {},
   "outputs": [],
   "source": [
    "model_df = um.extract_yearly_ww_variables(w_df = raw_data['w_w_df_all']['hist'],var_windows= ww)\n",
    "model_df['year']=model_df.index"
   ]
  },
  {
   "cell_type": "code",
   "execution_count": 38,
   "metadata": {},
   "outputs": [
    {
     "data": {
      "text/plain": [
       "USA_TempMax    24.624972\n",
       "dtype: float64"
      ]
     },
     "execution_count": 38,
     "metadata": {},
     "output_type": "execute_result"
    }
   ],
   "source": [
    "np.mean(raw_data['w_w_df_all']['hist'][['USA_TempMax']].loc['1985-08-21':'1985-08-28'])"
   ]
  },
  {
   "cell_type": "code",
   "execution_count": 42,
   "metadata": {},
   "outputs": [],
   "source": [
    "y_df = raw_data['yield'][raw_data['yield'].index<2022][['Yield']]"
   ]
  },
  {
   "cell_type": "code",
   "execution_count": 43,
   "metadata": {},
   "outputs": [],
   "source": [
    "X_df=model_df\n",
    "\n",
    "folds = um.folds_expanding(X_df, min_train_size=10)\n",
    "# um.print_folds(folds = folds, years=train_df.index.values)\n",
    "\n",
    "# Cross-Validation calculation\n",
    "cv_score = um.stats_model_cross_validate(X_df, y_df, folds)"
   ]
  },
  {
   "cell_type": "code",
   "execution_count": 5,
   "metadata": {},
   "outputs": [
    {
     "data": {
      "text/plain": [
       "const                     -960.550291\n",
       "year                         0.509614\n",
       "USA_TempMax_Aug21-Aug28     -0.383391\n",
       "USA_Sdd30_Jun17-Aug19        1.804934\n",
       "USA_TempMax_Aug16-Aug19     -0.348013\n",
       "USA_Sdd30_Jul04-Aug20       -0.909144\n",
       "USA_Sdd30_Jun27-Jul15        0.800158\n",
       "dtype: float64"
      ]
     },
     "execution_count": 5,
     "metadata": {},
     "output_type": "execute_result"
    }
   ],
   "source": [
    "m.params"
   ]
  },
  {
   "cell_type": "code",
   "execution_count": 44,
   "metadata": {},
   "outputs": [
    {
     "data": {
      "text/plain": [
       "0.1864557888779011"
      ]
     },
     "execution_count": 44,
     "metadata": {},
     "output_type": "execute_result"
    }
   ],
   "source": [
    "np.mean(cv_score['cv_p'])"
   ]
  },
  {
   "cell_type": "code",
   "execution_count": null,
   "metadata": {},
   "outputs": [],
   "source": []
  },
  {
   "cell_type": "code",
   "execution_count": 25,
   "metadata": {},
   "outputs": [
    {
     "name": "stdout",
     "output_type": "stream",
     "text": [
      "Start Deserializing: GA_soy\n",
      "Done Deserializing: GA_soy\n"
     ]
    },
    {
     "data": {
      "text/plain": [
       "dict_keys(['best_fitness', 'model', 'MAE', 'MAPE', 'fitness', 'corr', 'cv_p', 'cv_r_sq', 'cv_MAE', 'cv_MAPE', 'cv_corr'])"
      ]
     },
     "execution_count": 25,
     "metadata": {},
     "output_type": "execute_result"
    }
   ],
   "source": [
    "f='GA_soy'\n",
    "dm_best = {}\n",
    "dm_best[f] = uu.deserialize(f)\n",
    "r=dm_best[f]\n",
    "\n",
    "r.keys()"
   ]
  },
  {
   "cell_type": "code",
   "execution_count": 37,
   "metadata": {},
   "outputs": [
    {
     "data": {
      "text/plain": [
       "0.001679548798393492"
      ]
     },
     "execution_count": 37,
     "metadata": {},
     "output_type": "execute_result"
    }
   ],
   "source": [
    "np.mean(r['cv_p'][72])"
   ]
  },
  {
   "cell_type": "code",
   "execution_count": null,
   "metadata": {},
   "outputs": [],
   "source": [
    "print(len(r['model']))\n",
    "print(len(r['corr']))\n",
    "print(r['cv_p'][0])"
   ]
  },
  {
   "cell_type": "code",
   "execution_count": null,
   "metadata": {},
   "outputs": [],
   "source": []
  }
 ],
 "metadata": {
  "kernelspec": {
   "display_name": "Python 3.9.7 64-bit",
   "language": "python",
   "name": "python3"
  },
  "language_info": {
   "codemirror_mode": {
    "name": "ipython",
    "version": 3
   },
   "file_extension": ".py",
   "mimetype": "text/x-python",
   "name": "python",
   "nbconvert_exporter": "python",
   "pygments_lexer": "ipython3",
   "version": "3.9.7"
  },
  "orig_nbformat": 4,
  "vscode": {
   "interpreter": {
    "hash": "a9960baf88259386db57c734c8604c8e4ab789688672644b3cf73fda24b112c6"
   }
  }
 },
 "nbformat": 4,
 "nbformat_minor": 2
}
