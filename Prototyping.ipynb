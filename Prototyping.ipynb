{
 "cells": [
  {
   "cell_type": "code",
   "execution_count": null,
   "metadata": {},
   "outputs": [],
   "source": [
    "%load_ext autoreload\n",
    "%autoreload 2"
   ]
  },
  {
   "cell_type": "code",
   "execution_count": null,
   "metadata": {},
   "outputs": [],
   "source": [
    "import sys;\n",
    "sys.path.append(r'C:\\Monitor\\\\')\n",
    "sys.path.append(r'\\\\ac-geneva-24\\E\\grains trading\\Streamlit\\Monitor\\\\')\n",
    "\n",
    "from datetime import datetime as dt\n",
    "import numpy as np\n",
    "import pandas as pd\n",
    "\n",
    "import Utilities.Modeling as um\n",
    "import Utilities.GLOBAL as GV\n",
    "import Utilities.Utilities as uu\n",
    "import statsmodels.api as sm\n",
    "\n",
    "import Models.Soybean_USA_Yield_GA as sy\n",
    "\n",
    "import warnings # supress warnings\n",
    "warnings.filterwarnings('ignore')\n",
    "pd.options.mode.chained_assignment = None"
   ]
  },
  {
   "cell_type": "code",
   "execution_count": null,
   "metadata": {},
   "outputs": [],
   "source": [
    "file='GA_soy_7'; \n",
    "id=142\n",
    "\n",
    "r = uu.deserialize(file,comment=False)\n",
    "m = r['model'][id]\n",
    "\n",
    "# Get the data\n",
    "scope = sy.Define_Scope()\n",
    "raw_data = sy.Get_Data_All_Parallel(scope)\n",
    "\n",
    "# Elaborate the data\n",
    "wws = um.var_windows_from_cols(m.params.index)\n",
    "model_df = um.extract_yearly_ww_variables(w_df = raw_data['w_w_df_all']['hist'],var_windows= wws)\n",
    "model_df = pd.concat([raw_data['yield'], model_df], sort=True, axis=1, join='inner')\n",
    "\n",
    "y_col  ='Yield'\n",
    "y_df = model_df[[y_col]]\n",
    "\n",
    "\n",
    "cols= [c for c in m.params.index if c != 'const']\n",
    "X_df=model_df[cols]\n",
    "\n",
    "folds = um.folds_expanding(model_df=model_df, min_train_size=10)\n",
    "\n",
    "cv_score = um.stats_model_cross_validate(X_df, y_df, folds)\n",
    "\n",
    "print(cv_score.keys())\n",
    "\n",
    "comp_list =['cv_corr', 'cv_p', 'cv_r_sq', 'cv_MAE', 'cv_MAPE']\n",
    "\n",
    "for k in comp_list:\n",
    "    print()\n",
    "    print('Saved:', k, np.mean(r[k][id]))\n",
    "    print('Calc :', k, np.mean(cv_score[k]))"
   ]
  },
  {
   "cell_type": "code",
   "execution_count": null,
   "metadata": {},
   "outputs": [],
   "source": []
  }
 ],
 "metadata": {
  "kernelspec": {
   "display_name": "Python 3.9.7 ('base')",
   "language": "python",
   "name": "python3"
  },
  "language_info": {
   "codemirror_mode": {
    "name": "ipython",
    "version": 3
   },
   "file_extension": ".py",
   "mimetype": "text/x-python",
   "name": "python",
   "nbconvert_exporter": "python",
   "pygments_lexer": "ipython3",
   "version": "3.9.7"
  },
  "orig_nbformat": 4,
  "vscode": {
   "interpreter": {
    "hash": "81806929c4ea32b87193d389f5f734f17a32767e49f2b419faebda3ef5b9cfb7"
   }
  }
 },
 "nbformat": 4,
 "nbformat_minor": 2
}
