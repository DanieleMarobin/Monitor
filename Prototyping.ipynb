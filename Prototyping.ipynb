{
 "cells": [
  {
   "cell_type": "code",
   "execution_count": null,
   "metadata": {},
   "outputs": [],
   "source": [
    "%load_ext autoreload\n",
    "%autoreload 2"
   ]
  },
  {
   "cell_type": "code",
   "execution_count": 1,
   "metadata": {},
   "outputs": [
    {
     "name": "stderr",
     "output_type": "stream",
     "text": [
      "<frozen importlib._bootstrap>:228: RuntimeWarning: scipy._lib.messagestream.MessageStream size changed, may indicate binary incompatibility. Expected 56 from C header, got 64 from PyObject\n"
     ]
    }
   ],
   "source": [
    "import sys;\n",
    "sys.path.append(r'C:\\Monitor\\\\')\n",
    "sys.path.append(r'\\\\ac-geneva-24\\E\\grains trading\\Streamlit\\Monitor\\\\')\n",
    "\n",
    "from datetime import datetime as dt\n",
    "from copy import deepcopy\n",
    "\n",
    "import pandas as pd; pd.options.mode.chained_assignment = None\n",
    "import Utilities.Modeling as um\n",
    "import Utilities.Weather as uw\n",
    "import Utilities.GLOBAL as GV\n",
    "import Utilities.Modeling as um\n",
    "import Models.Corn_USA_Yield as cy\n",
    "\n",
    "import plotly.express as px"
   ]
  },
  {
   "cell_type": "code",
   "execution_count": 2,
   "metadata": {},
   "outputs": [
    {
     "data": {
      "text/plain": [
       "dict_keys(['years', 'locations', 'yield', 'weights', 'planting_progress', 'silking_progress', 'w_df_all', 'w_w_df_all'])"
      ]
     },
     "execution_count": 2,
     "metadata": {},
     "output_type": "execute_result"
    }
   ],
   "source": [
    "prec_units='in'\n",
    "temp_units='F'\n",
    "\n",
    "scope = cy.Define_Scope()\n",
    "raw_data = cy.Get_Data_All_Parallel(scope)\n",
    "raw_data.keys()"
   ]
  },
  {
   "cell_type": "code",
   "execution_count": 3,
   "metadata": {},
   "outputs": [],
   "source": [
    "milestones =cy.Milestone_from_Progress(raw_data)\n",
    "intervals = cy.Intervals_from_Milestones(milestones)\n",
    "\n",
    "train_DF_instr = um.Build_DF_Instructions('weighted',GV.WD_HIST, prec_units=prec_units, temp_units=temp_units, ext_mode = GV.EXT_DICT)\n",
    "train_df = cy.Build_DF(raw_data, milestones, intervals, train_DF_instr)\n",
    "\n",
    "model = um.Fit_Model(train_df,'Yield',GV.CUR_YEAR)\n",
    "# print(model.summary())"
   ]
  },
  {
   "cell_type": "code",
   "execution_count": 5,
   "metadata": {},
   "outputs": [],
   "source": [
    "date_start=dt(2022,4,1)\n",
    "date_end=dt(2022,9,30)\n",
    "ext_dict={'Prec' :'Mean','Sdd30':'Mean'}\n",
    "pred_DF_instr=um.Build_DF_Instructions('weighted',GV.WD_H_GFS, prec_units='in', temp_units='F',ext_mode = ext_dict)\n",
    "pred_DF = cy.Build_Pred_DF(raw_data, milestones, pred_DF_instr,date_start=date_start, date_end=date_end)\n",
    "yields=model.predict(pred_DF[model.params.index])\n",
    "pred_DF['Yield']=yields"
   ]
  },
  {
   "cell_type": "code",
   "execution_count": 6,
   "metadata": {},
   "outputs": [],
   "source": [
    "date_start=dt(2022,4,1)\n",
    "date_end=dt(2022,9,30)\n",
    "ext_dict={'Prec' :'Mean','Sdd30':'Mean'}\n",
    "pred_DF_instr=um.Build_DF_Instructions('weighted',GV.WD_H_GFS, prec_units='in', temp_units='F',ext_mode = ext_dict)\n",
    "int_pred_DF = cy.Build_Intuitive_Pred_DF(raw_data, milestones, pred_DF_instr,date_start=date_start, date_end=date_end, trend_yield_case=False)\n",
    "yields=model.predict(int_pred_DF[model.params.index])\n",
    "int_pred_DF['Yield']=yields"
   ]
  },
  {
   "cell_type": "code",
   "execution_count": 7,
   "metadata": {},
   "outputs": [],
   "source": [
    "date_start=dt(2022,4,1)\n",
    "date_end=dt(2022,9,30)\n",
    "ext_dict={'Prec' :'Mean','Sdd30':'Mean'}\n",
    "pred_DF_instr=um.Build_DF_Instructions('weighted',GV.WD_H_GFS, prec_units='in', temp_units='F',ext_mode = ext_dict)\n",
    "int_base_DF = cy.Build_Intuitive_Pred_DF(raw_data, milestones, pred_DF_instr,date_start=date_start, date_end=date_end, trend_yield_case=True)\n",
    "yields=model.predict(int_base_DF[model.params.index])\n",
    "int_base_DF['Yield']=yields"
   ]
  },
  {
   "cell_type": "code",
   "execution_count": 8,
   "metadata": {},
   "outputs": [],
   "source": [
    "date_start=dt(2022,4,1)\n",
    "date_end=dt(2022,9,30)\n",
    "ext_dict={'Prec' :'Mean','Sdd30':'Analog_2012'}\n",
    "pred_DF_instr=um.Build_DF_Instructions('weighted',GV.WD_H_GFS, prec_units='in', temp_units='F',ext_mode = ext_dict)\n",
    "int_2012_DF = cy.Build_Intuitive_Pred_DF(raw_data, milestones, pred_DF_instr,date_start=date_start, date_end=date_end, trend_yield_case=False)\n",
    "yields=model.predict(int_2012_DF[model.params.index])\n",
    "int_2012_DF['Yield']=yields"
   ]
  },
  {
   "cell_type": "code",
   "execution_count": 9,
   "metadata": {},
   "outputs": [],
   "source": [
    "# Chart 1\n",
    "df=pd.concat([int_base_DF['Yield'],int_pred_DF['Yield'],int_2012_DF['Yield']],axis=1,keys=['Base','2022','2012'])\n",
    "fig=px.line(df)\n",
    "fig.update_layout(hovermode=\"x unified\")\n",
    "fig.show('browser')\n",
    "\n",
    "# Chart 2\n",
    "s_2022=int_base_DF.iloc[-1]['Yield'] +int_pred_DF['Yield']-int_base_DF['Yield']\n",
    "s_2012=int_base_DF.iloc[-1]['Yield'] +int_2012_DF['Yield']-int_base_DF['Yield']\n",
    "\n",
    "df=pd.concat([s_2022,s_2012],axis=1,keys=['2022','2012'])\n",
    "fig=px.line(df)\n",
    "fig.update_layout(hovermode=\"x unified\")\n",
    "fig.show('browser')\n",
    "\n",
    "# Chart 3\n",
    "s_2022=pred_DF['Yield']\n",
    "s_2012=pred_DF['Yield'] -(int_pred_DF['Yield']-int_2012_DF['Yield'])\n",
    "\n",
    "df=pd.concat([s_2022,s_2012],axis=1,keys=['2022','2012'])\n",
    "fig=px.line(df)\n",
    "fig.update_layout(hovermode=\"x unified\")\n",
    "fig.show('browser')"
   ]
  },
  {
   "cell_type": "code",
   "execution_count": null,
   "metadata": {},
   "outputs": [],
   "source": []
  },
  {
   "cell_type": "code",
   "execution_count": null,
   "metadata": {},
   "outputs": [],
   "source": []
  },
  {
   "cell_type": "code",
   "execution_count": null,
   "metadata": {},
   "outputs": [],
   "source": []
  },
  {
   "cell_type": "code",
   "execution_count": null,
   "metadata": {},
   "outputs": [],
   "source": []
  },
  {
   "cell_type": "code",
   "execution_count": null,
   "metadata": {},
   "outputs": [],
   "source": []
  },
  {
   "cell_type": "code",
   "execution_count": null,
   "metadata": {},
   "outputs": [],
   "source": []
  },
  {
   "cell_type": "code",
   "execution_count": null,
   "metadata": {},
   "outputs": [],
   "source": []
  },
  {
   "cell_type": "code",
   "execution_count": null,
   "metadata": {},
   "outputs": [],
   "source": [
    "pred_chart=pd.concat([pred_DF_2012['Yield'],pred_DF['Yield']],axis=1,keys=['2012','Base'])\n",
    "base_chart=pd.concat([pred_DF_2012['Yield'],pred_DF['Yield']],axis=1,keys=['2012','Base'])\n",
    "d_pred_chart=pd.concat([d_pred_DF_2012['Yield'],d_pred_DF['Yield']],axis=1,keys=['2012','Base'])\n",
    "\n",
    "\n",
    "fig=px.line(pred_DF['Yield']-pred_DF_2012['Yield']); fig.show()\n",
    "fig=px.line(pred_chart); fig.show()\n",
    "fig=px.line(d_pred_chart); fig.show()\n",
    "# px.line(df_study)\n",
    "\n",
    "# px.line(df_study)\n"
   ]
  },
  {
   "cell_type": "code",
   "execution_count": null,
   "metadata": {},
   "outputs": [],
   "source": []
  }
 ],
 "metadata": {
  "kernelspec": {
   "display_name": "Python 3.9.7 64-bit",
   "language": "python",
   "name": "python3"
  },
  "language_info": {
   "codemirror_mode": {
    "name": "ipython",
    "version": 3
   },
   "file_extension": ".py",
   "mimetype": "text/x-python",
   "name": "python",
   "nbconvert_exporter": "python",
   "pygments_lexer": "ipython3",
   "version": "3.9.7"
  },
  "orig_nbformat": 4,
  "vscode": {
   "interpreter": {
    "hash": "a9960baf88259386db57c734c8604c8e4ab789688672644b3cf73fda24b112c6"
   }
  }
 },
 "nbformat": 4,
 "nbformat_minor": 2
}
