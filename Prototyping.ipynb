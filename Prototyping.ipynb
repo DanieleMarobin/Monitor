{
 "cells": [
  {
   "cell_type": "code",
   "execution_count": null,
   "metadata": {},
   "outputs": [],
   "source": [
    "%load_ext autoreload\n",
    "%autoreload 2"
   ]
  },
  {
   "cell_type": "code",
   "execution_count": 1,
   "metadata": {},
   "outputs": [
    {
     "name": "stderr",
     "output_type": "stream",
     "text": [
      "<frozen importlib._bootstrap>:228: RuntimeWarning: scipy._lib.messagestream.MessageStream size changed, may indicate binary incompatibility. Expected 56 from C header, got 64 from PyObject\n"
     ]
    }
   ],
   "source": [
    "import sys;\n",
    "sys.path.append(r'C:\\Monitor\\\\')\n",
    "sys.path.append(r'\\\\ac-geneva-24\\E\\grains trading\\Streamlit\\Monitor\\\\')\n",
    "\n",
    "from datetime import datetime as dt\n",
    "import numpy as np\n",
    "import pandas as pd\n",
    "\n",
    "import Utilities.Modeling as um\n",
    "import Utilities.GLOBAL as GV\n",
    "import Utilities.Utilities as uu\n",
    "import statsmodels.api as sm\n",
    "\n",
    "import Models.Soybean_USA_Yield_GA as sy\n",
    "\n",
    "import warnings # supress warnings\n",
    "warnings.filterwarnings('ignore')\n",
    "pd.options.mode.chained_assignment = None"
   ]
  },
  {
   "cell_type": "code",
   "execution_count": 2,
   "metadata": {},
   "outputs": [],
   "source": [
    "scope = sy.Define_Scope()\n",
    "raw_data = sy.Get_Data_All_Parallel(scope)"
   ]
  },
  {
   "cell_type": "code",
   "execution_count": 3,
   "metadata": {},
   "outputs": [
    {
     "name": "stdout",
     "output_type": "stream",
     "text": [
      "Saved results: 0.0013021448379618996\n"
     ]
    }
   ],
   "source": [
    "f='GA_soy_7'\n",
    "i=142\n",
    "\n",
    "r = uu.deserialize(f,comment=False)\n",
    "m = r['model'][i]\n",
    "\n",
    "r.keys()\n",
    "print('Saved results:', np.mean(r['cv_p'][i]))"
   ]
  },
  {
   "cell_type": "code",
   "execution_count": 4,
   "metadata": {},
   "outputs": [
    {
     "name": "stdout",
     "output_type": "stream",
     "text": [
      "Calculated results: 0.0013021448379618996\n"
     ]
    }
   ],
   "source": [
    "# Try replicating the saved results\n",
    "wws = um.var_windows_from_cols(m.params.index)\n",
    "model_df = um.extract_yearly_ww_variables(w_df = raw_data['w_w_df_all']['hist'],var_windows= wws)\n",
    "model_df = pd.concat([raw_data['yield'], model_df], sort=True, axis=1, join='inner')\n",
    "\n",
    "y_col  ='Yield'\n",
    "y_df = model_df[[y_col]]\n",
    "\n",
    "\n",
    "cols= [c for c in m.params.index if c != 'const']\n",
    "X_df=model_df[cols]\n",
    "\n",
    "folds = um.folds_expanding(model_df=model_df, min_train_size=10)\n",
    "\n",
    "cv_score = um.stats_model_cross_validate(X_df, y_df, folds)\n",
    "\n",
    "cv_score.keys()\n",
    "print('Calculated results:', np.mean(cv_score['cv_p']))"
   ]
  },
  {
   "cell_type": "code",
   "execution_count": 5,
   "metadata": {},
   "outputs": [
    {
     "data": {
      "text/plain": [
       "dict_keys(['cv_models', 'cv_corr', 'cv_p', 'cv_r_sq', 'cv_y_test', 'cv_y_pred', 'cv_MAE', 'cv_MAPE'])"
      ]
     },
     "execution_count": 5,
     "metadata": {},
     "output_type": "execute_result"
    }
   ],
   "source": [
    "cv_score.keys()"
   ]
  },
  {
   "cell_type": "code",
   "execution_count": 51,
   "metadata": {},
   "outputs": [
    {
     "name": "stdout",
     "output_type": "stream",
     "text": [
      "27\n",
      "27\n",
      "27\n"
     ]
    }
   ],
   "source": [
    "# [print(y.index[0],y['Yield'].iloc[0]) for y in cv_score['cv_y_test']] # good\n",
    "# [print(y.index[0], y.iloc[0]) for y in cv_score['cv_y_pred']] # good\n",
    "# [print(y.index[0]) for y in cv_score['cv_y_pred']] # good\n",
    "\n",
    "# cv_score['cv_y_pred'].index[0]\n",
    "# len(cv_score['cv_y_pred'])\n",
    "# cv_score['cv_y_pred'][27].index[0]\n",
    "\n",
    "cv_years = [y.index[0] for y in cv_score['cv_y_test']] \n",
    "cv_test = [y['Yield'].iloc[0] for y in cv_score['cv_y_test']]\n",
    "cv_pred = [y.iloc[0] for y in cv_score['cv_y_pred']]\n",
    "\n",
    "print(len(cv_years))\n",
    "print(len(cv_test))\n",
    "print(len(cv_pred))"
   ]
  },
  {
   "cell_type": "code",
   "execution_count": null,
   "metadata": {},
   "outputs": [],
   "source": []
  }
 ],
 "metadata": {
  "kernelspec": {
   "display_name": "Python 3.9.7 ('base')",
   "language": "python",
   "name": "python3"
  },
  "language_info": {
   "codemirror_mode": {
    "name": "ipython",
    "version": 3
   },
   "file_extension": ".py",
   "mimetype": "text/x-python",
   "name": "python",
   "nbconvert_exporter": "python",
   "pygments_lexer": "ipython3",
   "version": "3.9.7"
  },
  "orig_nbformat": 4,
  "vscode": {
   "interpreter": {
    "hash": "81806929c4ea32b87193d389f5f734f17a32767e49f2b419faebda3ef5b9cfb7"
   }
  }
 },
 "nbformat": 4,
 "nbformat_minor": 2
}
