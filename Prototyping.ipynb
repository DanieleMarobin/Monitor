{
 "cells": [
  {
   "cell_type": "code",
   "execution_count": 1,
   "metadata": {},
   "outputs": [],
   "source": [
    "%load_ext autoreload\n",
    "%autoreload 2"
   ]
  },
  {
   "cell_type": "code",
   "execution_count": 2,
   "metadata": {},
   "outputs": [
    {
     "name": "stderr",
     "output_type": "stream",
     "text": [
      "<frozen importlib._bootstrap>:228: RuntimeWarning: scipy._lib.messagestream.MessageStream size changed, may indicate binary incompatibility. Expected 56 from C header, got 64 from PyObject\n"
     ]
    }
   ],
   "source": [
    "import sys;\n",
    "sys.path.append(r'C:\\Monitor\\\\')\n",
    "sys.path.append(r'\\\\ac-geneva-24\\E\\grains trading\\Streamlit\\Monitor\\\\')\n",
    "\n",
    "from datetime import datetime as dt\n",
    "\n",
    "import numpy as np\n",
    "import pandas as pd\n",
    "\n",
    "import Utilities.Modeling as um\n",
    "import Utilities.Weather as uw\n",
    "import Utilities.GLOBAL as GV\n",
    "import Utilities.Utilities as uu\n",
    "\n",
    "import plotly.express as px\n",
    "\n",
    "import Models.Soybean_USA_Yield_GA as sy\n",
    "\n",
    "import warnings # supress warnings\n",
    "warnings.filterwarnings('ignore')\n",
    "pd.options.mode.chained_assignment = None"
   ]
  },
  {
   "cell_type": "code",
   "execution_count": 3,
   "metadata": {},
   "outputs": [
    {
     "data": {
      "text/plain": [
       "dict_keys(['years', 'locations', 'yield', 'weights', 'planting_progress', 'blooming_progress', 'w_df_all', 'w_w_df_all'])"
      ]
     },
     "execution_count": 3,
     "metadata": {},
     "output_type": "execute_result"
    }
   ],
   "source": [
    "scope = sy.Define_Scope()\n",
    "raw_data = sy.Get_Data_All_Parallel(scope)\n",
    "raw_data.keys()"
   ]
  },
  {
   "cell_type": "code",
   "execution_count": 8,
   "metadata": {},
   "outputs": [
    {
     "name": "stderr",
     "output_type": "stream",
     "text": [
      "100%|██████████| 6/6 [00:00<00:00, 154.14it/s]\n"
     ]
    }
   ],
   "source": [
    "w_w_df_all=raw_data['w_w_df_all']['hist']\n",
    "\n",
    "dt_s=dt(2022,5,1)\n",
    "dt_e=dt(2022,5,6)\n",
    "\n",
    "freq_start='1D'\n",
    "freq_end='1D'\n",
    "\n",
    "ref_year_s=dt(2022,11,4)\n",
    "\n",
    "multi_ww_df=um.generate_weather_windows_df(w_w_df_all, date_start=dt_s, date_end=dt_e, ref_year_start=ref_year_s, freq_start=freq_start, freq_end=freq_end)"
   ]
  },
  {
   "cell_type": "code",
   "execution_count": 10,
   "metadata": {},
   "outputs": [
    {
     "data": {
      "text/html": [
       "<div>\n",
       "<style scoped>\n",
       "    .dataframe tbody tr th:only-of-type {\n",
       "        vertical-align: middle;\n",
       "    }\n",
       "\n",
       "    .dataframe tbody tr th {\n",
       "        vertical-align: top;\n",
       "    }\n",
       "\n",
       "    .dataframe thead th {\n",
       "        text-align: right;\n",
       "    }\n",
       "</style>\n",
       "<table border=\"1\" class=\"dataframe\">\n",
       "  <thead>\n",
       "    <tr style=\"text-align: right;\">\n",
       "      <th></th>\n",
       "      <th>USA_TempMax_May01-May01</th>\n",
       "      <th>USA_Sdd30_May01-May01</th>\n",
       "      <th>USA_Prec_May01-May01</th>\n",
       "      <th>USA_TempMax_May01-May02</th>\n",
       "      <th>USA_Sdd30_May01-May02</th>\n",
       "      <th>USA_Prec_May01-May02</th>\n",
       "      <th>USA_TempMax_May01-May03</th>\n",
       "      <th>USA_Sdd30_May01-May03</th>\n",
       "      <th>USA_Prec_May01-May03</th>\n",
       "      <th>USA_TempMax_May01-May04</th>\n",
       "      <th>...</th>\n",
       "      <th>USA_Prec_May04-May06</th>\n",
       "      <th>USA_TempMax_May05-May05</th>\n",
       "      <th>USA_Sdd30_May05-May05</th>\n",
       "      <th>USA_Prec_May05-May05</th>\n",
       "      <th>USA_TempMax_May05-May06</th>\n",
       "      <th>USA_Sdd30_May05-May06</th>\n",
       "      <th>USA_Prec_May05-May06</th>\n",
       "      <th>USA_TempMax_May06-May06</th>\n",
       "      <th>USA_Sdd30_May06-May06</th>\n",
       "      <th>USA_Prec_May06-May06</th>\n",
       "    </tr>\n",
       "    <tr>\n",
       "      <th>year</th>\n",
       "      <th></th>\n",
       "      <th></th>\n",
       "      <th></th>\n",
       "      <th></th>\n",
       "      <th></th>\n",
       "      <th></th>\n",
       "      <th></th>\n",
       "      <th></th>\n",
       "      <th></th>\n",
       "      <th></th>\n",
       "      <th></th>\n",
       "      <th></th>\n",
       "      <th></th>\n",
       "      <th></th>\n",
       "      <th></th>\n",
       "      <th></th>\n",
       "      <th></th>\n",
       "      <th></th>\n",
       "      <th></th>\n",
       "      <th></th>\n",
       "      <th></th>\n",
       "    </tr>\n",
       "  </thead>\n",
       "  <tbody>\n",
       "    <tr>\n",
       "      <th>1985</th>\n",
       "      <td>23.115531</td>\n",
       "      <td>0.0</td>\n",
       "      <td>7.740059</td>\n",
       "      <td>23.115531</td>\n",
       "      <td>0.0</td>\n",
       "      <td>7.740059</td>\n",
       "      <td>23.115531</td>\n",
       "      <td>0.0</td>\n",
       "      <td>7.740059</td>\n",
       "      <td>23.115531</td>\n",
       "      <td>...</td>\n",
       "      <td>0.172154</td>\n",
       "      <td>24.673521</td>\n",
       "      <td>0.0</td>\n",
       "      <td>0.451683</td>\n",
       "      <td>24.673521</td>\n",
       "      <td>0.0</td>\n",
       "      <td>0.451683</td>\n",
       "      <td>23.908775</td>\n",
       "      <td>0.0</td>\n",
       "      <td>3.123178</td>\n",
       "    </tr>\n",
       "    <tr>\n",
       "      <th>1986</th>\n",
       "      <td>21.501045</td>\n",
       "      <td>0.0</td>\n",
       "      <td>8.649489</td>\n",
       "      <td>21.501045</td>\n",
       "      <td>0.0</td>\n",
       "      <td>8.649489</td>\n",
       "      <td>21.501045</td>\n",
       "      <td>0.0</td>\n",
       "      <td>8.649489</td>\n",
       "      <td>21.501045</td>\n",
       "      <td>...</td>\n",
       "      <td>0.171409</td>\n",
       "      <td>25.347209</td>\n",
       "      <td>0.0</td>\n",
       "      <td>0.152654</td>\n",
       "      <td>25.347209</td>\n",
       "      <td>0.0</td>\n",
       "      <td>0.152654</td>\n",
       "      <td>26.536711</td>\n",
       "      <td>0.0</td>\n",
       "      <td>0.870573</td>\n",
       "    </tr>\n",
       "  </tbody>\n",
       "</table>\n",
       "<p>2 rows × 63 columns</p>\n",
       "</div>"
      ],
      "text/plain": [
       "      USA_TempMax_May01-May01  USA_Sdd30_May01-May01  USA_Prec_May01-May01  \\\n",
       "year                                                                         \n",
       "1985                23.115531                    0.0              7.740059   \n",
       "1986                21.501045                    0.0              8.649489   \n",
       "\n",
       "      USA_TempMax_May01-May02  USA_Sdd30_May01-May02  USA_Prec_May01-May02  \\\n",
       "year                                                                         \n",
       "1985                23.115531                    0.0              7.740059   \n",
       "1986                21.501045                    0.0              8.649489   \n",
       "\n",
       "      USA_TempMax_May01-May03  USA_Sdd30_May01-May03  USA_Prec_May01-May03  \\\n",
       "year                                                                         \n",
       "1985                23.115531                    0.0              7.740059   \n",
       "1986                21.501045                    0.0              8.649489   \n",
       "\n",
       "      USA_TempMax_May01-May04  ...  USA_Prec_May04-May06  \\\n",
       "year                           ...                         \n",
       "1985                23.115531  ...              0.172154   \n",
       "1986                21.501045  ...              0.171409   \n",
       "\n",
       "      USA_TempMax_May05-May05  USA_Sdd30_May05-May05  USA_Prec_May05-May05  \\\n",
       "year                                                                         \n",
       "1985                24.673521                    0.0              0.451683   \n",
       "1986                25.347209                    0.0              0.152654   \n",
       "\n",
       "      USA_TempMax_May05-May06  USA_Sdd30_May05-May06  USA_Prec_May05-May06  \\\n",
       "year                                                                         \n",
       "1985                24.673521                    0.0              0.451683   \n",
       "1986                25.347209                    0.0              0.152654   \n",
       "\n",
       "      USA_TempMax_May06-May06  USA_Sdd30_May06-May06  USA_Prec_May06-May06  \n",
       "year                                                                        \n",
       "1985                23.908775                    0.0              3.123178  \n",
       "1986                26.536711                    0.0              0.870573  \n",
       "\n",
       "[2 rows x 63 columns]"
      ]
     },
     "execution_count": 10,
     "metadata": {},
     "output_type": "execute_result"
    }
   ],
   "source": [
    "multi_ww_df.head(2)"
   ]
  },
  {
   "cell_type": "code",
   "execution_count": null,
   "metadata": {},
   "outputs": [],
   "source": []
  },
  {
   "cell_type": "code",
   "execution_count": null,
   "metadata": {},
   "outputs": [],
   "source": []
  },
  {
   "cell_type": "code",
   "execution_count": null,
   "metadata": {},
   "outputs": [],
   "source": []
  },
  {
   "cell_type": "code",
   "execution_count": null,
   "metadata": {},
   "outputs": [],
   "source": []
  },
  {
   "cell_type": "code",
   "execution_count": null,
   "metadata": {},
   "outputs": [],
   "source": []
  }
 ],
 "metadata": {
  "kernelspec": {
   "display_name": "Python 3.9.7 ('base')",
   "language": "python",
   "name": "python3"
  },
  "language_info": {
   "codemirror_mode": {
    "name": "ipython",
    "version": 3
   },
   "file_extension": ".py",
   "mimetype": "text/x-python",
   "name": "python",
   "nbconvert_exporter": "python",
   "pygments_lexer": "ipython3",
   "version": "3.9.7"
  },
  "orig_nbformat": 4,
  "vscode": {
   "interpreter": {
    "hash": "81806929c4ea32b87193d389f5f734f17a32767e49f2b419faebda3ef5b9cfb7"
   }
  }
 },
 "nbformat": 4,
 "nbformat_minor": 2
}
