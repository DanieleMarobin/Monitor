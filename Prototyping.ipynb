{
 "cells": [
  {
   "cell_type": "code",
   "execution_count": 1,
   "metadata": {},
   "outputs": [],
   "source": [
    "%load_ext autoreload\n",
    "%autoreload 2"
   ]
  },
  {
   "cell_type": "code",
   "execution_count": 12,
   "metadata": {},
   "outputs": [],
   "source": [
    "import sys;\n",
    "sys.path.append(r'C:\\Monitor\\\\')\n",
    "sys.path.append(r'\\\\ac-geneva-24\\E\\grains trading\\Streamlit\\Monitor\\\\')\n",
    "\n",
    "from datetime import datetime as dt\n",
    "from copy import deepcopy\n",
    "\n",
    "import numpy as np\n",
    "import pandas as pd; pd.options.mode.chained_assignment = None\n",
    "import Utilities.Modeling as um\n",
    "import Utilities.Weather as uw\n",
    "import Utilities.GLOBAL as GV\n",
    "import Utilities.Modeling as um\n",
    "import Models.Corn_USA_Yield as cy\n",
    "\n",
    "import plotly.express as px"
   ]
  },
  {
   "cell_type": "code",
   "execution_count": 3,
   "metadata": {},
   "outputs": [
    {
     "data": {
      "text/plain": [
       "dict_keys(['years', 'locations', 'yield', 'weights', 'planting_progress', 'silking_progress', 'w_df_all', 'w_w_df_all'])"
      ]
     },
     "execution_count": 3,
     "metadata": {},
     "output_type": "execute_result"
    }
   ],
   "source": [
    "prec_units='mm'\n",
    "temp_units='C'\n",
    "\n",
    "scope = cy.Define_Scope()\n",
    "raw_data = cy.Get_Data_All_Parallel(scope)\n",
    "raw_data.keys()"
   ]
  },
  {
   "cell_type": "code",
   "execution_count": 5,
   "metadata": {},
   "outputs": [],
   "source": [
    "milestones =cy.Milestone_from_Progress(raw_data)\n",
    "intervals = cy.Intervals_from_Milestones(milestones)\n",
    "\n",
    "train_DF_instr = um.Build_DF_Instructions('weighted',GV.WD_HIST, prec_units=prec_units, temp_units=temp_units, ext_mode = GV.EXT_DICT)\n",
    "train_df = cy.Build_DF(raw_data, milestones, intervals, train_DF_instr)\n",
    "\n",
    "model = um.Fit_Model(train_df,'Yield',GV.CUR_YEAR)\n",
    "# print(model.summary())"
   ]
  },
  {
   "cell_type": "code",
   "execution_count": 7,
   "metadata": {},
   "outputs": [
    {
     "data": {
      "text/plain": [
       "Index(['const', 'Trend', 'Yield', 'Planted pct on May 15th', 'Planting Prec',\n",
       "       'Planting Prec Squared', 'Jul Aug Prec', 'Jul Aug Prec Squared',\n",
       "       'Prec Interaction', 'Pollination SDD', 'Regular SDD'],\n",
       "      dtype='object')"
      ]
     },
     "execution_count": 7,
     "metadata": {},
     "output_type": "execute_result"
    }
   ],
   "source": [
    "train_df.columns"
   ]
  },
  {
   "cell_type": "code",
   "execution_count": 8,
   "metadata": {},
   "outputs": [
    {
     "data": {
      "text/plain": [
       "const                     -3720.595956\n",
       "Trend                         1.850741\n",
       "Planted pct on May 15th       0.210880\n",
       "Planting Prec                 0.500343\n",
       "Planting Prec Squared        -0.000617\n",
       "Jul Aug Prec                  0.747562\n",
       "Jul Aug Prec Squared         -0.001017\n",
       "Prec Interaction             -0.000891\n",
       "Pollination SDD              -0.195096\n",
       "Regular SDD                  -0.131014\n",
       "dtype: float64"
      ]
     },
     "execution_count": 8,
     "metadata": {},
     "output_type": "execute_result"
    }
   ],
   "source": [
    "model.params"
   ]
  },
  {
   "cell_type": "code",
   "execution_count": 208,
   "metadata": {},
   "outputs": [
    {
     "name": "stdout",
     "output_type": "stream",
     "text": [
      "322.0\n",
      "(162,)\n",
      "394.0\n",
      "(198,)\n",
      "155.11337651216758\n"
     ]
    }
   ],
   "source": [
    "step=2.0\n",
    "\n",
    "col=['Planting Prec']\n",
    "min_x = train_df[col].min()\n",
    "max_x = train_df[col].max()\n",
    "\n",
    "pp_x = np.arange(0,1.0*max_x.values,step)\n",
    "pp_y = model.params['Planting Prec']*pp_x+ model.params['Planting Prec Squared']*pp_x*pp_x\n",
    "fig=px.line(x=pp_x, y=pp_y)\n",
    "# fig.show('browser')\n",
    "print(pp_x.max())\n",
    "print(pp_x.shape)\n",
    "\n",
    "\n",
    "col=['Jul Aug Prec']\n",
    "min_x = train_df[col].min()\n",
    "max_x = train_df[col].max()\n",
    "\n",
    "jp_x = np.arange(0,1.0*max_x.values,step)\n",
    "jp_y = model.params['Jul Aug Prec']*jp_x+ model.params['Jul Aug Prec Squared']*jp_x*jp_x\n",
    "fig=px.line(x=jp_x, y=jp_y)\n",
    "# fig.show('browser')\n",
    "print(jp_x.max())\n",
    "print(jp_x.shape)\n",
    "\n",
    "\n",
    "interaction = np.matrix(pp_x).T * np.matrix(jp_x) * model.params['Prec Interaction']\n",
    "prec = np.matrix(pp_y).T + np.matrix(jp_y)\n",
    "all_prec = prec+interaction\n",
    "\n",
    "\n",
    "fig=px.imshow(all_prec,x=jp_x,y=pp_x)\n",
    "fig.update_yaxes(autorange=True) \n",
    "# fig=px.imshow(all_prec)\n",
    "fig.show('browser')\n",
    "print(np.max(all_prec))"
   ]
  },
  {
   "cell_type": "code",
   "execution_count": null,
   "metadata": {},
   "outputs": [],
   "source": []
  },
  {
   "cell_type": "code",
   "execution_count": null,
   "metadata": {},
   "outputs": [],
   "source": [
    "date_start=dt(2022,4,1)\n",
    "date_end=dt(2022,9,30)\n",
    "ext_dict={'Prec' :'Mean','Sdd30':'Mean'}\n",
    "pred_DF_instr=um.Build_DF_Instructions('weighted',GV.WD_H_GFS, prec_units='in', temp_units='F',ext_mode = ext_dict)\n",
    "pred_DF = cy.Build_Pred_DF(raw_data, milestones, pred_DF_instr,date_start=date_start, date_end=date_end)\n",
    "yields=model.predict(pred_DF[model.params.index])\n",
    "pred_DF['Yield']=yields"
   ]
  },
  {
   "cell_type": "code",
   "execution_count": null,
   "metadata": {},
   "outputs": [],
   "source": [
    "date_start=dt(2022,4,1)\n",
    "date_end=dt(2022,9,30)\n",
    "ext_dict={'Prec' :'Mean','Sdd30':'Mean'}\n",
    "pred_DF_instr=um.Build_DF_Instructions('weighted',GV.WD_H_GFS, prec_units='in', temp_units='F',ext_mode = ext_dict)\n",
    "int_pred_DF = cy.Build_Intuitive_Pred_DF(raw_data, milestones, pred_DF_instr,date_start=date_start, date_end=date_end, trend_yield_case=False)\n",
    "yields=model.predict(int_pred_DF[model.params.index])\n",
    "int_pred_DF['Yield']=yields"
   ]
  },
  {
   "cell_type": "code",
   "execution_count": null,
   "metadata": {},
   "outputs": [],
   "source": [
    "date_start=dt(2022,4,1)\n",
    "date_end=dt(2022,9,30)\n",
    "ext_dict={'Prec' :'Mean','Sdd30':'Mean'}\n",
    "pred_DF_instr=um.Build_DF_Instructions('weighted',GV.WD_H_GFS, prec_units='in', temp_units='F',ext_mode = ext_dict)\n",
    "int_base_DF = cy.Build_Intuitive_Pred_DF(raw_data, milestones, pred_DF_instr,date_start=date_start, date_end=date_end, trend_yield_case=True)\n",
    "yields=model.predict(int_base_DF[model.params.index])\n",
    "int_base_DF['Yield']=yields"
   ]
  },
  {
   "cell_type": "code",
   "execution_count": null,
   "metadata": {},
   "outputs": [],
   "source": [
    "date_start=dt(2022,4,1)\n",
    "date_end=dt(2022,9,30)\n",
    "ext_dict={'Prec' :'Mean','Sdd30':'Analog_2012'}\n",
    "pred_DF_instr=um.Build_DF_Instructions('weighted',GV.WD_H_GFS, prec_units='in', temp_units='F',ext_mode = ext_dict)\n",
    "int_2012_DF = cy.Build_Intuitive_Pred_DF(raw_data, milestones, pred_DF_instr,date_start=date_start, date_end=date_end, trend_yield_case=False)\n",
    "yields=model.predict(int_2012_DF[model.params.index])\n",
    "int_2012_DF['Yield']=yields"
   ]
  },
  {
   "cell_type": "code",
   "execution_count": null,
   "metadata": {},
   "outputs": [],
   "source": [
    "# Chart 1\n",
    "df=pd.concat([int_base_DF['Yield'],int_pred_DF['Yield'],int_2012_DF['Yield']],axis=1,keys=['Base','2022','2012'])\n",
    "fig=px.line(df)\n",
    "fig.update_layout(hovermode=\"x unified\")\n",
    "fig.show('browser')\n",
    "\n",
    "# Chart 2\n",
    "s_2022=int_base_DF.iloc[-1]['Yield'] +int_pred_DF['Yield']-int_base_DF['Yield']\n",
    "s_2012=int_base_DF.iloc[-1]['Yield'] +int_2012_DF['Yield']-int_base_DF['Yield']\n",
    "\n",
    "df=pd.concat([s_2022,s_2012],axis=1,keys=['2022','2012'])\n",
    "fig=px.line(df)\n",
    "fig.update_layout(hovermode=\"x unified\")\n",
    "fig.show('browser')\n",
    "\n",
    "# Chart 3\n",
    "s_2022=pred_DF['Yield']\n",
    "s_2012=pred_DF['Yield'] -(int_pred_DF['Yield']-int_2012_DF['Yield'])\n",
    "\n",
    "df=pd.concat([s_2022,s_2012],axis=1,keys=['2022','2012'])\n",
    "fig=px.line(df)\n",
    "fig.update_layout(hovermode=\"x unified\")\n",
    "fig.show('browser')"
   ]
  },
  {
   "cell_type": "code",
   "execution_count": null,
   "metadata": {},
   "outputs": [],
   "source": []
  },
  {
   "cell_type": "code",
   "execution_count": null,
   "metadata": {},
   "outputs": [],
   "source": []
  },
  {
   "cell_type": "code",
   "execution_count": null,
   "metadata": {},
   "outputs": [],
   "source": []
  },
  {
   "cell_type": "code",
   "execution_count": null,
   "metadata": {},
   "outputs": [],
   "source": []
  },
  {
   "cell_type": "code",
   "execution_count": null,
   "metadata": {},
   "outputs": [],
   "source": []
  },
  {
   "cell_type": "code",
   "execution_count": null,
   "metadata": {},
   "outputs": [],
   "source": []
  },
  {
   "cell_type": "code",
   "execution_count": null,
   "metadata": {},
   "outputs": [],
   "source": []
  },
  {
   "cell_type": "code",
   "execution_count": null,
   "metadata": {},
   "outputs": [],
   "source": [
    "pred_chart=pd.concat([pred_DF_2012['Yield'],pred_DF['Yield']],axis=1,keys=['2012','Base'])\n",
    "base_chart=pd.concat([pred_DF_2012['Yield'],pred_DF['Yield']],axis=1,keys=['2012','Base'])\n",
    "d_pred_chart=pd.concat([d_pred_DF_2012['Yield'],d_pred_DF['Yield']],axis=1,keys=['2012','Base'])\n",
    "\n",
    "\n",
    "fig=px.line(pred_DF['Yield']-pred_DF_2012['Yield']); fig.show()\n",
    "fig=px.line(pred_chart); fig.show()\n",
    "fig=px.line(d_pred_chart); fig.show()\n",
    "# px.line(df_study)\n",
    "\n",
    "# px.line(df_study)\n"
   ]
  },
  {
   "cell_type": "code",
   "execution_count": null,
   "metadata": {},
   "outputs": [],
   "source": []
  }
 ],
 "metadata": {
  "kernelspec": {
   "display_name": "Python 3.9.7 64-bit",
   "language": "python",
   "name": "python3"
  },
  "language_info": {
   "codemirror_mode": {
    "name": "ipython",
    "version": 3
   },
   "file_extension": ".py",
   "mimetype": "text/x-python",
   "name": "python",
   "nbconvert_exporter": "python",
   "pygments_lexer": "ipython3",
   "version": "3.9.7"
  },
  "orig_nbformat": 4,
  "vscode": {
   "interpreter": {
    "hash": "a9960baf88259386db57c734c8604c8e4ab789688672644b3cf73fda24b112c6"
   }
  }
 },
 "nbformat": 4,
 "nbformat_minor": 2
}
