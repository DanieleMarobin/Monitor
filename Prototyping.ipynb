{
 "cells": [
  {
   "cell_type": "code",
   "execution_count": 2,
   "metadata": {},
   "outputs": [],
   "source": [
    "%load_ext autoreload\n",
    "%autoreload 2"
   ]
  },
  {
   "cell_type": "code",
   "execution_count": 3,
   "metadata": {},
   "outputs": [],
   "source": [
    "import sys;\n",
    "sys.path.append(r'C:\\Monitor\\\\')\n",
    "\n",
    "from datetime import datetime as dt\n",
    "from copy import deepcopy\n",
    "import concurrent.futures\n",
    "\n",
    "import pandas as pd; pd.options.mode.chained_assignment = None\n",
    "import numpy as np\n",
    "import statsmodels.api as sm\n",
    "\n",
    "import APIs.QuickStats as qs\n",
    "\n",
    "import Utilities.SnD as us\n",
    "import Utilities.Weather as uw\n",
    "import Utilities.Modeling as um\n",
    "\n",
    "import Utilities.GLOBAL as GV\n",
    "import Utilities.Modeling as um\n",
    "import Models.Corn_USA_Yield as cy"
   ]
  },
  {
   "cell_type": "code",
   "execution_count": 4,
   "metadata": {},
   "outputs": [],
   "source": [
    "scope = cy.Define_Scope()\n",
    "\n",
    "raw_data = cy.Get_Data_All_Parallel(scope)\n",
    "milestones =cy.Milestone_from_Progress(raw_data)\n",
    "intervals = cy.Intervals_from_Milestones(milestones)\n",
    "\n",
    "train_DF_instr = um.Build_DF_Instructions('weighted',GV.WD_HIST, prec_units='in', temp_units='F',ext_mode = GV.EXT_DICT)\n",
    "train_df = cy.Build_DF(raw_data, milestones, intervals, train_DF_instr)\n",
    "model = um.Fit_Model(train_df,'Yield',GV.CUR_YEAR)\n",
    "# print(model.summary())"
   ]
  },
  {
   "cell_type": "code",
   "execution_count": 19,
   "metadata": {},
   "outputs": [
    {
     "name": "stdout",
     "output_type": "stream",
     "text": [
      "1369\n"
     ]
    }
   ],
   "source": [
    "scenarios_EXT_dict = {}\n",
    "for p in range(1985,2022):\n",
    "    for t in range(1985,2022):\n",
    "        scenarios_EXT_dict[str(p)+'_'+str(t)]={GV.WV_PREC:GV.EXT_ANALOG+'_'+str(p),GV.WV_SDD_30:GV.EXT_ANALOG+'_'+str(t)}\n",
    "\n",
    "print(len(scenarios_EXT_dict))\n",
    "# print(scenarios_EXT_dict)"
   ]
  },
  {
   "cell_type": "code",
   "execution_count": null,
   "metadata": {},
   "outputs": [],
   "source": [
    "%%time\n",
    "results = {}\n",
    "i=0\n",
    "for sce_name, sce_dict in scenarios_EXT_dict.items():\n",
    "    i+=1; print(i)\n",
    "    pred_DF_instr=um.Build_DF_Instructions('weighted',GV.WD_H_GFS, prec_units='in', temp_units='F', ext_mode = sce_dict)\n",
    "    pred_df = cy.Build_Pred_DF(raw_data,milestones,pred_DF_instr,GV.CUR_YEAR, dt(2022,7,5))\n",
    "    yields = model.predict(pred_df[model.params.index]).values\n",
    "\n",
    "    results[sce_name]=yields[0]\n",
    "\n",
    "[print(k,'->',v) for k,v in results.items()]\n",
    "print(results)\n",
    "print('All Done')"
   ]
  },
  {
   "cell_type": "code",
   "execution_count": 23,
   "metadata": {},
   "outputs": [
    {
     "data": {
      "text/plain": [
       "143.97644417218277"
      ]
     },
     "execution_count": 23,
     "metadata": {},
     "output_type": "execute_result"
    }
   ],
   "source": [
    "results['2013_2012']"
   ]
  },
  {
   "cell_type": "code",
   "execution_count": 21,
   "metadata": {},
   "outputs": [
    {
     "data": {
      "text/plain": [
       "143.97644417218277"
      ]
     },
     "execution_count": 21,
     "metadata": {},
     "output_type": "execute_result"
    }
   ],
   "source": [
    "min(results.values())"
   ]
  },
  {
   "cell_type": "code",
   "execution_count": 22,
   "metadata": {},
   "outputs": [
    {
     "data": {
      "text/plain": [
       "'2013_2012'"
      ]
     },
     "execution_count": 22,
     "metadata": {},
     "output_type": "execute_result"
    }
   ],
   "source": [
    "min(results, key=results.get)"
   ]
  },
  {
   "cell_type": "code",
   "execution_count": null,
   "metadata": {},
   "outputs": [],
   "source": []
  }
 ],
 "metadata": {
  "kernelspec": {
   "display_name": "Python 3.9.7 64-bit",
   "language": "python",
   "name": "python3"
  },
  "language_info": {
   "codemirror_mode": {
    "name": "ipython",
    "version": 3
   },
   "file_extension": ".py",
   "mimetype": "text/x-python",
   "name": "python",
   "nbconvert_exporter": "python",
   "pygments_lexer": "ipython3",
   "version": "3.9.7"
  },
  "orig_nbformat": 4,
  "vscode": {
   "interpreter": {
    "hash": "a9960baf88259386db57c734c8604c8e4ab789688672644b3cf73fda24b112c6"
   }
  }
 },
 "nbformat": 4,
 "nbformat_minor": 2
}
