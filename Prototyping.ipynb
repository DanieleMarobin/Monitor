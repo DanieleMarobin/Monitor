{
 "cells": [
  {
   "cell_type": "code",
   "execution_count": null,
   "metadata": {},
   "outputs": [],
   "source": [
    "%load_ext autoreload\n",
    "%autoreload 2"
   ]
  },
  {
   "cell_type": "code",
   "execution_count": null,
   "metadata": {},
   "outputs": [],
   "source": [
    "import sys;\n",
    "sys.path.append(r'C:\\Monitor\\\\')\n",
    "sys.path.append(r'\\\\ac-geneva-24\\E\\grains trading\\Streamlit\\Monitor\\\\')\n",
    "\n",
    "from datetime import datetime as dt\n",
    "from copy import deepcopy\n",
    "\n",
    "import numpy as np\n",
    "import pandas as pd; pd.options.mode.chained_assignment = None\n",
    "import Utilities.Modeling as um\n",
    "import Utilities.Weather as uw\n",
    "import Utilities.GLOBAL as GV\n",
    "import Utilities.Modeling as um\n",
    "import Models.Corn_USA_Yield as cy\n",
    "\n",
    "import plotly.express as px"
   ]
  },
  {
   "cell_type": "code",
   "execution_count": null,
   "metadata": {},
   "outputs": [],
   "source": [
    "prec_units='mm'\n",
    "temp_units='C'\n",
    "\n",
    "scope = cy.Define_Scope()\n",
    "raw_data = cy.Get_Data_All_Parallel(scope)\n",
    "raw_data.keys()"
   ]
  },
  {
   "cell_type": "code",
   "execution_count": null,
   "metadata": {},
   "outputs": [],
   "source": [
    "milestones =cy.Milestone_from_Progress(raw_data)\n",
    "intervals = cy.Intervals_from_Milestones(milestones)\n",
    "\n",
    "train_DF_instr = um.Build_DF_Instructions('weighted',GV.WD_HIST, prec_units=prec_units, temp_units=temp_units, ext_mode = GV.EXT_DICT)\n",
    "train_df = cy.Build_DF(raw_data, milestones, intervals, train_DF_instr)\n",
    "\n",
    "model = um.Fit_Model(train_df,'Yield',GV.CUR_YEAR)\n",
    "# print(model.summary())"
   ]
  },
  {
   "cell_type": "code",
   "execution_count": null,
   "metadata": {},
   "outputs": [],
   "source": [
    "train_df.columns"
   ]
  },
  {
   "cell_type": "code",
   "execution_count": null,
   "metadata": {},
   "outputs": [],
   "source": [
    "model.params"
   ]
  },
  {
   "cell_type": "code",
   "execution_count": null,
   "metadata": {},
   "outputs": [],
   "source": [
    "step=2.0\n",
    "\n",
    "col=['Planting Prec']\n",
    "min_x = train_df[col].min()\n",
    "max_x = train_df[col].max()\n",
    "\n",
    "pp_x = np.arange(0,1.0*max_x.values,step)\n",
    "pp_y = model.params['Planting Prec']*pp_x+ model.params['Planting Prec Squared']*pp_x*pp_x\n",
    "fig=px.line(x=pp_x, y=pp_y)\n",
    "# fig.show('browser')\n",
    "print(pp_x.max())\n",
    "print(pp_x.shape)\n",
    "\n",
    "\n",
    "col=['Jul Aug Prec']\n",
    "min_x = train_df[col].min()\n",
    "max_x = train_df[col].max()\n",
    "\n",
    "jp_x = np.arange(0,1.0*max_x.values,step)\n",
    "jp_y = model.params['Jul Aug Prec']*jp_x+ model.params['Jul Aug Prec Squared']*jp_x*jp_x\n",
    "fig=px.line(x=jp_x, y=jp_y)\n",
    "# fig.show('browser')\n",
    "print(jp_x.max())\n",
    "print(jp_x.shape)\n",
    "\n",
    "\n",
    "interaction = np.matrix(pp_x).T * np.matrix(jp_x) * model.params['Prec Interaction']\n",
    "prec = np.matrix(pp_y).T + np.matrix(jp_y)\n",
    "all_prec = prec+interaction\n",
    "\n",
    "\n",
    "fig=px.imshow(all_prec,x=jp_x,y=pp_x)\n",
    "fig.update_yaxes(autorange=True) \n",
    "# fig=px.imshow(all_prec)\n",
    "fig.show('browser')\n",
    "print(np.max(all_prec))"
   ]
  },
  {
   "cell_type": "code",
   "execution_count": null,
   "metadata": {},
   "outputs": [],
   "source": []
  },
  {
   "cell_type": "code",
   "execution_count": null,
   "metadata": {},
   "outputs": [],
   "source": [
    "date_start=dt(2022,4,1)\n",
    "date_end=dt(2022,9,30)\n",
    "ext_dict={'Prec' :'Mean','Sdd30':'Mean'}\n",
    "pred_DF_instr=um.Build_DF_Instructions('weighted',GV.WD_H_GFS, prec_units='in', temp_units='F',ext_mode = ext_dict)\n",
    "pred_DF = cy.Build_Pred_DF(raw_data, milestones, pred_DF_instr,date_start=date_start, date_end=date_end)\n",
    "yields=model.predict(pred_DF[model.params.index])\n",
    "pred_DF['Yield']=yields"
   ]
  },
  {
   "cell_type": "code",
   "execution_count": null,
   "metadata": {},
   "outputs": [],
   "source": [
    "date_start=dt(2022,4,1)\n",
    "date_end=dt(2022,9,30)\n",
    "ext_dict={'Prec' :'Mean','Sdd30':'Mean'}\n",
    "pred_DF_instr=um.Build_DF_Instructions('weighted',GV.WD_H_GFS, prec_units='in', temp_units='F',ext_mode = ext_dict)\n",
    "int_pred_DF = cy.Build_Intuitive_Pred_DF(raw_data, milestones, pred_DF_instr,date_start=date_start, date_end=date_end, trend_yield_case=False)\n",
    "yields=model.predict(int_pred_DF[model.params.index])\n",
    "int_pred_DF['Yield']=yields"
   ]
  },
  {
   "cell_type": "code",
   "execution_count": null,
   "metadata": {},
   "outputs": [],
   "source": [
    "date_start=dt(2022,4,1)\n",
    "date_end=dt(2022,9,30)\n",
    "ext_dict={'Prec' :'Mean','Sdd30':'Mean'}\n",
    "pred_DF_instr=um.Build_DF_Instructions('weighted',GV.WD_H_GFS, prec_units='in', temp_units='F',ext_mode = ext_dict)\n",
    "int_base_DF = cy.Build_Intuitive_Pred_DF(raw_data, milestones, pred_DF_instr,date_start=date_start, date_end=date_end, trend_yield_case=True)\n",
    "yields=model.predict(int_base_DF[model.params.index])\n",
    "int_base_DF['Yield']=yields"
   ]
  },
  {
   "cell_type": "code",
   "execution_count": null,
   "metadata": {},
   "outputs": [],
   "source": [
    "date_start=dt(2022,4,1)\n",
    "date_end=dt(2022,9,30)\n",
    "ext_dict={'Prec' :'Mean','Sdd30':'Analog_2012'}\n",
    "pred_DF_instr=um.Build_DF_Instructions('weighted',GV.WD_H_GFS, prec_units='in', temp_units='F',ext_mode = ext_dict)\n",
    "int_2012_DF = cy.Build_Intuitive_Pred_DF(raw_data, milestones, pred_DF_instr,date_start=date_start, date_end=date_end, trend_yield_case=False)\n",
    "yields=model.predict(int_2012_DF[model.params.index])\n",
    "int_2012_DF['Yield']=yields"
   ]
  },
  {
   "cell_type": "code",
   "execution_count": null,
   "metadata": {},
   "outputs": [],
   "source": [
    "# Chart 1\n",
    "df=pd.concat([int_base_DF['Yield'],int_pred_DF['Yield'],int_2012_DF['Yield']],axis=1,keys=['Base','2022','2012'])\n",
    "fig=px.line(df)\n",
    "fig.update_layout(hovermode=\"x unified\")\n",
    "fig.show('browser')\n",
    "\n",
    "# Chart 2\n",
    "s_2022=int_base_DF.iloc[-1]['Yield'] +int_pred_DF['Yield']-int_base_DF['Yield']\n",
    "s_2012=int_base_DF.iloc[-1]['Yield'] +int_2012_DF['Yield']-int_base_DF['Yield']\n",
    "\n",
    "df=pd.concat([s_2022,s_2012],axis=1,keys=['2022','2012'])\n",
    "fig=px.line(df)\n",
    "fig.update_layout(hovermode=\"x unified\")\n",
    "fig.show('browser')\n",
    "\n",
    "# Chart 3\n",
    "s_2022=pred_DF['Yield']\n",
    "s_2012=pred_DF['Yield'] -(int_pred_DF['Yield']-int_2012_DF['Yield'])\n",
    "\n",
    "df=pd.concat([s_2022,s_2012],axis=1,keys=['2022','2012'])\n",
    "fig=px.line(df)\n",
    "fig.update_layout(hovermode=\"x unified\")\n",
    "fig.show('browser')"
   ]
  },
  {
   "cell_type": "code",
   "execution_count": null,
   "metadata": {},
   "outputs": [],
   "source": []
  },
  {
   "cell_type": "code",
   "execution_count": null,
   "metadata": {},
   "outputs": [],
   "source": []
  },
  {
   "cell_type": "code",
   "execution_count": null,
   "metadata": {},
   "outputs": [],
   "source": []
  },
  {
   "cell_type": "code",
   "execution_count": null,
   "metadata": {},
   "outputs": [],
   "source": []
  },
  {
   "cell_type": "code",
   "execution_count": null,
   "metadata": {},
   "outputs": [],
   "source": []
  },
  {
   "cell_type": "code",
   "execution_count": null,
   "metadata": {},
   "outputs": [],
   "source": []
  },
  {
   "cell_type": "code",
   "execution_count": null,
   "metadata": {},
   "outputs": [],
   "source": []
  },
  {
   "cell_type": "code",
   "execution_count": null,
   "metadata": {},
   "outputs": [],
   "source": [
    "pred_chart=pd.concat([pred_DF_2012['Yield'],pred_DF['Yield']],axis=1,keys=['2012','Base'])\n",
    "base_chart=pd.concat([pred_DF_2012['Yield'],pred_DF['Yield']],axis=1,keys=['2012','Base'])\n",
    "d_pred_chart=pd.concat([d_pred_DF_2012['Yield'],d_pred_DF['Yield']],axis=1,keys=['2012','Base'])\n",
    "\n",
    "\n",
    "fig=px.line(pred_DF['Yield']-pred_DF_2012['Yield']); fig.show()\n",
    "fig=px.line(pred_chart); fig.show()\n",
    "fig=px.line(d_pred_chart); fig.show()\n",
    "# px.line(df_study)\n",
    "\n",
    "# px.line(df_study)\n"
   ]
  },
  {
   "cell_type": "code",
   "execution_count": 256,
   "metadata": {},
   "outputs": [],
   "source": [
    "scope = cy.Define_Scope()\n",
    "raw_data = cy.Get_Data_All_Parallel(scope)"
   ]
  },
  {
   "cell_type": "code",
   "execution_count": 252,
   "metadata": {},
   "outputs": [],
   "source": [
    "milestones =cy.Milestone_from_Progress(raw_data)\n",
    "intervals = cy.Intervals_from_Milestones(milestones)\n",
    "train_df = cy.Build_DF(raw_data, milestones, intervals, train_DF_instr)\n",
    "model = um.Fit_Model(train_df,'Yield',GV.CUR_YEAR)"
   ]
  },
  {
   "cell_type": "code",
   "execution_count": 265,
   "metadata": {},
   "outputs": [
    {
     "name": "stdout",
     "output_type": "stream",
     "text": [
      "IA_Sdd30_hist.csv\n",
      "IA_TempMax_hist.csv\n",
      "IA_Prec_hist.csv\n",
      "IA_Sdd30_gfs.csv\n",
      "IA_TempMax_gfs.csv\n",
      "IA_Prec_gfs.csv\n",
      "IA_Sdd30_ecmwf.csv\n",
      "IA_TempMax_ecmwf.csv\n",
      "IA_Prec_ecmwf.csv\n"
     ]
    }
   ],
   "source": [
    "test=uw.build_w_df_all(scope['geo_df'], scope['w_vars'], scope['geo_input_file'], scope['geo_output_column'])"
   ]
  },
  {
   "cell_type": "code",
   "execution_count": 258,
   "metadata": {},
   "outputs": [],
   "source": [
    "test['hist_gfs'].to_csv('check.csv')"
   ]
  },
  {
   "cell_type": "code",
   "execution_count": 280,
   "metadata": {},
   "outputs": [],
   "source": [
    "\n",
    "# folder = 'Weather/'\n",
    "folder = 'WeatherMess/'\n",
    "file='IA_TempMax_hist.csv'\n",
    "col='value'\n",
    "test=pd.read_csv(folder+file, parse_dates=['time'], index_col='time', names=['time', col], header=0, dayfirst=True)"
   ]
  },
  {
   "cell_type": "code",
   "execution_count": 282,
   "metadata": {},
   "outputs": [
    {
     "data": {
      "text/html": [
       "<div>\n",
       "<style scoped>\n",
       "    .dataframe tbody tr th:only-of-type {\n",
       "        vertical-align: middle;\n",
       "    }\n",
       "\n",
       "    .dataframe tbody tr th {\n",
       "        vertical-align: top;\n",
       "    }\n",
       "\n",
       "    .dataframe thead th {\n",
       "        text-align: right;\n",
       "    }\n",
       "</style>\n",
       "<table border=\"1\" class=\"dataframe\">\n",
       "  <thead>\n",
       "    <tr style=\"text-align: right;\">\n",
       "      <th></th>\n",
       "      <th>value</th>\n",
       "    </tr>\n",
       "    <tr>\n",
       "      <th>time</th>\n",
       "      <th></th>\n",
       "    </tr>\n",
       "  </thead>\n",
       "  <tbody>\n",
       "    <tr>\n",
       "      <th>2022-04-01</th>\n",
       "      <td>8.6</td>\n",
       "    </tr>\n",
       "    <tr>\n",
       "      <th>2022-04-02</th>\n",
       "      <td>10.0</td>\n",
       "    </tr>\n",
       "    <tr>\n",
       "      <th>2022-04-03</th>\n",
       "      <td>10.6</td>\n",
       "    </tr>\n",
       "    <tr>\n",
       "      <th>2022-04-04</th>\n",
       "      <td>10.0</td>\n",
       "    </tr>\n",
       "    <tr>\n",
       "      <th>2022-04-05</th>\n",
       "      <td>10.5</td>\n",
       "    </tr>\n",
       "    <tr>\n",
       "      <th>2022-04-06</th>\n",
       "      <td>8.9</td>\n",
       "    </tr>\n",
       "    <tr>\n",
       "      <th>2022-04-07</th>\n",
       "      <td>5.0</td>\n",
       "    </tr>\n",
       "    <tr>\n",
       "      <th>2022-04-08</th>\n",
       "      <td>5.3</td>\n",
       "    </tr>\n",
       "    <tr>\n",
       "      <th>2022-04-09</th>\n",
       "      <td>10.9</td>\n",
       "    </tr>\n",
       "    <tr>\n",
       "      <th>2022-04-10</th>\n",
       "      <td>17.1</td>\n",
       "    </tr>\n",
       "    <tr>\n",
       "      <th>2022-04-11</th>\n",
       "      <td>16.1</td>\n",
       "    </tr>\n",
       "    <tr>\n",
       "      <th>2022-04-12</th>\n",
       "      <td>18.6</td>\n",
       "    </tr>\n",
       "    <tr>\n",
       "      <th>2022-04-13</th>\n",
       "      <td>20.9</td>\n",
       "    </tr>\n",
       "    <tr>\n",
       "      <th>2022-04-14</th>\n",
       "      <td>7.1</td>\n",
       "    </tr>\n",
       "    <tr>\n",
       "      <th>2022-04-15</th>\n",
       "      <td>8.0</td>\n",
       "    </tr>\n",
       "  </tbody>\n",
       "</table>\n",
       "</div>"
      ],
      "text/plain": [
       "            value\n",
       "time             \n",
       "2022-04-01    8.6\n",
       "2022-04-02   10.0\n",
       "2022-04-03   10.6\n",
       "2022-04-04   10.0\n",
       "2022-04-05   10.5\n",
       "2022-04-06    8.9\n",
       "2022-04-07    5.0\n",
       "2022-04-08    5.3\n",
       "2022-04-09   10.9\n",
       "2022-04-10   17.1\n",
       "2022-04-11   16.1\n",
       "2022-04-12   18.6\n",
       "2022-04-13   20.9\n",
       "2022-04-14    7.1\n",
       "2022-04-15    8.0"
      ]
     },
     "execution_count": 282,
     "metadata": {},
     "output_type": "execute_result"
    }
   ],
   "source": [
    "test.loc['2022-04-01':'2022-04-15']\n",
    "# test.loc['1985-01-01':'1985-01-10']\n",
    "# test.loc['2022-01-04':'2022-01-04']"
   ]
  },
  {
   "cell_type": "code",
   "execution_count": null,
   "metadata": {},
   "outputs": [],
   "source": [
    "pred_DF_instr=um.Build_DF_Instructions('weighted',GV.WD_H_GFS, prec_units='in', temp_units='F',ext_mode = GV.EXT_DICT)\n",
    "pred_df = cy.Build_Pred_DF(raw_data,milestones,pred_DF_instr,GV.CUR_YEAR, dt(2022,4,1))\n",
    "yields = model.predict(pred_df[model.params.index]).values\n",
    "print(yields)\n",
    "print('All Done')"
   ]
  },
  {
   "cell_type": "code",
   "execution_count": null,
   "metadata": {},
   "outputs": [],
   "source": [
    "test=uw.build_w_df_all(scope['geo_df'], scope['w_vars'], scope['geo_input_file'], scope['geo_output_column'])"
   ]
  },
  {
   "cell_type": "code",
   "execution_count": null,
   "metadata": {},
   "outputs": [],
   "source": [
    "scope = Define_Scope()\n",
    "\n",
    "\n",
    "\n",
    "\n",
    "train_DF_instr = um.Build_DF_Instructions('weighted',GV.WD_HIST, prec_units='in', temp_units='F',ext_mode = GV.EXT_DICT)\n",
    "train_df = Build_DF(raw_data, milestones, intervals, train_DF_instr)\n",
    "model = um.Fit_Model(train_df,'Yield',GV.CUR_YEAR)\n",
    "print(model.summary())"
   ]
  }
 ],
 "metadata": {
  "kernelspec": {
   "display_name": "Python 3.9.7 64-bit",
   "language": "python",
   "name": "python3"
  },
  "language_info": {
   "codemirror_mode": {
    "name": "ipython",
    "version": 3
   },
   "file_extension": ".py",
   "mimetype": "text/x-python",
   "name": "python",
   "nbconvert_exporter": "python",
   "pygments_lexer": "ipython3",
   "version": "3.9.7"
  },
  "orig_nbformat": 4,
  "vscode": {
   "interpreter": {
    "hash": "a9960baf88259386db57c734c8604c8e4ab789688672644b3cf73fda24b112c6"
   }
  }
 },
 "nbformat": 4,
 "nbformat_minor": 2
}
