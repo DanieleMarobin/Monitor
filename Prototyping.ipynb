{
 "cells": [
  {
   "cell_type": "code",
   "execution_count": null,
   "metadata": {},
   "outputs": [],
   "source": [
    "%load_ext autoreload\n",
    "%autoreload 2"
   ]
  },
  {
   "cell_type": "code",
   "execution_count": null,
   "metadata": {},
   "outputs": [],
   "source": [
    "import sys;\n",
    "sys.path.append(r'C:\\Monitor\\\\')\n",
    "sys.path.append(r'\\\\ac-geneva-24\\E\\grains trading\\Streamlit\\Monitor\\\\')\n",
    "\n",
    "from datetime import datetime as dt\n",
    "from copy import deepcopy\n",
    "\n",
    "import numpy as np\n",
    "import pandas as pd; pd.options.mode.chained_assignment = None\n",
    "import Utilities.Modeling as um\n",
    "import Utilities.Weather as uw\n",
    "import Utilities.GLOBAL as GV\n",
    "import Utilities.Modeling as um\n",
    "import Models.Corn_USA_Yield as cy\n",
    "import Utilities.SnD as us\n",
    "\n",
    "import plotly.express as px"
   ]
  },
  {
   "cell_type": "code",
   "execution_count": 58,
   "metadata": {},
   "outputs": [
    {
     "data": {
      "text/plain": [
       "dict_keys(['years', 'locations', 'yield', 'weights', 'planting_progress', 'silking_progress', 'w_df_all', 'w_w_df_all'])"
      ]
     },
     "execution_count": 58,
     "metadata": {},
     "output_type": "execute_result"
    }
   ],
   "source": [
    "prec_units='in'\n",
    "temp_units='F'\n",
    "\n",
    "scope = cy.Define_Scope()\n",
    "raw_data = cy.Get_Data_All_Parallel(scope)\n",
    "raw_data.keys()"
   ]
  },
  {
   "cell_type": "code",
   "execution_count": 56,
   "metadata": {},
   "outputs": [],
   "source": [
    "uw.add_Sdd_all(raw_data['w_w_df_all'])"
   ]
  },
  {
   "cell_type": "code",
   "execution_count": 59,
   "metadata": {},
   "outputs": [
    {
     "data": {
      "text/plain": [
       "{'hist':             USA_Sdd30  USA_TempMax   USA_Prec\n",
       " time                                         \n",
       " 1985-01-01   0.000000    -1.404073  10.981387\n",
       " 1985-01-02   0.000000    -6.380979   0.331106\n",
       " 1985-01-03   0.000000    -4.490309   0.080454\n",
       " 1985-01-04   0.000000    -0.113186   0.880378\n",
       " 1985-01-05   0.000000     1.322974   0.171099\n",
       " ...               ...          ...        ...\n",
       " 2022-06-23   1.463334    31.190370   0.170226\n",
       " 2022-06-24   1.527673    31.182383   0.926296\n",
       " 2022-06-25   0.521949    29.825979   8.219854\n",
       " 2022-06-26   0.055834    26.079721   5.365031\n",
       " 2022-06-27   0.074193    26.670778   1.098615\n",
       " \n",
       " [13692 rows x 3 columns],\n",
       " 'gfs':             USA_Sdd30  USA_TempMax  USA_Prec\n",
       " time                                        \n",
       " 2022-06-28   0.000000          NaN  0.464604\n",
       " 2022-06-29   1.566268    30.342256  0.368094\n",
       " 2022-06-30   0.657700    29.963727  0.743975\n",
       " 2022-07-01   0.183934    26.651350  5.157981\n",
       " 2022-07-02   0.074223    26.345325  2.484731\n",
       " 2022-07-03   1.093175    28.670212  3.083129\n",
       " 2022-07-04   3.115814    32.774530  4.039771\n",
       " 2022-07-05   0.794305    29.262534  4.772586\n",
       " 2022-07-06   0.614274    27.771704  3.749531\n",
       " 2022-07-07   0.874379    29.287059  3.389525\n",
       " 2022-07-08   2.361901    32.260696  2.911521\n",
       " 2022-07-09   4.191863    34.191863  1.359189\n",
       " 2022-07-10   5.184432    35.184432  0.550936\n",
       " 2022-07-11   5.037276    35.037276  2.667990\n",
       " 2022-07-12   5.256029    35.256029  2.631369\n",
       " 2022-07-13   7.199477    37.199477  1.154699,\n",
       " 'ecmwf':             USA_Sdd30  USA_TempMax   USA_Prec\n",
       " time                                         \n",
       " 2022-06-30   1.981105    31.406534   0.464945\n",
       " 2022-07-01   1.359237    29.796122   2.064939\n",
       " 2022-07-02   1.536770    28.261305   5.451921\n",
       " 2022-07-03   2.144089    31.722211   2.963820\n",
       " 2022-07-04   3.720514    33.004653   7.721166\n",
       " 2022-07-05   1.687281    30.950694   4.464047\n",
       " 2022-07-06   1.798889    30.142528  10.444167\n",
       " 2022-07-07   2.519663    31.820746   5.381026\n",
       " 2022-07-08   2.761191    32.223861   4.862996\n",
       " 2022-07-09   2.891824    32.517987   1.298966\n",
       " 2022-07-10   3.236466    32.804477   1.483622\n",
       " 2022-07-11   2.921013    32.480347   0.901283\n",
       " 2022-07-12   1.653651    30.288973   3.257575\n",
       " 2022-07-13   0.897293    28.374757   2.706062\n",
       " 2022-07-14   1.195987    27.337807   1.018750\n",
       " 2022-07-15   1.767357    28.203871   0.070198,\n",
       " 'hist_gfs':             USA_Sdd30  USA_TempMax   USA_Prec\n",
       " time                                         \n",
       " 1985-01-01   0.000000    -1.404073  10.981387\n",
       " 1985-01-02   0.000000    -6.380979   0.331106\n",
       " 1985-01-03   0.000000    -4.490309   0.080454\n",
       " 1985-01-04   0.000000    -0.113186   0.880378\n",
       " 1985-01-05   0.000000     1.322974   0.171099\n",
       " ...               ...          ...        ...\n",
       " 2022-07-09   4.191863    34.191863   1.359189\n",
       " 2022-07-10   5.184432    35.184432   0.550936\n",
       " 2022-07-11   5.037276    35.037276   2.667990\n",
       " 2022-07-12   5.256029    35.256029   2.631369\n",
       " 2022-07-13   7.199477    37.199477   1.154699\n",
       " \n",
       " [13708 rows x 3 columns],\n",
       " 'hist_ecmwf':             USA_Sdd30  USA_TempMax   USA_Prec\n",
       " time                                         \n",
       " 1985-01-01   0.000000    -1.404073  10.981387\n",
       " 1985-01-02   0.000000    -6.380979   0.331106\n",
       " 1985-01-03   0.000000    -4.490309   0.080454\n",
       " 1985-01-04   0.000000    -0.113186   0.880378\n",
       " 1985-01-05   0.000000     1.322974   0.171099\n",
       " ...               ...          ...        ...\n",
       " 2022-07-11   2.921013    32.480347   0.901283\n",
       " 2022-07-12   1.653651    30.288973   3.257575\n",
       " 2022-07-13   0.897293    28.374757   2.706062\n",
       " 2022-07-14   1.195987    27.337807   1.018750\n",
       " 2022-07-15   1.767357    28.203871   0.070198\n",
       " \n",
       " [13708 rows x 3 columns]}"
      ]
     },
     "execution_count": 59,
     "metadata": {},
     "output_type": "execute_result"
    }
   ],
   "source": [
    "raw_data['w_w_df_all']"
   ]
  },
  {
   "cell_type": "code",
   "execution_count": 57,
   "metadata": {},
   "outputs": [
    {
     "data": {
      "text/plain": [
       "{'hist':             USA_Sdd30  USA_TempMax   USA_Prec\n",
       " time                                         \n",
       " 1985-01-01   0.000000    -1.404073  10.981387\n",
       " 1985-01-02   0.000000    -6.380979   0.331106\n",
       " 1985-01-03   0.000000    -4.490309   0.080454\n",
       " 1985-01-04   0.000000    -0.113186   0.880378\n",
       " 1985-01-05   0.000000     1.322974   0.171099\n",
       " ...               ...          ...        ...\n",
       " 2022-06-23   1.190370    31.190370   0.170226\n",
       " 2022-06-24   1.182383    31.182383   0.926296\n",
       " 2022-06-25   0.000000    29.825979   8.219854\n",
       " 2022-06-26   0.000000    26.079721   5.365031\n",
       " 2022-06-27   0.000000    26.670778   1.098615\n",
       " \n",
       " [13692 rows x 3 columns],\n",
       " 'gfs':             USA_Sdd30  USA_TempMax  USA_Prec\n",
       " time                                        \n",
       " 2022-06-28   0.000000          NaN  0.464604\n",
       " 2022-06-29   0.342256    30.342256  0.368094\n",
       " 2022-06-30   0.000000    29.963727  0.743975\n",
       " 2022-07-01   0.000000    26.651350  5.157981\n",
       " 2022-07-02   0.000000    26.345325  2.484731\n",
       " 2022-07-03   0.000000    28.670212  3.083129\n",
       " 2022-07-04   2.774530    32.774530  4.039771\n",
       " 2022-07-05   0.000000    29.262534  4.772586\n",
       " 2022-07-06   0.000000    27.771704  3.749531\n",
       " 2022-07-07   0.000000    29.287059  3.389525\n",
       " 2022-07-08   2.260696    32.260696  2.911521\n",
       " 2022-07-09   4.191863    34.191863  1.359189\n",
       " 2022-07-10   5.184432    35.184432  0.550936\n",
       " 2022-07-11   5.037276    35.037276  2.667990\n",
       " 2022-07-12   5.256029    35.256029  2.631369\n",
       " 2022-07-13   7.199477    37.199477  1.154699,\n",
       " 'ecmwf':             USA_Sdd30  USA_TempMax   USA_Prec\n",
       " time                                         \n",
       " 2022-06-30   1.406534    31.406534   0.464945\n",
       " 2022-07-01   0.000000    29.796122   2.064939\n",
       " 2022-07-02   0.000000    28.261305   5.451921\n",
       " 2022-07-03   1.722211    31.722211   2.963820\n",
       " 2022-07-04   3.004653    33.004653   7.721166\n",
       " 2022-07-05   0.950694    30.950694   4.464047\n",
       " 2022-07-06   0.142528    30.142528  10.444167\n",
       " 2022-07-07   1.820746    31.820746   5.381026\n",
       " 2022-07-08   2.223861    32.223861   4.862996\n",
       " 2022-07-09   2.517987    32.517987   1.298966\n",
       " 2022-07-10   2.804477    32.804477   1.483622\n",
       " 2022-07-11   2.480347    32.480347   0.901283\n",
       " 2022-07-12   0.288973    30.288973   3.257575\n",
       " 2022-07-13   0.000000    28.374757   2.706062\n",
       " 2022-07-14   0.000000    27.337807   1.018750\n",
       " 2022-07-15   0.000000    28.203871   0.070198,\n",
       " 'hist_gfs':             USA_Sdd30  USA_TempMax   USA_Prec\n",
       " time                                         \n",
       " 1985-01-01   0.000000    -1.404073  10.981387\n",
       " 1985-01-02   0.000000    -6.380979   0.331106\n",
       " 1985-01-03   0.000000    -4.490309   0.080454\n",
       " 1985-01-04   0.000000    -0.113186   0.880378\n",
       " 1985-01-05   0.000000     1.322974   0.171099\n",
       " ...               ...          ...        ...\n",
       " 2022-07-09   4.191863    34.191863   1.359189\n",
       " 2022-07-10   5.184432    35.184432   0.550936\n",
       " 2022-07-11   5.037276    35.037276   2.667990\n",
       " 2022-07-12   5.256029    35.256029   2.631369\n",
       " 2022-07-13   7.199477    37.199477   1.154699\n",
       " \n",
       " [13708 rows x 3 columns],\n",
       " 'hist_ecmwf':             USA_Sdd30  USA_TempMax   USA_Prec\n",
       " time                                         \n",
       " 1985-01-01   0.000000    -1.404073  10.981387\n",
       " 1985-01-02   0.000000    -6.380979   0.331106\n",
       " 1985-01-03   0.000000    -4.490309   0.080454\n",
       " 1985-01-04   0.000000    -0.113186   0.880378\n",
       " 1985-01-05   0.000000     1.322974   0.171099\n",
       " ...               ...          ...        ...\n",
       " 2022-07-11   2.480347    32.480347   0.901283\n",
       " 2022-07-12   0.288973    30.288973   3.257575\n",
       " 2022-07-13   0.000000    28.374757   2.706062\n",
       " 2022-07-14   0.000000    27.337807   1.018750\n",
       " 2022-07-15   0.000000    28.203871   0.070198\n",
       " \n",
       " [13708 rows x 3 columns]}"
      ]
     },
     "execution_count": 57,
     "metadata": {},
     "output_type": "execute_result"
    }
   ],
   "source": [
    "raw_data['w_w_df_all']"
   ]
  },
  {
   "cell_type": "code",
   "execution_count": null,
   "metadata": {},
   "outputs": [],
   "source": []
  },
  {
   "cell_type": "code",
   "execution_count": null,
   "metadata": {},
   "outputs": [],
   "source": []
  },
  {
   "cell_type": "code",
   "execution_count": null,
   "metadata": {},
   "outputs": [],
   "source": []
  },
  {
   "cell_type": "code",
   "execution_count": null,
   "metadata": {},
   "outputs": [],
   "source": []
  },
  {
   "cell_type": "code",
   "execution_count": null,
   "metadata": {},
   "outputs": [],
   "source": [
    "prec_units='in'\n",
    "temp_units='F'\n",
    "\n",
    "scope = cy.Define_Scope()\n",
    "raw_data = cy.Get_Data_All_Parallel(scope)\n",
    "raw_data.keys()\n",
    "\n",
    "w_df_all=uw.build_w_df_all(scope['geo_df'], scope['w_vars'], scope['geo_input_file'], scope['geo_output_column'])\n",
    "weights=us.get_USA_prod_weights('CORN', 'STATE', scope['years'], scope['geo_df'][GV.WS_STATE_ALPHA])\n",
    "\n",
    "weighted = uw.weighted_w_df_all(w_df_all, weights, output_column='USA')\n"
   ]
  },
  {
   "cell_type": "code",
   "execution_count": null,
   "metadata": {},
   "outputs": [],
   "source": [
    "weighted['hist_gfs']['USA_Prec']['2022-06-27':'2022-07-15']/25.4\n",
    "trend_DF_instr=um.Build_DF_Instructions('weighted', prec_units=prec_units, temp_units=temp_units)\n",
    "\n",
    "w_df=weighted['hist_gfs']\n",
    "day=dt(2022,7,13)\n",
    "ext_dict=trend_DF_instr['ext_mode']\n",
    "ref_year_start=dt(2022,1,1)\n",
    "ext_df = uw.extend_with_seasonal_df(w_df.loc[:day], var_mode_dict=ext_dict, ref_year_start=ref_year_start)"
   ]
  },
  {
   "cell_type": "code",
   "execution_count": null,
   "metadata": {},
   "outputs": [],
   "source": [
    "seas = uw.seasonalize(ext_df,col='USA_Prec')\n",
    "seas.to_csv('check.csv')\n",
    "seas"
   ]
  },
  {
   "cell_type": "code",
   "execution_count": null,
   "metadata": {},
   "outputs": [],
   "source": [
    "ext_df"
   ]
  },
  {
   "cell_type": "code",
   "execution_count": null,
   "metadata": {},
   "outputs": [],
   "source": [
    "weighted['hist_gfs']['USA_Prec']['2022-07-13']"
   ]
  },
  {
   "cell_type": "code",
   "execution_count": null,
   "metadata": {},
   "outputs": [],
   "source": [
    "(ext_df['USA_Prec']['2022-06-21':'2022-09-08']/25.4).to_csv('check.csv')"
   ]
  },
  {
   "cell_type": "code",
   "execution_count": null,
   "metadata": {},
   "outputs": [],
   "source": [
    "cols=[c for c in w_df_all['hist'].columns if 'Prec' in c]\n",
    "w_df_all['hist'][cols].tail(10)"
   ]
  },
  {
   "cell_type": "code",
   "execution_count": null,
   "metadata": {},
   "outputs": [],
   "source": [
    "milestones =cy.Milestone_from_Progress(raw_data)\n",
    "intervals = cy.Intervals_from_Milestones(milestones)\n",
    "\n",
    "train_DF_instr = um.Build_DF_Instructions('weighted',GV.WD_HIST, prec_units=prec_units, temp_units=temp_units, ext_mode = GV.EXT_DICT)\n",
    "train_df = cy.Build_DF(raw_data, milestones, intervals, train_DF_instr)\n",
    "\n",
    "model = um.Fit_Model(train_df,'Yield',GV.CUR_YEAR)\n",
    "# print(model.summary())"
   ]
  },
  {
   "cell_type": "code",
   "execution_count": null,
   "metadata": {},
   "outputs": [],
   "source": [
    "w_df_all['ecmwf'].index[2].month"
   ]
  },
  {
   "cell_type": "code",
   "execution_count": null,
   "metadata": {},
   "outputs": [],
   "source": [
    "model.params"
   ]
  },
  {
   "cell_type": "code",
   "execution_count": null,
   "metadata": {},
   "outputs": [],
   "source": [
    "step=2.0\n",
    "\n",
    "col=['Planting Prec']\n",
    "min_x = train_df[col].min()\n",
    "max_x = train_df[col].max()\n",
    "\n",
    "pp_x = np.arange(0,1.0*max_x.values,step)\n",
    "pp_y = model.params['Planting Prec']*pp_x+ model.params['Planting Prec Squared']*pp_x*pp_x\n",
    "fig=px.line(x=pp_x, y=pp_y)\n",
    "# fig.show('browser')\n",
    "print(pp_x.max())\n",
    "print(pp_x.shape)\n",
    "\n",
    "\n",
    "col=['Jul Aug Prec']\n",
    "min_x = train_df[col].min()\n",
    "max_x = train_df[col].max()\n",
    "\n",
    "jp_x = np.arange(0,1.0*max_x.values,step)\n",
    "jp_y = model.params['Jul Aug Prec']*jp_x+ model.params['Jul Aug Prec Squared']*jp_x*jp_x\n",
    "fig=px.line(x=jp_x, y=jp_y)\n",
    "# fig.show('browser')\n",
    "print(jp_x.max())\n",
    "print(jp_x.shape)\n",
    "\n",
    "\n",
    "interaction = np.matrix(pp_x).T * np.matrix(jp_x) * model.params['Prec Interaction']\n",
    "prec = np.matrix(pp_y).T + np.matrix(jp_y)\n",
    "all_prec = prec+interaction\n",
    "\n",
    "\n",
    "fig=px.imshow(all_prec,x=jp_x,y=pp_x)\n",
    "fig.update_yaxes(autorange=True) \n",
    "# fig=px.imshow(all_prec)\n",
    "fig.show('browser')\n",
    "print(np.max(all_prec))"
   ]
  },
  {
   "cell_type": "code",
   "execution_count": null,
   "metadata": {},
   "outputs": [],
   "source": []
  },
  {
   "cell_type": "code",
   "execution_count": null,
   "metadata": {},
   "outputs": [],
   "source": [
    "just_weather=uw.build_w_df_all(scope['geo_df'], scope['w_vars'], scope['geo_input_file'], scope['geo_output_column'])\n",
    "# weighted= uw.weighted_w_df_all(just_weather, raw_data['weights'], output_column='USA')\n",
    "just_weather.keys()"
   ]
  },
  {
   "cell_type": "code",
   "execution_count": null,
   "metadata": {},
   "outputs": [],
   "source": [
    "just_weather['gfs']"
   ]
  },
  {
   "cell_type": "code",
   "execution_count": null,
   "metadata": {},
   "outputs": [],
   "source": []
  },
  {
   "cell_type": "code",
   "execution_count": null,
   "metadata": {},
   "outputs": [],
   "source": []
  },
  {
   "cell_type": "code",
   "execution_count": null,
   "metadata": {},
   "outputs": [],
   "source": []
  },
  {
   "cell_type": "code",
   "execution_count": null,
   "metadata": {},
   "outputs": [],
   "source": []
  },
  {
   "cell_type": "code",
   "execution_count": null,
   "metadata": {},
   "outputs": [],
   "source": []
  },
  {
   "cell_type": "code",
   "execution_count": null,
   "metadata": {},
   "outputs": [],
   "source": []
  }
 ],
 "metadata": {
  "kernelspec": {
   "display_name": "Python 3.9.7 64-bit",
   "language": "python",
   "name": "python3"
  },
  "language_info": {
   "codemirror_mode": {
    "name": "ipython",
    "version": 3
   },
   "file_extension": ".py",
   "mimetype": "text/x-python",
   "name": "python",
   "nbconvert_exporter": "python",
   "pygments_lexer": "ipython3",
   "version": "3.9.7"
  },
  "orig_nbformat": 4,
  "vscode": {
   "interpreter": {
    "hash": "a9960baf88259386db57c734c8604c8e4ab789688672644b3cf73fda24b112c6"
   }
  }
 },
 "nbformat": 4,
 "nbformat_minor": 2
}
