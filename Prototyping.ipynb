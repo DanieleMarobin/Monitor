{
 "cells": [
  {
   "cell_type": "code",
   "execution_count": 1,
   "metadata": {},
   "outputs": [],
   "source": [
    "%load_ext autoreload\n",
    "%autoreload 2"
   ]
  },
  {
   "cell_type": "code",
   "execution_count": 2,
   "metadata": {},
   "outputs": [
    {
     "name": "stderr",
     "output_type": "stream",
     "text": [
      "<frozen importlib._bootstrap>:228: RuntimeWarning: scipy._lib.messagestream.MessageStream size changed, may indicate binary incompatibility. Expected 56 from C header, got 64 from PyObject\n"
     ]
    }
   ],
   "source": [
    "import pandas as pd\n",
    "import numpy as np\n",
    "\n",
    "import Models.Corn_USA_Yield as cy\n",
    "import Utilities.GLOBAL as GV\n",
    "import Utilities.Modeling as um\n",
    "from datetime import datetime as dt\n",
    "\n",
    "import warnings # supress warnings\n",
    "warnings.filterwarnings('ignore')\n",
    "pd.options.mode.chained_assignment = None"
   ]
  },
  {
   "cell_type": "code",
   "execution_count": 3,
   "metadata": {},
   "outputs": [],
   "source": [
    "scope = cy.Define_Scope()"
   ]
  },
  {
   "cell_type": "code",
   "execution_count": 11,
   "metadata": {},
   "outputs": [
    {
     "name": "stdout",
     "output_type": "stream",
     "text": [
      "3.12 s ± 180 ms per loop (mean ± std. dev. of 7 runs, 1 loop each)\n"
     ]
    }
   ],
   "source": [
    "%%timeit\n",
    "# raw_data = cy.Get_Data(scope)\n",
    "raw_data = cy.Get_Data_fast(scope)"
   ]
  },
  {
   "cell_type": "code",
   "execution_count": 5,
   "metadata": {},
   "outputs": [],
   "source": [
    "milestones = cy.Milestone_from_Progress(raw_data)\n",
    "intervals = cy.Intervals_from_Milestones(milestones)\n",
    "\n",
    "train_DF_instr = um.Build_DF_Instructions('weighted',GV.WD_HIST, prec_units='in', temp_units='F')"
   ]
  },
  {
   "cell_type": "code",
   "execution_count": 6,
   "metadata": {},
   "outputs": [],
   "source": [
    "train_df = cy.Build_Train_DF(raw_data, milestones, intervals, train_DF_instr)\n",
    "model = um.Fit_Model(train_df,'Yield',GV.CUR_YEAR)\n",
    "# print(model.summary())"
   ]
  },
  {
   "cell_type": "code",
   "execution_count": 7,
   "metadata": {},
   "outputs": [],
   "source": [
    "instructions=um.Build_DF_Instructions('weighted',GV.WD_H_GFS, prec_units='in', temp_units='F')"
   ]
  },
  {
   "cell_type": "code",
   "execution_count": 10,
   "metadata": {},
   "outputs": [
    {
     "name": "stdout",
     "output_type": "stream",
     "text": [
      "Days to calculate: 64\n",
      "Wall time: 1.84 s\n"
     ]
    },
    {
     "data": {
      "text/plain": [
       "array([180.73167811, 180.74602553, 180.60749826, 180.60719554,\n",
       "       180.62094966, 180.52838836, 180.53550842, 180.54267476,\n",
       "       180.58044888, 180.61405796, 180.68881358, 180.69047557,\n",
       "       180.69378043, 180.72288364, 175.89984533, 175.91227307,\n",
       "       175.9421786 , 175.94061745, 175.94394937, 175.93288782,\n",
       "       175.93585574, 175.91576668, 175.94356629, 175.95585582,\n",
       "       175.94045452, 175.91340173, 175.90105986, 175.9210688 ,\n",
       "       175.93852173, 175.93193525, 175.90702003, 175.90813881,\n",
       "       175.92047273, 175.94139529, 175.95237749, 175.95684856,\n",
       "       175.94557591, 175.9141649 , 175.8873087 , 175.88737491,\n",
       "       175.91562902, 175.93707575, 175.94543721, 175.95024043,\n",
       "       175.95433469, 175.95387861, 175.95670755, 175.95698539,\n",
       "       175.94784487, 175.92168952, 175.73885658, 175.43699721,\n",
       "       175.21533476, 174.95175896, 174.66032732, 174.50082306,\n",
       "       174.62405122, 174.49168151, 174.28867071, 174.00537785,\n",
       "       173.61052385, 173.49015907, 173.51653273, 173.31597395])"
      ]
     },
     "execution_count": 10,
     "metadata": {},
     "output_type": "execute_result"
    }
   ],
   "source": [
    "%%time\n",
    "pred_df = cy.Build_Pred_DF(raw_data,milestones,instructions,GV.CUR_YEAR, dt(2022,5,1))\n",
    "yields = model.predict(pred_df[model.params.index]).values\n",
    "yields"
   ]
  },
  {
   "cell_type": "code",
   "execution_count": 9,
   "metadata": {},
   "outputs": [
    {
     "data": {
      "text/html": [
       "<div>\n",
       "<style scoped>\n",
       "    .dataframe tbody tr th:only-of-type {\n",
       "        vertical-align: middle;\n",
       "    }\n",
       "\n",
       "    .dataframe tbody tr th {\n",
       "        vertical-align: top;\n",
       "    }\n",
       "\n",
       "    .dataframe thead th {\n",
       "        text-align: right;\n",
       "    }\n",
       "</style>\n",
       "<table border=\"1\" class=\"dataframe\">\n",
       "  <thead>\n",
       "    <tr style=\"text-align: right;\">\n",
       "      <th></th>\n",
       "      <th>const</th>\n",
       "      <th>Trend</th>\n",
       "      <th>Yield</th>\n",
       "      <th>Planted pct on May 15th</th>\n",
       "      <th>Planting Prec</th>\n",
       "      <th>Planting Prec Squared</th>\n",
       "      <th>Jul Aug Prec</th>\n",
       "      <th>Jul Aug Prec Squared</th>\n",
       "      <th>Prec Interaction</th>\n",
       "      <th>Pollination SDD</th>\n",
       "      <th>Regular SDD</th>\n",
       "    </tr>\n",
       "  </thead>\n",
       "  <tbody>\n",
       "    <tr>\n",
       "      <th>2022</th>\n",
       "      <td>1.0</td>\n",
       "      <td>2022</td>\n",
       "      <td>NaN</td>\n",
       "      <td>72.289575</td>\n",
       "      <td>9.147167</td>\n",
       "      <td>83.670672</td>\n",
       "      <td>9.889243</td>\n",
       "      <td>97.797123</td>\n",
       "      <td>90.458559</td>\n",
       "      <td>58.816266</td>\n",
       "      <td>64.895429</td>\n",
       "    </tr>\n",
       "    <tr>\n",
       "      <th>2022</th>\n",
       "      <td>1.0</td>\n",
       "      <td>2022</td>\n",
       "      <td>NaN</td>\n",
       "      <td>72.289575</td>\n",
       "      <td>9.095832</td>\n",
       "      <td>82.734158</td>\n",
       "      <td>9.889243</td>\n",
       "      <td>97.797123</td>\n",
       "      <td>89.950890</td>\n",
       "      <td>58.816266</td>\n",
       "      <td>64.895429</td>\n",
       "    </tr>\n",
       "    <tr>\n",
       "      <th>2022</th>\n",
       "      <td>1.0</td>\n",
       "      <td>2022</td>\n",
       "      <td>NaN</td>\n",
       "      <td>72.289575</td>\n",
       "      <td>9.443384</td>\n",
       "      <td>89.177494</td>\n",
       "      <td>9.889243</td>\n",
       "      <td>97.797123</td>\n",
       "      <td>93.387913</td>\n",
       "      <td>58.816266</td>\n",
       "      <td>64.895429</td>\n",
       "    </tr>\n",
       "    <tr>\n",
       "      <th>2022</th>\n",
       "      <td>1.0</td>\n",
       "      <td>2022</td>\n",
       "      <td>NaN</td>\n",
       "      <td>72.289575</td>\n",
       "      <td>9.443946</td>\n",
       "      <td>89.188111</td>\n",
       "      <td>9.889243</td>\n",
       "      <td>97.797123</td>\n",
       "      <td>93.393472</td>\n",
       "      <td>58.816266</td>\n",
       "      <td>64.895429</td>\n",
       "    </tr>\n",
       "    <tr>\n",
       "      <th>2022</th>\n",
       "      <td>1.0</td>\n",
       "      <td>2022</td>\n",
       "      <td>NaN</td>\n",
       "      <td>72.289575</td>\n",
       "      <td>9.417911</td>\n",
       "      <td>88.697050</td>\n",
       "      <td>9.889243</td>\n",
       "      <td>97.797123</td>\n",
       "      <td>93.136010</td>\n",
       "      <td>58.816266</td>\n",
       "      <td>64.895429</td>\n",
       "    </tr>\n",
       "    <tr>\n",
       "      <th>...</th>\n",
       "      <td>...</td>\n",
       "      <td>...</td>\n",
       "      <td>...</td>\n",
       "      <td>...</td>\n",
       "      <td>...</td>\n",
       "      <td>...</td>\n",
       "      <td>...</td>\n",
       "      <td>...</td>\n",
       "      <td>...</td>\n",
       "      <td>...</td>\n",
       "      <td>...</td>\n",
       "    </tr>\n",
       "    <tr>\n",
       "      <th>2022</th>\n",
       "      <td>1.0</td>\n",
       "      <td>2022</td>\n",
       "      <td>NaN</td>\n",
       "      <td>49.000000</td>\n",
       "      <td>8.331282</td>\n",
       "      <td>69.410254</td>\n",
       "      <td>9.222556</td>\n",
       "      <td>85.055545</td>\n",
       "      <td>76.835714</td>\n",
       "      <td>58.816266</td>\n",
       "      <td>75.125540</td>\n",
       "    </tr>\n",
       "    <tr>\n",
       "      <th>2022</th>\n",
       "      <td>1.0</td>\n",
       "      <td>2022</td>\n",
       "      <td>NaN</td>\n",
       "      <td>49.000000</td>\n",
       "      <td>8.331282</td>\n",
       "      <td>69.410254</td>\n",
       "      <td>9.103205</td>\n",
       "      <td>82.868335</td>\n",
       "      <td>75.841362</td>\n",
       "      <td>58.816266</td>\n",
       "      <td>76.910997</td>\n",
       "    </tr>\n",
       "    <tr>\n",
       "      <th>2022</th>\n",
       "      <td>1.0</td>\n",
       "      <td>2022</td>\n",
       "      <td>NaN</td>\n",
       "      <td>49.000000</td>\n",
       "      <td>8.331282</td>\n",
       "      <td>69.410254</td>\n",
       "      <td>9.076111</td>\n",
       "      <td>82.375785</td>\n",
       "      <td>75.615634</td>\n",
       "      <td>58.816266</td>\n",
       "      <td>77.720823</td>\n",
       "    </tr>\n",
       "    <tr>\n",
       "      <th>2022</th>\n",
       "      <td>1.0</td>\n",
       "      <td>2022</td>\n",
       "      <td>NaN</td>\n",
       "      <td>49.000000</td>\n",
       "      <td>8.331282</td>\n",
       "      <td>69.410254</td>\n",
       "      <td>9.051719</td>\n",
       "      <td>81.933608</td>\n",
       "      <td>75.412416</td>\n",
       "      <td>58.816266</td>\n",
       "      <td>76.496585</td>\n",
       "    </tr>\n",
       "    <tr>\n",
       "      <th>2022</th>\n",
       "      <td>1.0</td>\n",
       "      <td>2022</td>\n",
       "      <td>NaN</td>\n",
       "      <td>49.000000</td>\n",
       "      <td>8.331282</td>\n",
       "      <td>69.410254</td>\n",
       "      <td>8.933487</td>\n",
       "      <td>79.807185</td>\n",
       "      <td>74.427394</td>\n",
       "      <td>58.816266</td>\n",
       "      <td>75.131485</td>\n",
       "    </tr>\n",
       "  </tbody>\n",
       "</table>\n",
       "<p>64 rows × 11 columns</p>\n",
       "</div>"
      ],
      "text/plain": [
       "      const  Trend  Yield  Planted pct on May 15th  Planting Prec  \\\n",
       "2022    1.0   2022    NaN                72.289575       9.147167   \n",
       "2022    1.0   2022    NaN                72.289575       9.095832   \n",
       "2022    1.0   2022    NaN                72.289575       9.443384   \n",
       "2022    1.0   2022    NaN                72.289575       9.443946   \n",
       "2022    1.0   2022    NaN                72.289575       9.417911   \n",
       "...     ...    ...    ...                      ...            ...   \n",
       "2022    1.0   2022    NaN                49.000000       8.331282   \n",
       "2022    1.0   2022    NaN                49.000000       8.331282   \n",
       "2022    1.0   2022    NaN                49.000000       8.331282   \n",
       "2022    1.0   2022    NaN                49.000000       8.331282   \n",
       "2022    1.0   2022    NaN                49.000000       8.331282   \n",
       "\n",
       "      Planting Prec Squared  Jul Aug Prec  Jul Aug Prec Squared  \\\n",
       "2022              83.670672      9.889243             97.797123   \n",
       "2022              82.734158      9.889243             97.797123   \n",
       "2022              89.177494      9.889243             97.797123   \n",
       "2022              89.188111      9.889243             97.797123   \n",
       "2022              88.697050      9.889243             97.797123   \n",
       "...                     ...           ...                   ...   \n",
       "2022              69.410254      9.222556             85.055545   \n",
       "2022              69.410254      9.103205             82.868335   \n",
       "2022              69.410254      9.076111             82.375785   \n",
       "2022              69.410254      9.051719             81.933608   \n",
       "2022              69.410254      8.933487             79.807185   \n",
       "\n",
       "      Prec Interaction  Pollination SDD  Regular SDD  \n",
       "2022         90.458559        58.816266    64.895429  \n",
       "2022         89.950890        58.816266    64.895429  \n",
       "2022         93.387913        58.816266    64.895429  \n",
       "2022         93.393472        58.816266    64.895429  \n",
       "2022         93.136010        58.816266    64.895429  \n",
       "...                ...              ...          ...  \n",
       "2022         76.835714        58.816266    75.125540  \n",
       "2022         75.841362        58.816266    76.910997  \n",
       "2022         75.615634        58.816266    77.720823  \n",
       "2022         75.412416        58.816266    76.496585  \n",
       "2022         74.427394        58.816266    75.131485  \n",
       "\n",
       "[64 rows x 11 columns]"
      ]
     },
     "execution_count": 9,
     "metadata": {},
     "output_type": "execute_result"
    }
   ],
   "source": [
    "pred_df"
   ]
  },
  {
   "cell_type": "code",
   "execution_count": null,
   "metadata": {},
   "outputs": [],
   "source": [
    "milestones['15th_May_pct_planted'].tail()"
   ]
  },
  {
   "cell_type": "code",
   "execution_count": null,
   "metadata": {},
   "outputs": [],
   "source": [
    "milestones.keys()"
   ]
  },
  {
   "cell_type": "code",
   "execution_count": null,
   "metadata": {},
   "outputs": [],
   "source": [
    "test={}\n",
    "\n",
    "a={'a':1}\n",
    "b={'b':2}"
   ]
  },
  {
   "cell_type": "code",
   "execution_count": null,
   "metadata": {},
   "outputs": [],
   "source": [
    "test.update(a)\n",
    "test.update(b)\n",
    "test"
   ]
  },
  {
   "cell_type": "code",
   "execution_count": null,
   "metadata": {},
   "outputs": [],
   "source": []
  }
 ],
 "metadata": {
  "interpreter": {
   "hash": "81806929c4ea32b87193d389f5f734f17a32767e49f2b419faebda3ef5b9cfb7"
  },
  "kernelspec": {
   "display_name": "Python 3.9.7 ('base')",
   "language": "python",
   "name": "python3"
  },
  "language_info": {
   "codemirror_mode": {
    "name": "ipython",
    "version": 3
   },
   "file_extension": ".py",
   "mimetype": "text/x-python",
   "name": "python",
   "nbconvert_exporter": "python",
   "pygments_lexer": "ipython3",
   "version": "3.9.7"
  },
  "orig_nbformat": 4,
  "vscode": {
   "interpreter": {
    "hash": "a9960baf88259386db57c734c8604c8e4ab789688672644b3cf73fda24b112c6"
   }
  }
 },
 "nbformat": 4,
 "nbformat_minor": 2
}
