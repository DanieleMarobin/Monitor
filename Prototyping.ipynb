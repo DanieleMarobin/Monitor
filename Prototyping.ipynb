{
 "cells": [
  {
   "cell_type": "code",
   "execution_count": 7,
   "metadata": {},
   "outputs": [],
   "source": [
    "%load_ext autoreload\n",
    "%autoreload 2"
   ]
  },
  {
   "cell_type": "code",
   "execution_count": 8,
   "metadata": {},
   "outputs": [],
   "source": [
    "import sys;\n",
    "sys.path.append(r'C:\\Monitor\\\\')\n",
    "sys.path.append(r'\\\\ac-geneva-24\\E\\grains trading\\Streamlit\\Monitor\\\\')\n",
    "\n",
    "from datetime import datetime as dt\n",
    "\n",
    "import numpy as np\n",
    "import pandas as pd; pd.options.mode.chained_assignment = None\n",
    "\n",
    "import APIs.Bloomberg as ba\n",
    "import APIs.GDrive as gd\n",
    "import Weather.W_USA as wu\n",
    "\n",
    "import Utilities.Weather as uw\n",
    "import Utilities.GLOBAL as GV\n",
    "import plotly.express as px\n",
    "\n",
    "import Models.Corn_USA_Yield as cy"
   ]
  },
  {
   "cell_type": "code",
   "execution_count": null,
   "metadata": {},
   "outputs": [],
   "source": []
  },
  {
   "cell_type": "code",
   "execution_count": 16,
   "metadata": {},
   "outputs": [
    {
     "data": {
      "text/plain": [
       "dict_keys(['hist', 'gfs', 'ecmwf', 'gfsEn', 'ecmwfEn', 'hist_gfs', 'hist_ecmwf', 'hist_gfsEn', 'hist_ecmwfEn'])"
      ]
     },
     "execution_count": 16,
     "metadata": {},
     "output_type": "execute_result"
    }
   ],
   "source": [
    "scope = cy.Define_Scope()\n",
    "w_df_all=uw.build_w_df_all(scope['geo_df'], scope['w_vars'], scope['geo_input_file'], scope['geo_output_column'])\n",
    "w_df_all.keys()"
   ]
  },
  {
   "cell_type": "code",
   "execution_count": null,
   "metadata": {},
   "outputs": [],
   "source": []
  },
  {
   "cell_type": "code",
   "execution_count": null,
   "metadata": {},
   "outputs": [],
   "source": []
  },
  {
   "cell_type": "code",
   "execution_count": null,
   "metadata": {},
   "outputs": [],
   "source": []
  },
  {
   "cell_type": "code",
   "execution_count": null,
   "metadata": {},
   "outputs": [],
   "source": [
    "import threading\n",
    "\n",
    "def printit():\n",
    "    threading.Timer(3.0, printit).start()\n",
    "    print(\"Hello, World!\")\n",
    "\n",
    "printit()"
   ]
  }
 ],
 "metadata": {
  "kernelspec": {
   "display_name": "Python 3.9.7 64-bit",
   "language": "python",
   "name": "python3"
  },
  "language_info": {
   "codemirror_mode": {
    "name": "ipython",
    "version": 3
   },
   "file_extension": ".py",
   "mimetype": "text/x-python",
   "name": "python",
   "nbconvert_exporter": "python",
   "pygments_lexer": "ipython3",
   "version": "3.9.7"
  },
  "orig_nbformat": 4,
  "vscode": {
   "interpreter": {
    "hash": "a9960baf88259386db57c734c8604c8e4ab789688672644b3cf73fda24b112c6"
   }
  }
 },
 "nbformat": 4,
 "nbformat_minor": 2
}
