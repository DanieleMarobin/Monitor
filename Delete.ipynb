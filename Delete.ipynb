{
 "cells": [
  {
   "cell_type": "code",
   "execution_count": 1,
   "metadata": {},
   "outputs": [],
   "source": [
    "%load_ext autoreload\n",
    "%autoreload 2"
   ]
  },
  {
   "cell_type": "code",
   "execution_count": 22,
   "metadata": {},
   "outputs": [
    {
     "name": "stdout",
     "output_type": "stream",
     "text": [
      "Files:\n",
      "SD_TempAvg_gfs.csv (15CjUUaTF472P1BQEUNJO_nhjtP_Ac9eg)\n",
      "SD_TempMin_gfs.csv (14WYBt8JUXgTGpsczpiCTHlumUnSWithy)\n",
      "SD_TempMax_gfs.csv (10AIb9jeltMrBDk0KOMPeyrpt5q5Zm5Up)\n",
      "SD_Prec_gfs.csv (1202k-tHWue4xACcgsigklEjkm3ndaQbT)\n",
      "OH_TempAvg_gfs.csv (13bYHWIhaIWeqMzq57qx4DOO3bp4VSoij)\n",
      "OH_TempMin_gfs.csv (116q7VJT5GrXy1s3Bil_PTEtOHZEvzBcl)\n",
      "OH_TempMax_gfs.csv (1-Dr-lK0jHDiQWlKXuwKPJ3I36CaxebL6)\n",
      "OH_Prec_gfs.csv (11gON3bke-UMJNi-0hBfbeQKtRhTcVadB)\n",
      "NE_TempAvg_gfs.csv (13dB922LFFDUQdUZGWpgnvPqjnU9SQIPk)\n",
      "NE_TempMin_gfs.csv (122O1IMp4fiFosbrK_kd2giBMq-9OucwJ)\n"
     ]
    }
   ],
   "source": [
    "from __future__ import print_function\n",
    "\n",
    "import os.path\n",
    "\n",
    "from google.auth.transport.requests import Request\n",
    "from google.oauth2.credentials import Credentials\n",
    "from google_auth_oauthlib.flow import InstalledAppFlow\n",
    "from googleapiclient.discovery import build\n",
    "from googleapiclient.errors import HttpError\n",
    "\n",
    "# If modifying these scopes, delete the file token.json.\n",
    "# SCOPES = ['https://www.googleapis.com/auth/drive.metadata.readonly']\n",
    "SCOPES = ['https://www.googleapis.com/auth/drive']\n",
    "\n",
    "creds = None\n",
    "# The file token.json stores the user's access and refresh tokens, and is\n",
    "# created automatically when the authorization flow completes for the first\n",
    "# time.\n",
    "if os.path.exists('token.json'):\n",
    "    creds = Credentials.from_authorized_user_file('token.json', SCOPES)\n",
    "# If there are no (valid) credentials available, let the user log in.\n",
    "if not creds or not creds.valid:\n",
    "    if creds and creds.expired and creds.refresh_token:\n",
    "        creds.refresh(Request())\n",
    "    else:\n",
    "        flow = InstalledAppFlow.from_client_secrets_file(\n",
    "            'credentials.json', SCOPES)\n",
    "        creds = flow.run_local_server(port=0)\n",
    "    # Save the credentials for the next run\n",
    "    with open('token.json', 'w') as token:\n",
    "        token.write(creds.to_json())\n",
    "\n",
    "try:\n",
    "    service = build('drive', 'v3', credentials=creds)\n",
    "\n",
    "    # Call the Drive v3 API\n",
    "    results = service.files().list(\n",
    "        pageSize=10, fields=\"nextPageToken, files(id, name)\").execute()\n",
    "    items = results.get('files', [])\n",
    "\n",
    "    if not items:\n",
    "        print('No files found.')\n",
    "        \n",
    "    print('Files:')\n",
    "    for item in items:\n",
    "        print(u'{0} ({1})'.format(item['name'], item['id']))\n",
    "except HttpError as error:\n",
    "    # TODO(developer) - Handle errors from drive API.\n",
    "    print(f'An error occurred: {error}')"
   ]
  },
  {
   "cell_type": "code",
   "execution_count": null,
   "metadata": {},
   "outputs": [],
   "source": [
    "import io"
   ]
  },
  {
   "cell_type": "code",
   "execution_count": 24,
   "metadata": {},
   "outputs": [],
   "source": [
    "import pandas as pd\n",
    "import Utilities.Weather as uw"
   ]
  },
  {
   "cell_type": "code",
   "execution_count": 26,
   "metadata": {},
   "outputs": [],
   "source": [
    "test=uw.get_w_sel_df()"
   ]
  },
  {
   "cell_type": "code",
   "execution_count": 36,
   "metadata": {},
   "outputs": [
    {
     "data": {
      "text/plain": [
       "['amuIds',\n",
       " 'idBlock',\n",
       " 'country_alpha',\n",
       " 'country_code',\n",
       " 'unit_name',\n",
       " 'unit_alpha',\n",
       " 'unit_code',\n",
       " 'state_name',\n",
       " 'state_alpha',\n",
       " 'state_code',\n",
       " 'Prec',\n",
       " 'TempAvg',\n",
       " 'TempMin',\n",
       " 'TempMax',\n",
       " 'TempSurf',\n",
       " 'Soil',\n",
       " 'Humi',\n",
       " 'VVI']"
      ]
     },
     "execution_count": 36,
     "metadata": {},
     "output_type": "execute_result"
    }
   ],
   "source": [
    "cols=list(test.columns)\n",
    "cols.remove('country_name')\n",
    "cols"
   ]
  },
  {
   "cell_type": "code",
   "execution_count": null,
   "metadata": {},
   "outputs": [],
   "source": [
    "file_id = '1-7mnO-RX9GiCWsLqF5ngo0a4Z5o4je3W'\n",
    "path = 'https://drive.google.com/uc?export=download&id='+file_id\n",
    "df = pd.read_csv(path)\n",
    "df"
   ]
  },
  {
   "cell_type": "code",
   "execution_count": null,
   "metadata": {},
   "outputs": [],
   "source": [
    "# https://stackoverflow.com/questions/52135293/google-drive-api-the-user-has-not-granted-the-app-error"
   ]
  },
  {
   "cell_type": "code",
   "execution_count": null,
   "metadata": {},
   "outputs": [],
   "source": [
    "# https://discuss.streamlit.io/t/google-drive-csv-file-link-to-pandas-dataframe/8057"
   ]
  },
  {
   "cell_type": "code",
   "execution_count": null,
   "metadata": {},
   "outputs": [],
   "source": [
    "# https://developers.google.com/drive/api/v2/reference/files/get"
   ]
  },
  {
   "cell_type": "code",
   "execution_count": null,
   "metadata": {},
   "outputs": [],
   "source": [
    "from apiclient import errors\n",
    "from apiclient import http\n",
    "# ...\n",
    "\n",
    "def print_file_metadata(service, file_id):\n",
    "  \"\"\"Print a file's metadata.\n",
    "\n",
    "  Args:\n",
    "    service: Drive API service instance.\n",
    "    file_id: ID of the file to print metadata for.\n",
    "  \"\"\"\n",
    "\n",
    "  return(service.files().get(fileId=file_id).execute())\n",
    "\n",
    "\n",
    "def print_file_content(service, file_id):\n",
    "  \"\"\"Print a file's content.\n",
    "\n",
    "  Args:\n",
    "    service: Drive API service instance.\n",
    "    file_id: ID of the file.\n",
    "\n",
    "  Returns:\n",
    "    File's content if successful, None otherwise.\n",
    "  \"\"\"\n",
    "  # print (service.files().get_media(fileId=file_id).execute())\n",
    "  return service.files().get_media(fileId=file_id).execute()\n",
    "\n",
    "\n",
    "def download_file(service, file_id, local_fd):\n",
    "  \"\"\"Download a Drive file's content to the local filesystem.\n",
    "\n",
    "  Args:\n",
    "    service: Drive API Service instance.\n",
    "    file_id: ID of the Drive file that will downloaded.\n",
    "    local_fd: io.Base or file object, the stream that the Drive file's\n",
    "        contents will be written to.\n",
    "  \"\"\"\n",
    "  request = service.files().get_media(fileId=file_id)\n",
    "  media_request = http.MediaIoBaseDownload(local_fd, request)\n",
    "\n",
    "  while True:\n",
    "    download_progress, done = media_request.next_chunk()\n",
    "\n",
    "    if download_progress:\n",
    "      print ('Download Progress: %d%%' % int(download_progress.progress() * 100))\n",
    "    if done:\n",
    "      print ('Download Complete')\n",
    "      return"
   ]
  },
  {
   "cell_type": "code",
   "execution_count": null,
   "metadata": {},
   "outputs": [],
   "source": [
    "file_id='1dWZkKoknSvOS2PKkxGmIyh5HtYYd1HZ3'\n",
    "\n",
    "test=pd.read_csv(print_file_content(service,file_id))\n",
    "\n",
    "# f = open(\"test.csv\", \"r\", encoding=\"utf-8\")\n",
    "\n",
    "# download_file(service,file_id, test)\n",
    "test"
   ]
  },
  {
   "cell_type": "code",
   "execution_count": null,
   "metadata": {},
   "outputs": [],
   "source": []
  },
  {
   "cell_type": "code",
   "execution_count": 3,
   "metadata": {},
   "outputs": [],
   "source": [
    "import Utilities.Weather as uw"
   ]
  },
  {
   "cell_type": "code",
   "execution_count": 17,
   "metadata": {},
   "outputs": [
    {
     "data": {
      "text/html": [
       "<div>\n",
       "<style scoped>\n",
       "    .dataframe tbody tr th:only-of-type {\n",
       "        vertical-align: middle;\n",
       "    }\n",
       "\n",
       "    .dataframe tbody tr th {\n",
       "        vertical-align: top;\n",
       "    }\n",
       "\n",
       "    .dataframe thead th {\n",
       "        text-align: right;\n",
       "    }\n",
       "</style>\n",
       "<table border=\"1\" class=\"dataframe\">\n",
       "  <thead>\n",
       "    <tr style=\"text-align: right;\">\n",
       "      <th></th>\n",
       "      <th>amuIds</th>\n",
       "      <th>idBlock</th>\n",
       "      <th>country_name</th>\n",
       "      <th>country_alpha</th>\n",
       "      <th>country_code</th>\n",
       "      <th>unit_name</th>\n",
       "      <th>unit_alpha</th>\n",
       "      <th>unit_code</th>\n",
       "      <th>state_name</th>\n",
       "      <th>state_alpha</th>\n",
       "      <th>state_code</th>\n",
       "      <th>Prec</th>\n",
       "      <th>TempAvg</th>\n",
       "      <th>TempMin</th>\n",
       "      <th>TempMax</th>\n",
       "      <th>TempSurf</th>\n",
       "      <th>Soil</th>\n",
       "      <th>Humi</th>\n",
       "      <th>VVI</th>\n",
       "    </tr>\n",
       "  </thead>\n",
       "  <tbody>\n",
       "    <tr>\n",
       "      <th>0</th>\n",
       "      <td>1018108</td>\n",
       "      <td>129</td>\n",
       "      <td>United States</td>\n",
       "      <td>USA</td>\n",
       "      <td>840</td>\n",
       "      <td>Iowa</td>\n",
       "      <td>IA</td>\n",
       "      <td>wip</td>\n",
       "      <td>Iowa</td>\n",
       "      <td>IA</td>\n",
       "      <td>wip</td>\n",
       "      <td>y</td>\n",
       "      <td>NaN</td>\n",
       "      <td>y</td>\n",
       "      <td>y</td>\n",
       "      <td>NaN</td>\n",
       "      <td>NaN</td>\n",
       "      <td>NaN</td>\n",
       "      <td>NaN</td>\n",
       "    </tr>\n",
       "    <tr>\n",
       "      <th>1</th>\n",
       "      <td>1018106</td>\n",
       "      <td>129</td>\n",
       "      <td>United States</td>\n",
       "      <td>USA</td>\n",
       "      <td>840</td>\n",
       "      <td>Illinois</td>\n",
       "      <td>IL</td>\n",
       "      <td>wip</td>\n",
       "      <td>Illinois</td>\n",
       "      <td>IL</td>\n",
       "      <td>wip</td>\n",
       "      <td>y</td>\n",
       "      <td>NaN</td>\n",
       "      <td>y</td>\n",
       "      <td>y</td>\n",
       "      <td>NaN</td>\n",
       "      <td>NaN</td>\n",
       "      <td>NaN</td>\n",
       "      <td>NaN</td>\n",
       "    </tr>\n",
       "  </tbody>\n",
       "</table>\n",
       "</div>"
      ],
      "text/plain": [
       "    amuIds idBlock   country_name country_alpha country_code unit_name  \\\n",
       "0  1018108     129  United States           USA          840      Iowa   \n",
       "1  1018106     129  United States           USA          840  Illinois   \n",
       "\n",
       "  unit_alpha unit_code state_name state_alpha state_code Prec TempAvg TempMin  \\\n",
       "0         IA       wip       Iowa          IA        wip    y     NaN       y   \n",
       "1         IL       wip   Illinois          IL        wip    y     NaN       y   \n",
       "\n",
       "  TempMax TempSurf Soil Humi  VVI  \n",
       "0       y      NaN  NaN  NaN  NaN  \n",
       "1       y      NaN  NaN  NaN  NaN  "
      ]
     },
     "execution_count": 17,
     "metadata": {},
     "output_type": "execute_result"
    }
   ],
   "source": [
    "sel_states=['IL','IA']\n",
    "sel_df=uw.get_w_sel_df()\n",
    "\n",
    "if True:\n",
    "    test=sel_df[sel_df['state_alpha'].isin(sel_states)]\n",
    "else:\n",
    "    sel_df=sel_df.set_index('state_alpha',drop=False)\n",
    "    test=sel_df.loc[sel_states]\n",
    "\n",
    "\n",
    "test\n"
   ]
  }
 ],
 "metadata": {
  "interpreter": {
   "hash": "81806929c4ea32b87193d389f5f734f17a32767e49f2b419faebda3ef5b9cfb7"
  },
  "kernelspec": {
   "display_name": "Python 3.9.7 ('base')",
   "language": "python",
   "name": "python3"
  },
  "language_info": {
   "codemirror_mode": {
    "name": "ipython",
    "version": 3
   },
   "file_extension": ".py",
   "mimetype": "text/x-python",
   "name": "python",
   "nbconvert_exporter": "python",
   "pygments_lexer": "ipython3",
   "version": "3.9.7"
  },
  "orig_nbformat": 4
 },
 "nbformat": 4,
 "nbformat_minor": 2
}
