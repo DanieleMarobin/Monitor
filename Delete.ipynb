{
 "cells": [
  {
   "cell_type": "code",
   "execution_count": 1,
   "metadata": {},
   "outputs": [],
   "source": [
    "%load_ext autoreload\n",
    "%autoreload 2"
   ]
  },
  {
   "cell_type": "code",
   "execution_count": 2,
   "metadata": {},
   "outputs": [
    {
     "name": "stderr",
     "output_type": "stream",
     "text": [
      "<frozen importlib._bootstrap>:228: RuntimeWarning: scipy._lib.messagestream.MessageStream size changed, may indicate binary incompatibility. Expected 56 from C header, got 64 from PyObject\n"
     ]
    }
   ],
   "source": [
    "import pandas as pd\n",
    "import numpy as np\n",
    "\n",
    "import Models.Corn_USA_Yield as cy\n",
    "import Utilities.GLOBAL as GV\n",
    "import Utilities.Weather as uw\n",
    "import Utilities.SnD as us\n",
    "from datetime import datetime as dt"
   ]
  },
  {
   "cell_type": "code",
   "execution_count": 3,
   "metadata": {},
   "outputs": [
    {
     "data": {
      "text/plain": [
       "dict_keys(['geo_df', 'geo_input_file', 'geo_output_column', 'w_vars', 'years'])"
      ]
     },
     "execution_count": 3,
     "metadata": {},
     "output_type": "execute_result"
    }
   ],
   "source": [
    "scope = cy.Define_Scope()\n",
    "scope.keys()"
   ]
  },
  {
   "cell_type": "code",
   "execution_count": 4,
   "metadata": {},
   "outputs": [
    {
     "data": {
      "text/plain": [
       "dict_keys(['yield', 'planting_progress', 'silking_progress', 'w_df_all', 'locations', 'weights', 'w_w_df_all'])"
      ]
     },
     "execution_count": 4,
     "metadata": {},
     "output_type": "execute_result"
    }
   ],
   "source": [
    "raw_data = cy.Get_Data(scope)\n",
    "raw_data.keys()"
   ]
  },
  {
   "cell_type": "code",
   "execution_count": 6,
   "metadata": {},
   "outputs": [
    {
     "name": "stdout",
     "output_type": "stream",
     "text": [
      "                            OLS Regression Results                            \n",
      "==============================================================================\n",
      "Dep. Variable:                  Yield   R-squared:                       0.976\n",
      "Model:                            OLS   Adj. R-squared:                  0.968\n",
      "Method:                 Least Squares   F-statistic:                     122.8\n",
      "Date:                Fri, 17 Jun 2022   Prob (F-statistic):           1.53e-19\n",
      "Time:                        14:51:22   Log-Likelihood:                -99.986\n",
      "No. Observations:                  37   AIC:                             220.0\n",
      "Df Residuals:                      27   BIC:                             236.1\n",
      "Df Model:                           9                                         \n",
      "Covariance Type:            nonrobust                                         \n",
      "===========================================================================================\n",
      "                              coef    std err          t      P>|t|      [0.025      0.975]\n",
      "-------------------------------------------------------------------------------------------\n",
      "const                   -3746.4375    140.254    -26.712      0.000   -4034.216   -3458.659\n",
      "Trend                       1.8619      0.070     26.475      0.000       1.718       2.006\n",
      "Planted pct on May 15th     0.2074      0.074      2.807      0.009       0.056       0.359\n",
      "Planting Prec               0.5103      0.140      3.650      0.001       0.223       0.797\n",
      "Planting Prec Squared      -0.0006      0.000     -2.544      0.017      -0.001      -0.000\n",
      "Jul Aug Prec                0.7676      0.154      4.988      0.000       0.452       1.083\n",
      "Jul Aug Prec Squared       -0.0010      0.000     -5.224      0.000      -0.001      -0.001\n",
      "Prec Interaction           -0.0009      0.000     -2.394      0.024      -0.002      -0.000\n",
      "Pollination SDD            -0.1939      0.053     -3.686      0.001      -0.302      -0.086\n",
      "Regular SDD                -0.1249      0.042     -3.000      0.006      -0.210      -0.039\n",
      "==============================================================================\n",
      "Omnibus:                        3.377   Durbin-Watson:                   1.336\n",
      "Prob(Omnibus):                  0.185   Jarque-Bera (JB):                2.851\n",
      "Skew:                          -0.677   Prob(JB):                        0.240\n",
      "Kurtosis:                       2.878   Cond. No.                     2.17e+07\n",
      "==============================================================================\n",
      "\n",
      "Notes:\n",
      "[1] Standard Errors assume that the covariance matrix of the errors is correctly specified.\n",
      "[2] The condition number is large, 2.17e+07. This might indicate that there are\n",
      "strong multicollinearity or other numerical problems.\n"
     ]
    }
   ],
   "source": [
    "processed_data = cy.Process_Data(scope,raw_data)\n",
    "instructions = cy.Build_Model_DF_Instructions('weighted',GV.WD_HIST, prec_units='mm', temp_units='C')\n",
    "df = cy.Build_Model_DF(scope, raw_data, processed_data, instructions)\n",
    "model = cy.Fit_Model(df,'Yield',GV.CUR_YEAR)\n",
    "print(model.summary())"
   ]
  },
  {
   "cell_type": "code",
   "execution_count": null,
   "metadata": {},
   "outputs": [],
   "source": []
  },
  {
   "cell_type": "code",
   "execution_count": null,
   "metadata": {},
   "outputs": [],
   "source": [
    "date_start = dt(2022,6,10)\n",
    "date_end = raw_data['w_w_df_all'][GV.WD_H_GFS].index[-1]   \n",
    "\n",
    "days = list(pd.date_range(date_start, date_end))\n",
    "\n",
    "df.loc[[1985,1987]]\n",
    "\n",
    "df_pred = pd.DataFrame(columns= df.columns,index=days)\n",
    "df_pred"
   ]
  },
  {
   "cell_type": "code",
   "execution_count": null,
   "metadata": {},
   "outputs": [],
   "source": [
    "uw.open_w_sel_file()"
   ]
  },
  {
   "cell_type": "code",
   "execution_count": null,
   "metadata": {},
   "outputs": [],
   "source": []
  }
 ],
 "metadata": {
  "interpreter": {
   "hash": "81806929c4ea32b87193d389f5f734f17a32767e49f2b419faebda3ef5b9cfb7"
  },
  "kernelspec": {
   "display_name": "Python 3.9.7 ('base')",
   "language": "python",
   "name": "python3"
  },
  "language_info": {
   "codemirror_mode": {
    "name": "ipython",
    "version": 3
   },
   "file_extension": ".py",
   "mimetype": "text/x-python",
   "name": "python",
   "nbconvert_exporter": "python",
   "pygments_lexer": "ipython3",
   "version": "3.9.7"
  },
  "orig_nbformat": 4,
  "vscode": {
   "interpreter": {
    "hash": "a9960baf88259386db57c734c8604c8e4ab789688672644b3cf73fda24b112c6"
   }
  }
 },
 "nbformat": 4,
 "nbformat_minor": 2
}
