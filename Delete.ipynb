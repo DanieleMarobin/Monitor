{
 "cells": [
  {
   "cell_type": "code",
   "execution_count": 1,
   "metadata": {},
   "outputs": [],
   "source": [
    "%load_ext autoreload\n",
    "%autoreload 2"
   ]
  },
  {
   "cell_type": "code",
   "execution_count": 2,
   "metadata": {},
   "outputs": [
    {
     "name": "stdout",
     "output_type": "stream",
     "text": [
      "Files:\n",
      "DriveG (1-17nkObh2iq9wsXlXU4KYFJmgUMht2jW)\n",
      "data1.csv (1-9gxgzoHZZolJ1jCRUBCesdw-Io7iTe3)\n",
      "FileName_id (1H8SJs3o1Kv8wf3cAkPffNNnjCf7fy1J7sbwVYg6JRUE)\n",
      "Scripts (1_JtPPiQpbk-8j_exs2Plg9iWhXV8ZZ0z)\n",
      "HomeLaptop (1KtpAtxxxmRiWHFeIkgaITqCncbdEjyyh)\n",
      "Prices (1nm0LvuZY2V7jQHA2EZuk1exGU0F4r-HT)\n",
      "data2.csv (1-7mnO-RX9GiCWsLqF5ngo0a4Z5o4je3W)\n",
      "si2,0.csv (1dWZkKoknSvOS2PKkxGmIyh5HtYYd1HZ3)\n",
      "w 1,0.csv (18aOTg69oQkePJke_5UfVwaR9KpnOh2R7)\n",
      "w 2,0.csv (1Izbsg_6PaZpzgDnM4smznXIl8F5GBl4t)\n"
     ]
    }
   ],
   "source": [
    "from __future__ import print_function\n",
    "\n",
    "import os.path\n",
    "\n",
    "from google.auth.transport.requests import Request\n",
    "from google.oauth2.credentials import Credentials\n",
    "from google_auth_oauthlib.flow import InstalledAppFlow\n",
    "from googleapiclient.discovery import build\n",
    "from googleapiclient.errors import HttpError\n",
    "\n",
    "# If modifying these scopes, delete the file token.json.\n",
    "# SCOPES = ['https://www.googleapis.com/auth/drive.metadata.readonly']\n",
    "SCOPES = ['https://www.googleapis.com/auth/drive']\n",
    "\n",
    "creds = None\n",
    "# The file token.json stores the user's access and refresh tokens, and is\n",
    "# created automatically when the authorization flow completes for the first\n",
    "# time.\n",
    "if os.path.exists('token.json'):\n",
    "    creds = Credentials.from_authorized_user_file('token.json', SCOPES)\n",
    "# If there are no (valid) credentials available, let the user log in.\n",
    "if not creds or not creds.valid:\n",
    "    if creds and creds.expired and creds.refresh_token:\n",
    "        creds.refresh(Request())\n",
    "    else:\n",
    "        flow = InstalledAppFlow.from_client_secrets_file(\n",
    "            'credentials.json', SCOPES)\n",
    "        creds = flow.run_local_server(port=0)\n",
    "    # Save the credentials for the next run\n",
    "    with open('token.json', 'w') as token:\n",
    "        token.write(creds.to_json())\n",
    "\n",
    "try:\n",
    "    service = build('drive', 'v3', credentials=creds)\n",
    "\n",
    "    # Call the Drive v3 API\n",
    "    results = service.files().list(\n",
    "        pageSize=10, fields=\"nextPageToken, files(id, name)\").execute()\n",
    "    items = results.get('files', [])\n",
    "\n",
    "    if not items:\n",
    "        print('No files found.')\n",
    "        \n",
    "    print('Files:')\n",
    "    for item in items:\n",
    "        print(u'{0} ({1})'.format(item['name'], item['id']))\n",
    "except HttpError as error:\n",
    "    # TODO(developer) - Handle errors from drive API.\n",
    "    print(f'An error occurred: {error}')"
   ]
  },
  {
   "cell_type": "code",
   "execution_count": null,
   "metadata": {},
   "outputs": [],
   "source": [
    "import io"
   ]
  },
  {
   "cell_type": "code",
   "execution_count": null,
   "metadata": {},
   "outputs": [],
   "source": [
    "import pandas as pd"
   ]
  },
  {
   "cell_type": "code",
   "execution_count": null,
   "metadata": {},
   "outputs": [],
   "source": [
    "file_id = '1-7mnO-RX9GiCWsLqF5ngo0a4Z5o4je3W'\n",
    "path = 'https://drive.google.com/uc?export=download&id='+file_id\n",
    "df = pd.read_csv(path)\n",
    "df"
   ]
  },
  {
   "cell_type": "code",
   "execution_count": null,
   "metadata": {},
   "outputs": [],
   "source": [
    "https://stackoverflow.com/questions/52135293/google-drive-api-the-user-has-not-granted-the-app-error"
   ]
  },
  {
   "cell_type": "code",
   "execution_count": null,
   "metadata": {},
   "outputs": [],
   "source": [
    "https://discuss.streamlit.io/t/google-drive-csv-file-link-to-pandas-dataframe/8057"
   ]
  },
  {
   "cell_type": "code",
   "execution_count": null,
   "metadata": {},
   "outputs": [],
   "source": [
    "https://developers.google.com/drive/api/v2/reference/files/get"
   ]
  },
  {
   "cell_type": "code",
   "execution_count": null,
   "metadata": {},
   "outputs": [],
   "source": [
    "from apiclient import errors\n",
    "from apiclient import http\n",
    "# ...\n",
    "\n",
    "def print_file_metadata(service, file_id):\n",
    "  \"\"\"Print a file's metadata.\n",
    "\n",
    "  Args:\n",
    "    service: Drive API service instance.\n",
    "    file_id: ID of the file to print metadata for.\n",
    "  \"\"\"\n",
    "\n",
    "  return(service.files().get(fileId=file_id).execute())\n",
    "\n",
    "\n",
    "def print_file_content(service, file_id):\n",
    "  \"\"\"Print a file's content.\n",
    "\n",
    "  Args:\n",
    "    service: Drive API service instance.\n",
    "    file_id: ID of the file.\n",
    "\n",
    "  Returns:\n",
    "    File's content if successful, None otherwise.\n",
    "  \"\"\"\n",
    "  # print (service.files().get_media(fileId=file_id).execute())\n",
    "  return service.files().get_media(fileId=file_id).execute()\n",
    "\n",
    "\n",
    "def download_file(service, file_id, local_fd):\n",
    "  \"\"\"Download a Drive file's content to the local filesystem.\n",
    "\n",
    "  Args:\n",
    "    service: Drive API Service instance.\n",
    "    file_id: ID of the Drive file that will downloaded.\n",
    "    local_fd: io.Base or file object, the stream that the Drive file's\n",
    "        contents will be written to.\n",
    "  \"\"\"\n",
    "  request = service.files().get_media(fileId=file_id)\n",
    "  media_request = http.MediaIoBaseDownload(local_fd, request)\n",
    "\n",
    "  while True:\n",
    "    download_progress, done = media_request.next_chunk()\n",
    "\n",
    "    if download_progress:\n",
    "      print ('Download Progress: %d%%' % int(download_progress.progress() * 100))\n",
    "    if done:\n",
    "      print ('Download Complete')\n",
    "      return"
   ]
  },
  {
   "cell_type": "code",
   "execution_count": null,
   "metadata": {},
   "outputs": [],
   "source": [
    "file_id='1dWZkKoknSvOS2PKkxGmIyh5HtYYd1HZ3'\n",
    "\n",
    "test=pd.read_csv(print_file_content(service,file_id))\n",
    "\n",
    "# f = open(\"test.csv\", \"r\", encoding=\"utf-8\")\n",
    "\n",
    "# download_file(service,file_id, test)\n",
    "test"
   ]
  },
  {
   "cell_type": "code",
   "execution_count": null,
   "metadata": {},
   "outputs": [],
   "source": []
  },
  {
   "cell_type": "code",
   "execution_count": null,
   "metadata": {},
   "outputs": [],
   "source": []
  },
  {
   "cell_type": "code",
   "execution_count": null,
   "metadata": {},
   "outputs": [],
   "source": []
  }
 ],
 "metadata": {
  "interpreter": {
   "hash": "81806929c4ea32b87193d389f5f734f17a32767e49f2b419faebda3ef5b9cfb7"
  },
  "kernelspec": {
   "display_name": "Python 3.9.7 ('base')",
   "language": "python",
   "name": "python3"
  },
  "language_info": {
   "codemirror_mode": {
    "name": "ipython",
    "version": 3
   },
   "file_extension": ".py",
   "mimetype": "text/x-python",
   "name": "python",
   "nbconvert_exporter": "python",
   "pygments_lexer": "ipython3",
   "version": "3.9.7"
  },
  "orig_nbformat": 4
 },
 "nbformat": 4,
 "nbformat_minor": 2
}
