{
 "cells": [
  {
   "cell_type": "code",
   "execution_count": 23,
   "metadata": {},
   "outputs": [
    {
     "name": "stdout",
     "output_type": "stream",
     "text": [
      "The autoreload extension is already loaded. To reload it, use:\n",
      "  %reload_ext autoreload\n"
     ]
    }
   ],
   "source": [
    "%load_ext autoreload\n",
    "%autoreload 2"
   ]
  },
  {
   "cell_type": "code",
   "execution_count": 24,
   "metadata": {},
   "outputs": [],
   "source": [
    "import APIs.GDrive as gd"
   ]
  },
  {
   "cell_type": "code",
   "execution_count": 25,
   "metadata": {},
   "outputs": [
    {
     "name": "stdout",
     "output_type": "stream",
     "text": [
      "data1.csv (1-9gxgzoHZZolJ1jCRUBCesdw-Io7iTe3)\n",
      "FileName_id (1H8SJs3o1Kv8wf3cAkPffNNnjCf7fy1J7sbwVYg6JRUE)\n",
      "DriveG (1-17nkObh2iq9wsXlXU4KYFJmgUMht2jW)\n",
      "Scripts (1_JtPPiQpbk-8j_exs2Plg9iWhXV8ZZ0z)\n",
      "HomeLaptop (1KtpAtxxxmRiWHFeIkgaITqCncbdEjyyh)\n"
     ]
    }
   ],
   "source": [
    "gd_files = gd.get_gdrive_files_metadata()\n",
    "\n",
    "for file in gd_files:\n",
    "    print(u'{0} ({1})'.format(file['name'], file['id']))"
   ]
  },
  {
   "cell_type": "code",
   "execution_count": null,
   "metadata": {},
   "outputs": [],
   "source": []
  }
 ],
 "metadata": {
  "interpreter": {
   "hash": "a9960baf88259386db57c734c8604c8e4ab789688672644b3cf73fda24b112c6"
  },
  "kernelspec": {
   "display_name": "Python 3.9.7 64-bit",
   "language": "python",
   "name": "python3"
  },
  "language_info": {
   "codemirror_mode": {
    "name": "ipython",
    "version": 3
   },
   "file_extension": ".py",
   "mimetype": "text/x-python",
   "name": "python",
   "nbconvert_exporter": "python",
   "pygments_lexer": "ipython3",
   "version": "3.9.7"
  },
  "orig_nbformat": 4
 },
 "nbformat": 4,
 "nbformat_minor": 2
}
