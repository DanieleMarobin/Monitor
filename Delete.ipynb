{
 "cells": [
  {
   "cell_type": "code",
   "execution_count": 13,
   "metadata": {},
   "outputs": [],
   "source": [
    "%load_ext autoreload\n",
    "%autoreload 2\n",
    "import APIs.GDrive as gd"
   ]
  },
  {
   "cell_type": "code",
   "execution_count": 18,
   "metadata": {},
   "outputs": [],
   "source": [
    "gd_files = gd.get_gdrive_files_metadata()"
   ]
  },
  {
   "cell_type": "code",
   "execution_count": 19,
   "metadata": {},
   "outputs": [
    {
     "name": "stdout",
     "output_type": "stream",
     "text": [
      "data1.csv (1-9gxgzoHZZolJ1jCRUBCesdw-Io7iTe3)\n",
      "FileName_id (1H8SJs3o1Kv8wf3cAkPffNNnjCf7fy1J7sbwVYg6JRUE)\n",
      "DriveG (1-17nkObh2iq9wsXlXU4KYFJmgUMht2jW)\n",
      "Scripts (1_JtPPiQpbk-8j_exs2Plg9iWhXV8ZZ0z)\n",
      "HomeLaptop (1KtpAtxxxmRiWHFeIkgaITqCncbdEjyyh)\n",
      "Prices (1nm0LvuZY2V7jQHA2EZuk1exGU0F4r-HT)\n",
      "data2.csv (1-7mnO-RX9GiCWsLqF5ngo0a4Z5o4je3W)\n",
      "si2,0.csv (1dWZkKoknSvOS2PKkxGmIyh5HtYYd1HZ3)\n",
      "w 1,0.csv (18aOTg69oQkePJke_5UfVwaR9KpnOh2R7)\n",
      "w 2,0.csv (1Izbsg_6PaZpzgDnM4smznXIl8F5GBl4t)\n",
      "sm2,0.csv (1029Y7e97JBvhOX5np1iU1HOAD4-KHMW9)\n",
      "si1,0.csv (1nkxEG4MKjDAhA3hwS0Mrus0YDUbyx_0P)\n",
      "tu1,0.csv (1NP28nxA0VPJnC5GPuIs8FnYdmwm1iwGD)\n",
      "us1,0.csv (12b3k-qv0bpGqU7Xk5sOHTzkVxv92ve7e)\n",
      "z 1,0.csv (1tfTWdUIcR63eNSgQmoDAHvc1wjnwyrms)\n",
      "us2,0.csv (1JlhU9cMu3sKOUtUOwORZ4CIe0OqhSpL8)\n",
      "sm1,0.csv (1JlYeDlVmPVxeyoEWxUWlDFyRmWgRt6aN)\n",
      "ty1,0.csv (16m5u1WHqbfTNiuSVsAm0Mp-p-KFEFpQG)\n",
      "rx1,0.csv (1wI660pJg9ApW5U2uT3E_EYRnEcnxB2S-)\n",
      "sf1,0.csv (1cZ7i-B3eWTbmmpy4xqPlSiudSUxDw_TE)\n",
      "s 2,0.csv (121FGF4AvHDjBkqhrmcM28vll_9qChCKG)\n",
      "ty2,0.csv (1Tj3qw1R9bPxFoJcseFSDMr4Fe_szxt6C)\n",
      "s 1,0.csv (1kMptBanoiFm9i1jFu652wMefdQXP_Rvb)\n",
      "rs2,0.csv (1XZyx-So551rOVbTTUFt-x0l1qUtJa0Tb)\n",
      "qs1,0.csv (1LDQfpubDe7v0O-KpiV7zu2MEm1R3GJOE)\n",
      "sb2,0.csv (1JZKQtY_DbiF3_qtrWbS0vd57hFu17crg)\n",
      "sb1,0.csv (1SEQlTtYB6xf_RP-gVTZQwSLKSfws1FQb)\n",
      "rs1,0.csv (18mCWkez9GS7JUdJbbd87cOoBcW4-c4Nw)\n",
      "pl1,0.csv (1gxH_kumwvmKyhrFXzxHAqdhB4lgt_TjJ)\n",
      "qw1,0.csv (1rfexchkFaInxuq7to3QNSQVWBxmoeBkA)\n",
      "pa1,0.csv (1RcMg4A8IZ9i48Nn6Cke0zEj_IoGzkT07)\n",
      "mw1,0.csv (1GFXbutl40IDT1qsIQhrBFL18zRSIaqEs)\n",
      "ng1,0.csv (1ycGVJKAK5U3YbxCVA1m-Z1lntmg6aVQh)\n",
      "qc1,0.csv (1FPeqsfAZNCZyKNoJNcNifaQHC3Q62Aqm)\n",
      "kw2,0.csv (1MZKvciE-vckX68FTMriVYWp2G1Sjn9NK)\n",
      "kw1,0.csv (1yM2x6YRjtCqREuAB21vYHphm1mgxQCvl)\n",
      "lc2,0.csv (1_pHfh7cpyErtFRmRJQ91ge2kGDA4hcbY)\n",
      "lh1,0.csv (1RVOu-b7KAhOkvgPWx3xM98NXKtIOnLDJ)\n",
      "oe1,0.csv (1FTBuhtWIRgS01w_VC4TcvOTmejvqlSjs)\n",
      "kc2,0.csv (110bn_XEbDzFX5KSUwPg8X_RCqX97ol9H)\n",
      "kc1,0.csv (1__BwCF-AmkDFx75lAGX6t_cbV2wGLMxc)\n",
      "jy1,0.csv (1HlhMsGyhChFQtH5tFiUBljt6Cdrw4EAO)\n",
      "lc1,0.csv (1gVUmvO5oxJfbV62nCSZ_P1B34FDKqjLt)\n",
      "gx1,0.csv (1sTOHSW5743Un52yhgpUYJGfe_-Up9TlP)\n",
      "gc1,0.csv (1W0AnPqKEzfwKQzEdiFv1dRlcINu2TYgZ)\n",
      "gc2,0.csv (1kpWmAHAjZdPn67NO4VPTrBktp68U06iJ)\n",
      "ho1,0.csv (1NaDPpB1O_7qrE47_OzlS78hsz4CDY_vj)\n",
      "hg1,0.csv (1xHEouXW6aSDaD56yaMFTF37r3gRu_f_y)\n",
      "g 2,0.csv (1MMeHpcrLsGPJxA8QqXLK9G9OstOFQKtM)\n",
      "dx1,0.csv (1CZvrWJd6hk6ojOteb5mJ_8Xd7NYUW8Bi)\n",
      "g 1,0.csv (19AxKNWV2Ii70EhK7v6j6QHouwf7pUQ-8)\n",
      "ct1,0.csv (1cQoDD33PfQOjxgKXkZtve2IUYC44e3RJ)\n",
      "fv1,0.csv (1pd_dURpv7syshiXsAdI1u4Oul3bKBhqz)\n",
      "ct2,0.csv (1dgMLgMpQTZJC6DBabygQqul9dVQWHOry)\n",
      "df1,0.csv (1xjvP0mju2-JhfgC_Cj5NJV0JjhpVb5n5)\n",
      "co1,0.csv (1W-mLIq-I1G72xGvtRneRH3pLFKA9nNCc)\n",
      "cc2,0.csv (1qz4jh25GIW6CUOfQ1i_ubGeD5M6nWgQZ)\n",
      "cl2,0.csv (1q-vKnEqeuL86hjjWBPaBtrXUazPtrg6G)\n",
      "cd1,0.csv (1WIxJX0lWY07fp9BHUe1Kpf_qrzVYgHJ6)\n",
      "bpf,2018.csv (1AD6yOlYtKH8p0CHhHKaspF3-eygaI8eS)\n",
      "cl1,0.csv (1a9Y4h1psw6Y9-cWamsFuZYMTm_sSw5kh)\n",
      "bp2,0.csv (17TJEGBj1WXfOmVa4UCJBqHWwCbgercjJ)\n",
      "c 2,0.csv (1yVRMxUj_P2LlbohVfwk-PnVhWTpqOYAy)\n",
      "cc1,0.csv (1HHpR-eTeL3MrpLg8rIXY7yuDnaQEXGCS)\n",
      "c 1,0.csv (1p-GmVf2ALwJqW3fU7y1a1Aej1KvBBodI)\n",
      "adh,2019.csv (1OiBM_MHf67LkUWUk-tD3l1v20g8mA6je)\n",
      "boh,2011.csv (1lklTOZ-LjPULHFVNsjMN3wCfsfnYvB68)\n",
      "bok,2020.csv (1oBO8gicnbxpnQCUqHatUJVI1aZ1uZ-ab)\n",
      "bon,1997.csv (1VCTWyrQodb3kC2ULUMAgfiFmODj4kRbC)\n",
      "adm,1987.csv (1ylT7OotLPQsd0Z-OjyWWGFWp9bjo8gVO)\n",
      "boz,1997.csv (1l5FN4adZIPKLa46jltWmeZCih-fj7R7y)\n",
      "boq,1988.csv (1dhN0xeIxVA91wasg3LVU4eHLSh9l2Nq4)\n",
      "boq,2015.csv (1v8HOoOL4zKERHmNVBogNGh51kJl_LBKC)\n",
      "boz,2022.csv (1AKW2glqoQc-c4w9Botea_5Juosf1TGh3)\n",
      "adu,2017.csv (1S7snF82XlqGvRDwElw45gsw17UD4G796)\n",
      "boz,1979.csv (1u1ggrK_c9aGuww4z9X5CgAwAFaqVnI4J)\n",
      "bou,2011.csv (1HmsFuZYnK5MWLTQlVq_WXvfB7DkO0DL7)\n",
      "adh,2014.csv (1z_BeGm12IB2OPjD6nYedDK4bLXxg_vmt)\n",
      "adm,2000.csv (1gGoUEuHty86bxntiIBr5a2dqwHFl8d6n)\n",
      "bof,2015.csv (1PYJXhdxJ4RLB9kKGj1O-LZ6rNIf_N9w7)\n",
      "bof,2009.csv (16chlKa-0xoMpr0XQEODwgndhx_4KQT1B)\n",
      "bon,1986.csv (1c9lap5LRb_ALaPtb7--0Y_I_hsGtFrCb)\n",
      "bon,1971.csv (1nJZALOUOCsDC7JqL0lSbgMoAdf_IRCIC)\n",
      "bpm,2011.csv (1WgjuYRWh9AptoVi8KKjf4cUJtZd5jw8j)\n",
      "adz,2005.csv (1ykzgA8C2Ve0dL8kjD1sjmjo0PdACM5L9)\n",
      "adq,2022.csv (1jvkLSrxCiSCEyfX6QIK8KKCV8chWk0IX)\n",
      "bok,2011.csv (1KEr9Eq3xzsJqUajZLB0OH1KKzD47GKoR)\n",
      "bou,2009.csv (15HEhIsh57trRVHLtZEhciruuN795nmnD)\n",
      "boz,1990.csv (11_Q4R4zfIRhmZBoj8mOuNu9Rc-r5wsMg)\n",
      "bph,1994.csv (1R0AjKxbE_WhSViwCDO4iBW9yqFCRykk6)\n",
      "boh,1994.csv (1pHaLfQZRNcd8lQVf57Z0w4bS7gIYEBFl)\n",
      "bpm,1998.csv (1noKuTww6FxzxXuiHt2pDa_1Bq61ZuNSO)\n",
      "bov,1984.csv (1-OOShkwYa5Bft_fHXU9tGG8rK5PQm9KA)\n",
      "adh,1990.csv (1_3TfmVZxsXLBcVo9J0SMulZFEL-RJSOL)\n",
      "bov,1967.csv (1V0kq3CtLI0tpLe9icAPM7EwWNLJbTnW_)\n",
      "bpm,1997.csv (1JwExqic8mHYRmziAf2vz_FlEja2Cqr5X)\n",
      "bov,1962.csv (1d-TUdm3hdcRDkhY5NDG60909HlQR3Thm)\n",
      "boq,2019.csv (1OouqvqxfixKXx1MLWE8VU2RhFK8VcpDo)\n",
      "adm,2022.csv (1jhb4cd9TpUeIzIV4kD1NdRY6y22DWh2B)\n",
      "bph,2002.csv (1hmc-CkjLwTPO0kcorrJ0Zy4gCjxPPUjs)\n"
     ]
    }
   ],
   "source": [
    "for file in gd_files:\n",
    "    print(u'{0} ({1})'.format(file['name'], file['id']))"
   ]
  },
  {
   "cell_type": "code",
   "execution_count": null,
   "metadata": {},
   "outputs": [],
   "source": []
  }
 ],
 "metadata": {
  "interpreter": {
   "hash": "a9960baf88259386db57c734c8604c8e4ab789688672644b3cf73fda24b112c6"
  },
  "kernelspec": {
   "display_name": "Python 3.9.7 64-bit",
   "language": "python",
   "name": "python3"
  },
  "language_info": {
   "codemirror_mode": {
    "name": "ipython",
    "version": 3
   },
   "file_extension": ".py",
   "mimetype": "text/x-python",
   "name": "python",
   "nbconvert_exporter": "python",
   "pygments_lexer": "ipython3",
   "version": "3.9.7"
  },
  "orig_nbformat": 4
 },
 "nbformat": 4,
 "nbformat_minor": 2
}
