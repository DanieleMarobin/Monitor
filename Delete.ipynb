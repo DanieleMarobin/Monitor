{
 "cells": [
  {
   "cell_type": "code",
   "execution_count": 1,
   "metadata": {},
   "outputs": [],
   "source": [
    "%load_ext autoreload\n",
    "%autoreload 2"
   ]
  },
  {
   "cell_type": "code",
   "execution_count": 53,
   "metadata": {},
   "outputs": [],
   "source": [
    "import pandas as pd\n",
    "import Models.Corn_USA_Yield as cy\n",
    "import Utilities.GLOBAL as GV\n",
    "import Utilities.Weather as uw\n",
    "import Utilities.SnD as us\n",
    "from datetime import datetime as dt"
   ]
  },
  {
   "cell_type": "code",
   "execution_count": null,
   "metadata": {},
   "outputs": [],
   "source": [
    "scope = cy.Define_Scope()\n",
    "raw_data = cy.Get_Data(scope['geo'], scope['w_vars'], scope['years'])\n",
    "df = cy.Build_Model_DF(raw_data)\n",
    "model = cy.Fit_Model(df,'Yield',GV.CUR_YEAR)\n",
    "print(model.summary())"
   ]
  },
  {
   "cell_type": "code",
   "execution_count": 54,
   "metadata": {},
   "outputs": [],
   "source": [
    "date_start = dt(2022,6,10)"
   ]
  },
  {
   "cell_type": "code",
   "execution_count": 58,
   "metadata": {},
   "outputs": [
    {
     "data": {
      "text/plain": [
       "[Timestamp('2022-06-10 00:00:00', freq='D'),\n",
       " Timestamp('2022-06-11 00:00:00', freq='D'),\n",
       " Timestamp('2022-06-12 00:00:00', freq='D'),\n",
       " Timestamp('2022-06-13 00:00:00', freq='D'),\n",
       " Timestamp('2022-06-14 00:00:00', freq='D'),\n",
       " Timestamp('2022-06-15 00:00:00', freq='D'),\n",
       " Timestamp('2022-06-16 00:00:00', freq='D'),\n",
       " Timestamp('2022-06-17 00:00:00', freq='D'),\n",
       " Timestamp('2022-06-18 00:00:00', freq='D'),\n",
       " Timestamp('2022-06-19 00:00:00', freq='D'),\n",
       " Timestamp('2022-06-20 00:00:00', freq='D'),\n",
       " Timestamp('2022-06-21 00:00:00', freq='D'),\n",
       " Timestamp('2022-06-22 00:00:00', freq='D'),\n",
       " Timestamp('2022-06-23 00:00:00', freq='D'),\n",
       " Timestamp('2022-06-24 00:00:00', freq='D'),\n",
       " Timestamp('2022-06-25 00:00:00', freq='D'),\n",
       " Timestamp('2022-06-26 00:00:00', freq='D'),\n",
       " Timestamp('2022-06-27 00:00:00', freq='D'),\n",
       " Timestamp('2022-06-28 00:00:00', freq='D'),\n",
       " Timestamp('2022-06-29 00:00:00', freq='D'),\n",
       " Timestamp('2022-06-30 00:00:00', freq='D'),\n",
       " Timestamp('2022-07-01 00:00:00', freq='D')]"
      ]
     },
     "execution_count": 58,
     "metadata": {},
     "output_type": "execute_result"
    }
   ],
   "source": [
    "df_pred = pd.DataFrame(columns= df.columns)\n",
    "\n",
    "date_end = raw_data['w_w_df_all'][GV.WD_H_GFS].index[-1]   \n",
    "\n",
    "days= list(pd.date_range(date_start, date_end))\n",
    "days"
   ]
  },
  {
   "cell_type": "code",
   "execution_count": null,
   "metadata": {},
   "outputs": [],
   "source": []
  }
 ],
 "metadata": {
  "kernelspec": {
   "display_name": "Python 3.9.7 64-bit",
   "language": "python",
   "name": "python3"
  },
  "language_info": {
   "codemirror_mode": {
    "name": "ipython",
    "version": 3
   },
   "file_extension": ".py",
   "mimetype": "text/x-python",
   "name": "python",
   "nbconvert_exporter": "python",
   "pygments_lexer": "ipython3",
   "version": "3.9.7"
  },
  "orig_nbformat": 4,
  "vscode": {
   "interpreter": {
    "hash": "a9960baf88259386db57c734c8604c8e4ab789688672644b3cf73fda24b112c6"
   }
  }
 },
 "nbformat": 4,
 "nbformat_minor": 2
}
